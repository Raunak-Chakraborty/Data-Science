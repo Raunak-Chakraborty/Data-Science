{
 "cells": [
  {
   "cell_type": "markdown",
   "id": "25f2f493",
   "metadata": {},
   "source": [
    "# 1. Write a function that stutters a word as if someone is struggling to read it. The first two letters are repeated twice with '...' and space after each, and then the word is pronounced with a question mark ?"
   ]
  },
  {
   "cell_type": "code",
   "execution_count": 11,
   "id": "d45f9080",
   "metadata": {},
   "outputs": [
    {
     "name": "stdout",
     "output_type": "stream",
     "text": [
      "wu... wu... wubbalubbadubdub?\n"
     ]
    }
   ],
   "source": [
    "def stutter(a):\n",
    "    if (len(a) > 2 and a.islower() and a.isalpha()):\n",
    "        print(a[:2] + '... ' + a[:2] + '... ' + a + '?')\n",
    "    \n",
    "stutter('wubbalubbadubdub')"
   ]
  },
  {
   "cell_type": "markdown",
   "id": "4bca80e5",
   "metadata": {},
   "source": [
    "# 2. Create a function that takes an angle in radians and returns the corresponding angle in degrees rounded to one decimal place."
   ]
  },
  {
   "cell_type": "code",
   "execution_count": 18,
   "id": "578a0821",
   "metadata": {},
   "outputs": [
    {
     "data": {
      "text/plain": [
       "57.3"
      ]
     },
     "execution_count": 18,
     "metadata": {},
     "output_type": "execute_result"
    }
   ],
   "source": [
    "def rad_to_degree(b):\n",
    "    import math\n",
    "    deg = (180/math.pi) * b\n",
    "    return round(deg, 1)\n",
    "\n",
    "rad_to_degree(1)"
   ]
  },
  {
   "cell_type": "markdown",
   "id": "2500a712",
   "metadata": {},
   "source": [
    "# 3. Establish if a given integer num is a Curzon number. Given a non-negative integer num, implement a function that returns True if num is a Curzon number, or False otherwise."
   ]
  },
  {
   "cell_type": "code",
   "execution_count": 23,
   "id": "9edf3d83",
   "metadata": {},
   "outputs": [
    {
     "name": "stdout",
     "output_type": "stream",
     "text": [
      "True\n"
     ]
    }
   ],
   "source": [
    "def curzon_check(c):\n",
    "    if c > 0:\n",
    "        num = (2)**c + 1\n",
    "        den = (2*c) + 1\n",
    "        if num % den == 0:\n",
    "            print(bool(1))\n",
    "        else:\n",
    "            print(bool(0))\n",
    "    else:\n",
    "        print('The Number should be Positive !!!')\n",
    "        \n",
    "curzon_check(5)"
   ]
  },
  {
   "cell_type": "markdown",
   "id": "48e91518",
   "metadata": {},
   "source": [
    "# 4. Given the side length x, find the area of a hexagon."
   ]
  },
  {
   "cell_type": "code",
   "execution_count": 24,
   "id": "95a7a2aa",
   "metadata": {},
   "outputs": [
    {
     "data": {
      "text/plain": [
       "23.382685902179844"
      ]
     },
     "execution_count": 24,
     "metadata": {},
     "output_type": "execute_result"
    }
   ],
   "source": [
    "def hexa_area(x):\n",
    "    area = (3 * (3)**0.5 * (x)**2)/2\n",
    "    return area\n",
    "\n",
    "hexa_area(3)"
   ]
  },
  {
   "cell_type": "markdown",
   "id": "1105ac25",
   "metadata": {},
   "source": [
    "# 5. Create a function that returns a base-2 (binary) representation of a base-10 (decimal) string number. To convert is simple: ((2) means base-2 and (10) means base-10) 010101001(2) = 1 + 8 + 32 + 128."
   ]
  },
  {
   "cell_type": "code",
   "execution_count": 34,
   "id": "3aa8e67b",
   "metadata": {},
   "outputs": [
    {
     "name": "stdout",
     "output_type": "stream",
     "text": [
      "011000"
     ]
    }
   ],
   "source": [
    "def dec_to_bin(d):\n",
    "    if d >= 1:\n",
    "        dec_to_bin(d//2)\n",
    "    print(d%2, end = '')\n",
    "\n",
    "dec_to_bin(24)"
   ]
  }
 ],
 "metadata": {
  "kernelspec": {
   "display_name": "Python 3",
   "language": "python",
   "name": "python3"
  },
  "language_info": {
   "codemirror_mode": {
    "name": "ipython",
    "version": 3
   },
   "file_extension": ".py",
   "mimetype": "text/x-python",
   "name": "python",
   "nbconvert_exporter": "python",
   "pygments_lexer": "ipython3",
   "version": "3.8.8"
  }
 },
 "nbformat": 4,
 "nbformat_minor": 5
}
