{
 "cells": [
  {
   "cell_type": "markdown",
   "id": "6dcd7c6b",
   "metadata": {},
   "source": [
    "# 1. Create a function that takes a list of strings and integers, and filters out the list so that it returns a list of integers only."
   ]
  },
  {
   "cell_type": "code",
   "execution_count": 1,
   "id": "ab547477",
   "metadata": {},
   "outputs": [
    {
     "data": {
      "text/plain": [
       "[5, 6, 8, 2]"
      ]
     },
     "execution_count": 1,
     "metadata": {},
     "output_type": "execute_result"
    }
   ],
   "source": [
    "def filter(a):\n",
    "    result = []\n",
    "    for i in a:\n",
    "        if type(i) == int:\n",
    "            result.append(i)\n",
    "    return result\n",
    "\n",
    "filter([5,6,8,'ggg','eee',2,'ttt'])"
   ]
  },
  {
   "cell_type": "markdown",
   "id": "aa77b8fc",
   "metadata": {},
   "source": [
    "# 2. Given a list of numbers, create a function which returns the list but with each element's index in the list added to itself. This means you add 0 to the number at index 0, add 1 to the number at index 1, etc..."
   ]
  },
  {
   "cell_type": "code",
   "execution_count": 2,
   "id": "cea2fa45",
   "metadata": {},
   "outputs": [
    {
     "data": {
      "text/plain": [
       "[2, 7, 9, 12, 29, 9]"
      ]
     },
     "execution_count": 2,
     "metadata": {},
     "output_type": "execute_result"
    }
   ],
   "source": [
    "def add_index(b):\n",
    "    for i in range(len(b)):\n",
    "        b[i] += i\n",
    "    return b\n",
    "\n",
    "add_index([2,6,7,9,25,4])        "
   ]
  },
  {
   "cell_type": "markdown",
   "id": "2764a47e",
   "metadata": {},
   "source": [
    "# 3. Create a function that takes the height and radius of a cone as arguments and returns the volume of the cone rounded to the nearest hundredth."
   ]
  },
  {
   "cell_type": "code",
   "execution_count": 4,
   "id": "0fbfb150",
   "metadata": {},
   "outputs": [
    {
     "data": {
      "text/plain": [
       "12.57"
      ]
     },
     "execution_count": 4,
     "metadata": {},
     "output_type": "execute_result"
    }
   ],
   "source": [
    "def vol_cone(r,h):\n",
    "    import math\n",
    "    volume = (math.pi * math.pow(r, 2) * h)/3\n",
    "    return round(volume, 2)\n",
    "\n",
    "vol_cone(2, 3)"
   ]
  },
  {
   "cell_type": "markdown",
   "id": "c9caff35",
   "metadata": {},
   "source": [
    "# 4. This Triangular Number Sequence is generated from a pattern of dots that form a triangle. The first 5 numbers of the sequence, or dots, are: 1, 3, 6, 10, 15. This means that the first triangle has just one dot, the second one has three dots, the third one has 6 dots and so on. Write a function that gives the number of dots with its corresponding triangle number of the sequence."
   ]
  },
  {
   "cell_type": "code",
   "execution_count": 5,
   "id": "d2b6875d",
   "metadata": {},
   "outputs": [
    {
     "data": {
      "text/plain": [
       "23220"
      ]
     },
     "execution_count": 5,
     "metadata": {},
     "output_type": "execute_result"
    }
   ],
   "source": [
    "def tri_dots(c):\n",
    "    result = sum([i for i in range(1, c+1)])\n",
    "    return result\n",
    "\n",
    "tri_dots(215)"
   ]
  },
  {
   "cell_type": "markdown",
   "id": "196aa052",
   "metadata": {},
   "source": [
    "# 5. Create a function that takes a list of numbers between 1 and 10 (excluding one number) and returns the missing number."
   ]
  },
  {
   "cell_type": "code",
   "execution_count": 12,
   "id": "32a6bba8",
   "metadata": {},
   "outputs": [
    {
     "data": {
      "text/plain": [
       "3"
      ]
     },
     "execution_count": 12,
     "metadata": {},
     "output_type": "execute_result"
    }
   ],
   "source": [
    "def missing(d):\n",
    "    import numpy as np\n",
    "    ref = np.arange(1, 11)\n",
    "    result = [i for i in ref if i not in d]\n",
    "    return result[0]\n",
    "\n",
    "missing([1,2,4,5,6,7,8,9,10])"
   ]
  }
 ],
 "metadata": {
  "kernelspec": {
   "display_name": "Python 3",
   "language": "python",
   "name": "python3"
  },
  "language_info": {
   "codemirror_mode": {
    "name": "ipython",
    "version": 3
   },
   "file_extension": ".py",
   "mimetype": "text/x-python",
   "name": "python",
   "nbconvert_exporter": "python",
   "pygments_lexer": "ipython3",
   "version": "3.8.8"
  }
 },
 "nbformat": 4,
 "nbformat_minor": 5
}
