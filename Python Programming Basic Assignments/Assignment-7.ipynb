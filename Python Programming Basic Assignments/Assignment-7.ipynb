{
 "cells": [
  {
   "cell_type": "markdown",
   "id": "dfceefff",
   "metadata": {},
   "source": [
    "Question-1"
   ]
  },
  {
   "cell_type": "code",
   "execution_count": 1,
   "id": "870b6282",
   "metadata": {},
   "outputs": [
    {
     "data": {
      "text/plain": [
       "57"
      ]
     },
     "execution_count": 1,
     "metadata": {},
     "output_type": "execute_result"
    }
   ],
   "source": [
    "def array_sum(a):\n",
    "    sum_tot = 0\n",
    "    for i in range(0, len(a)):\n",
    "        sum_tot += a[i]\n",
    "    return sum_tot\n",
    "\n",
    "array_sum([2, 3, 9, 7, 5, 31])"
   ]
  },
  {
   "cell_type": "markdown",
   "id": "68d44da9",
   "metadata": {},
   "source": [
    "Question-2"
   ]
  },
  {
   "cell_type": "code",
   "execution_count": 2,
   "id": "a4b4718a",
   "metadata": {},
   "outputs": [
    {
     "data": {
      "text/plain": [
       "699"
      ]
     },
     "execution_count": 2,
     "metadata": {},
     "output_type": "execute_result"
    }
   ],
   "source": [
    "def array_max(a):\n",
    "    ref = 0\n",
    "    for i in range(0, len(a)):\n",
    "        if ref < a[i]:\n",
    "            ref = a[i]\n",
    "    return ref\n",
    "\n",
    "array_max([25, 69, 84, 32, 65, 75, 699])"
   ]
  },
  {
   "cell_type": "markdown",
   "id": "f263cb4b",
   "metadata": {},
   "source": [
    "Question-3"
   ]
  },
  {
   "cell_type": "code",
   "execution_count": 3,
   "id": "aab7b8df",
   "metadata": {},
   "outputs": [
    {
     "data": {
      "text/plain": [
       "[66, 95, 36, 74, 55, 23]"
      ]
     },
     "execution_count": 3,
     "metadata": {},
     "output_type": "execute_result"
    }
   ],
   "source": [
    "def array_rotate(a):\n",
    "    return a[::-1]\n",
    "\n",
    "array_rotate([23, 55, 74, 36, 95, 66])"
   ]
  },
  {
   "cell_type": "markdown",
   "id": "50324b79",
   "metadata": {},
   "source": [
    "Question-4"
   ]
  },
  {
   "cell_type": "code",
   "execution_count": 4,
   "id": "afc8997d",
   "metadata": {},
   "outputs": [
    {
     "data": {
      "text/plain": [
       "[25, 85, 45, 99, 26, 66, 94]"
      ]
     },
     "execution_count": 4,
     "metadata": {},
     "output_type": "execute_result"
    }
   ],
   "source": [
    "def array_split(a):\n",
    "    mid = len(a)//2\n",
    "    return a[mid:] + a[:mid]\n",
    "\n",
    "array_split([26, 66, 94, 25, 85, 45, 99])"
   ]
  },
  {
   "cell_type": "markdown",
   "id": "6cf3204a",
   "metadata": {},
   "source": [
    "Question-5"
   ]
  },
  {
   "cell_type": "code",
   "execution_count": 10,
   "id": "be5a8791",
   "metadata": {},
   "outputs": [
    {
     "data": {
      "text/plain": [
       "False"
      ]
     },
     "execution_count": 10,
     "metadata": {},
     "output_type": "execute_result"
    }
   ],
   "source": [
    "def monotonic_check(a):\n",
    "    return (all(a[i] <= a[i + 1] for i in range(len(a) - 1)) or\n",
    "            all(a[i] >= a[i + 1] for i in range(len(a) - 1)))\n",
    "\n",
    "monotonic_check([26,45,87,99,112,55])"
   ]
  }
 ],
 "metadata": {
  "kernelspec": {
   "display_name": "Python 3",
   "language": "python",
   "name": "python3"
  },
  "language_info": {
   "codemirror_mode": {
    "name": "ipython",
    "version": 3
   },
   "file_extension": ".py",
   "mimetype": "text/x-python",
   "name": "python",
   "nbconvert_exporter": "python",
   "pygments_lexer": "ipython3",
   "version": "3.8.8"
  }
 },
 "nbformat": 4,
 "nbformat_minor": 5
}
