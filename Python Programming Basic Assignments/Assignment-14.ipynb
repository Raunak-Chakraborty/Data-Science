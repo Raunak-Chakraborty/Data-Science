{
 "cells": [
  {
   "cell_type": "markdown",
   "id": "738a897c",
   "metadata": {},
   "source": [
    "# 1. Define a class with a generator which can iterate the numbers, which are divisible by 7, between a given range 0 and n."
   ]
  },
  {
   "cell_type": "code",
   "execution_count": 1,
   "id": "d3d47c2a",
   "metadata": {},
   "outputs": [],
   "source": [
    "import logging as lg"
   ]
  },
  {
   "cell_type": "code",
   "execution_count": 2,
   "id": "26e86aa3",
   "metadata": {},
   "outputs": [],
   "source": [
    "lg.basicConfig(filename = 'log14.log', level = lg.INFO, format = '%(asctime)s %(name)s %(message)s')"
   ]
  },
  {
   "cell_type": "code",
   "execution_count": 3,
   "id": "4b9ec6fa",
   "metadata": {},
   "outputs": [
    {
     "name": "stdout",
     "output_type": "stream",
     "text": [
      "0\n",
      "7\n",
      "14\n",
      "21\n",
      "28\n",
      "35\n",
      "42\n",
      "49\n",
      "56\n",
      "63\n",
      "70\n",
      "77\n",
      "84\n",
      "91\n",
      "98\n"
     ]
    }
   ],
   "source": [
    "class gen:     \n",
    "    def __init__(self, n):\n",
    "        self.n = n\n",
    "    \n",
    "    def gen7(self):\n",
    "        for i in range(self.n + 1):\n",
    "            if i % 7 == 0:\n",
    "                yield i\n",
    "\n",
    "try :\n",
    "    lg.info('Start of the Object')\n",
    "    obj = gen(100)\n",
    "    for j in obj.gen7():\n",
    "        print(j)\n",
    "except StopIteration:\n",
    "    lg.info('Stopped Iteration due to Loop end')\n",
    "except Exception as e:\n",
    "    lg.error('Error occured here')\n",
    "    lg.exception(e)   "
   ]
  },
  {
   "cell_type": "markdown",
   "id": "d028310e",
   "metadata": {},
   "source": [
    "# 2. Write a program to compute the frequency of the words from the input. The output should sort the keys alphanumerically."
   ]
  },
  {
   "cell_type": "code",
   "execution_count": 14,
   "id": "1f2eab9e",
   "metadata": {},
   "outputs": [
    {
     "name": "stdout",
     "output_type": "stream",
     "text": [
      "Please Enter a StringNew to Python or choosing between Python 2 and Python 3? Read Python 2 or Python 3.\n"
     ]
    },
    {
     "data": {
      "text/plain": [
       "{'2': 2,\n",
       " '3.': 1,\n",
       " '3?': 1,\n",
       " 'New': 1,\n",
       " 'Python': 5,\n",
       " 'Read': 1,\n",
       " 'and': 1,\n",
       " 'between': 1,\n",
       " 'choosing': 1,\n",
       " 'or': 2,\n",
       " 'to': 1}"
      ]
     },
     "execution_count": 14,
     "metadata": {},
     "output_type": "execute_result"
    }
   ],
   "source": [
    "def word_frequency():\n",
    "    try:\n",
    "        inputs = input('Please Enter a String')\n",
    "        \n",
    "        lg.info('Input from User : {}'.format(inputs))\n",
    "        \n",
    "        split_list = inputs.split()\n",
    "        sorted_split_list = sorted(split_list)\n",
    "        output_dict = {}\n",
    "\n",
    "        temp = sorted_split_list[0]\n",
    "\n",
    "        for i in sorted_split_list:\n",
    "            if i == temp:\n",
    "                if i in output_dict.keys():\n",
    "                    output_dict[i] += 1\n",
    "                else:\n",
    "                    output_dict[i] = 1\n",
    "            else:\n",
    "                output_dict[i] = 1\n",
    "\n",
    "            temp = i\n",
    "        return output_dict\n",
    "    \n",
    "    except Exception as e:\n",
    "        lg.error('An Error has occured')\n",
    "        lg.exception(e)\n",
    "        \n",
    "word_frequency()    "
   ]
  },
  {
   "cell_type": "markdown",
   "id": "f4416f87",
   "metadata": {},
   "source": [
    "# 3. Define a class Person and its two child classes: Male and Female. All classes have a method 'getGender' which can print 'Male' for Male class and 'Female' for Female class."
   ]
  },
  {
   "cell_type": "code",
   "execution_count": 17,
   "id": "1418bc9b",
   "metadata": {},
   "outputs": [
    {
     "name": "stdout",
     "output_type": "stream",
     "text": [
      "Person\n",
      "Male\n",
      "Female\n"
     ]
    }
   ],
   "source": [
    "class Person:\n",
    "    def get_gender(self):\n",
    "        print('Person')\n",
    "        \n",
    "class Male(Person):\n",
    "    def get_gender(self):\n",
    "        print('Male')\n",
    "        \n",
    "class Female(Person):\n",
    "    def get_gender(self):\n",
    "        print('Female')\n",
    "lg.info('Initializing Objects and calling the get_gender function')        \n",
    "\n",
    "obj = Person()\n",
    "obj.get_gender()\n",
    "\n",
    "obj_m = Male()\n",
    "obj_m.get_gender()\n",
    "\n",
    "obj_f = Female()\n",
    "obj_f.get_gender()"
   ]
  },
  {
   "cell_type": "markdown",
   "id": "4436dbac",
   "metadata": {},
   "source": [
    "# 4. Write a program to generate all sentences where subject is in ['I', 'You'], verb is in ['Play', 'Love'] and object is in ['Hockey', 'Football']."
   ]
  },
  {
   "cell_type": "code",
   "execution_count": 18,
   "id": "99d665aa",
   "metadata": {},
   "outputs": [
    {
     "name": "stdout",
     "output_type": "stream",
     "text": [
      "I Play Hockey\n",
      "I Play Football\n",
      "I Love Hockey\n",
      "I Love Football\n",
      "You Play Hockey\n",
      "You Play Football\n",
      "You Love Hockey\n",
      "You Love Football\n"
     ]
    }
   ],
   "source": [
    "sub = ['I', 'You']\n",
    "verb = ['Play', 'Love']\n",
    "obj = ['Hockey', 'Football']\n",
    "\n",
    "for i in sub:\n",
    "    for j in verb:\n",
    "        for k in obj:\n",
    "            print(i, j, k)"
   ]
  },
  {
   "cell_type": "markdown",
   "id": "dd327870",
   "metadata": {},
   "source": [
    "# 5. Write a program to compress and decompress the string 'hello world!hello world!hello world!hello world!'."
   ]
  },
  {
   "cell_type": "code",
   "execution_count": 35,
   "id": "13ebe335",
   "metadata": {},
   "outputs": [
    {
     "name": "stdout",
     "output_type": "stream",
     "text": [
      "hello world! * 4.0\n"
     ]
    }
   ],
   "source": [
    "def compress(a):\n",
    "    \n",
    "    for i in range(1, len(a)+1):\n",
    "        if a[:i] == a[i:(2*i)]:\n",
    "            break\n",
    "    \n",
    "    if i == len(a):\n",
    "        print (a, '* 1')\n",
    "    else:\n",
    "        print (a[:i], '*', len(a)/i )\n",
    "            \n",
    "compress('hello world!hello world!hello world!hello world!')                "
   ]
  },
  {
   "cell_type": "code",
   "execution_count": 44,
   "id": "c1b11990",
   "metadata": {},
   "outputs": [
    {
     "name": "stdout",
     "output_type": "stream",
     "text": [
      "hello world!hello world!hello world!hello world!\n"
     ]
    }
   ],
   "source": [
    "def decompress(b):\n",
    "    import re\n",
    "    b_text = re.split(r' *\\* *\\d+$', b)[0]\n",
    "    b_digit = int(re.findall(r\" *\\* *\\d+$\", b)[0].split()[1])\n",
    "    print(b_text * b_digit)\n",
    "   \n",
    "decompress('hello world! * 4')"
   ]
  },
  {
   "cell_type": "markdown",
   "id": "188f0fd3",
   "metadata": {},
   "source": [
    "# 6. Write a binary search function which searches an item in a sorted list.  The function should return the index of element to be searched in the list."
   ]
  },
  {
   "cell_type": "code",
   "execution_count": 46,
   "id": "dcfe6552",
   "metadata": {},
   "outputs": [
    {
     "data": {
      "text/plain": [
       "7"
      ]
     },
     "execution_count": 46,
     "metadata": {},
     "output_type": "execute_result"
    }
   ],
   "source": [
    "def search(c, d):\n",
    "    for i in range(len(c)):\n",
    "        if c[i] == d:\n",
    "            return i\n",
    "        \n",
    "search([5,6,7,12,58,6,3,9], 58)"
   ]
  }
 ],
 "metadata": {
  "kernelspec": {
   "display_name": "Python 3",
   "language": "python",
   "name": "python3"
  },
  "language_info": {
   "codemirror_mode": {
    "name": "ipython",
    "version": 3
   },
   "file_extension": ".py",
   "mimetype": "text/x-python",
   "name": "python",
   "nbconvert_exporter": "python",
   "pygments_lexer": "ipython3",
   "version": "3.8.8"
  }
 },
 "nbformat": 4,
 "nbformat_minor": 5
}
