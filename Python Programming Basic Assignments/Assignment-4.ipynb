{
 "cells": [
  {
   "cell_type": "markdown",
   "id": "b418a37c",
   "metadata": {},
   "source": [
    "Question-1"
   ]
  },
  {
   "cell_type": "code",
   "execution_count": 1,
   "id": "91458cef",
   "metadata": {},
   "outputs": [
    {
     "data": {
      "text/plain": [
       "403291461126605635584000000"
      ]
     },
     "execution_count": 1,
     "metadata": {},
     "output_type": "execute_result"
    }
   ],
   "source": [
    "def factorial(a):\n",
    "    if a > 0 :\n",
    "        for i in range(1, a):\n",
    "            a = a*i\n",
    "        return a\n",
    "    elif a == 0 :\n",
    "        return 1\n",
    "\n",
    "factorial(26)"
   ]
  },
  {
   "cell_type": "markdown",
   "id": "a85b84c3",
   "metadata": {},
   "source": [
    "Question-2"
   ]
  },
  {
   "cell_type": "code",
   "execution_count": 2,
   "id": "9af473b5",
   "metadata": {},
   "outputs": [
    {
     "name": "stdout",
     "output_type": "stream",
     "text": [
      "12 * 0 = 0\n",
      "12 * 1 = 12\n",
      "12 * 2 = 24\n",
      "12 * 3 = 36\n",
      "12 * 4 = 48\n",
      "12 * 5 = 60\n",
      "12 * 6 = 72\n",
      "12 * 7 = 84\n",
      "12 * 8 = 96\n",
      "12 * 9 = 108\n",
      "12 * 10 = 120\n"
     ]
    }
   ],
   "source": [
    "def mul_table(a):\n",
    "    for i in range(0, 11):\n",
    "        print (a, '*', i, '=', a*i)\n",
    "    \n",
    "mul_table(12)"
   ]
  },
  {
   "cell_type": "markdown",
   "id": "687b5e20",
   "metadata": {},
   "source": [
    "Question-3"
   ]
  },
  {
   "cell_type": "code",
   "execution_count": 3,
   "id": "b790bb20",
   "metadata": {},
   "outputs": [
    {
     "data": {
      "text/plain": [
       "[0, 1, 1, 2, 3, 5, 8, 13, 21, 34, 55, 89]"
      ]
     },
     "execution_count": 3,
     "metadata": {},
     "output_type": "execute_result"
    }
   ],
   "source": [
    "def fibonacci(n):  # n is the total number of terms\n",
    "    x = [0, 1]\n",
    "    if n > 2 :\n",
    "        for i in range(2, n): \n",
    "            x.append(x[i-1] + x[i-2])\n",
    "    else:\n",
    "        print ('n should be > 2')     \n",
    "\n",
    "    return(x)\n",
    "\n",
    "fibonacci(12)"
   ]
  },
  {
   "cell_type": "markdown",
   "id": "86c5a61f",
   "metadata": {},
   "source": [
    "Question-4"
   ]
  },
  {
   "cell_type": "code",
   "execution_count": 37,
   "id": "a77ff110",
   "metadata": {},
   "outputs": [
    {
     "name": "stdout",
     "output_type": "stream",
     "text": [
      "Armstrong Number\n"
     ]
    }
   ],
   "source": [
    "def armstrong_check(a):\n",
    "    digits = [int(i) for i in str(a)]\n",
    "    \n",
    "    power_sum = 0\n",
    "    for j in digits:\n",
    "        power_sum = power_sum + j**len(digits)\n",
    "    \n",
    "    if power_sum == a:\n",
    "        print('Armstrong Number')\n",
    "    else:\n",
    "        print('Not an Armstrong Number')\n",
    "            \n",
    "armstrong_check(1634)"
   ]
  },
  {
   "cell_type": "markdown",
   "id": "f0f40efd",
   "metadata": {},
   "source": [
    "Question-5"
   ]
  },
  {
   "cell_type": "code",
   "execution_count": 38,
   "id": "f6c8672a",
   "metadata": {},
   "outputs": [
    {
     "name": "stdout",
     "output_type": "stream",
     "text": [
      "1\n",
      "2\n",
      "3\n",
      "4\n",
      "5\n",
      "6\n",
      "7\n",
      "8\n",
      "9\n",
      "153\n",
      "370\n",
      "371\n",
      "407\n"
     ]
    }
   ],
   "source": [
    "def armstrong_interval(a, b):    # a : lower limit, b: upper limit\n",
    "    armstrong_list = []\n",
    "    \n",
    "    for i in range(a, b+1):\n",
    "        digits = [int(k) for k in str(i)]\n",
    "    \n",
    "        power_sum = 0\n",
    "        for j in digits:\n",
    "            power_sum = power_sum + j**len(digits)\n",
    "\n",
    "        if power_sum == i:\n",
    "            print(i)\n",
    "\n",
    "armstrong_interval(1, 1000)"
   ]
  },
  {
   "cell_type": "markdown",
   "id": "819f7449",
   "metadata": {},
   "source": [
    "Question-6"
   ]
  },
  {
   "cell_type": "code",
   "execution_count": 40,
   "id": "95fc060f",
   "metadata": {},
   "outputs": [
    {
     "data": {
      "text/plain": [
       "21"
      ]
     },
     "execution_count": 40,
     "metadata": {},
     "output_type": "execute_result"
    }
   ],
   "source": [
    "def natural_sum(n):\n",
    "    sum_n = 0\n",
    "    for i in range(0, n+1):\n",
    "        sum_n += i\n",
    "    return sum_n\n",
    "\n",
    "natural_sum(6)    "
   ]
  }
 ],
 "metadata": {
  "kernelspec": {
   "display_name": "Python 3",
   "language": "python",
   "name": "python3"
  },
  "language_info": {
   "codemirror_mode": {
    "name": "ipython",
    "version": 3
   },
   "file_extension": ".py",
   "mimetype": "text/x-python",
   "name": "python",
   "nbconvert_exporter": "python",
   "pygments_lexer": "ipython3",
   "version": "3.8.8"
  }
 },
 "nbformat": 4,
 "nbformat_minor": 5
}
