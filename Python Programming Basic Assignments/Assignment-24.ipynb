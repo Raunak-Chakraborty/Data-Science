{
 "cells": [
  {
   "cell_type": "markdown",
   "id": "d2386f27",
   "metadata": {},
   "source": [
    "# 1. Create a function that takes an integer and returns a list from 1 to the given number, where: If the number can be divided evenly by 4, amplify it by 10 (i.e. return 10 times the number). If the number cannot be divided evenly by 4, simply return the number."
   ]
  },
  {
   "cell_type": "code",
   "execution_count": 3,
   "id": "63a579b2",
   "metadata": {},
   "outputs": [
    {
     "data": {
      "text/plain": [
       "[1,\n",
       " 2,\n",
       " 3,\n",
       " 40,\n",
       " 5,\n",
       " 6,\n",
       " 7,\n",
       " 80,\n",
       " 9,\n",
       " 10,\n",
       " 11,\n",
       " 120,\n",
       " 13,\n",
       " 14,\n",
       " 15,\n",
       " 160,\n",
       " 17,\n",
       " 18,\n",
       " 19,\n",
       " 200,\n",
       " 21,\n",
       " 22,\n",
       " 23,\n",
       " 240,\n",
       " 25]"
      ]
     },
     "execution_count": 3,
     "metadata": {},
     "output_type": "execute_result"
    }
   ],
   "source": [
    "def amplify(a):\n",
    "    if a >= 1:\n",
    "        result = [i for i in range(1, a+1)]\n",
    "        result_final = []\n",
    "        for j in result:\n",
    "            if j%4 == 0:\n",
    "                result_final.append(j*10)\n",
    "            else:\n",
    "                result_final.append(j)\n",
    "        \n",
    "        return result_final\n",
    "    \n",
    "    else:\n",
    "        print('The Input should be >= 1!!!')\n",
    "        \n",
    "amplify(25)"
   ]
  },
  {
   "cell_type": "markdown",
   "id": "5f509263",
   "metadata": {},
   "source": [
    "# 2. Create a function that takes a list of numbers and return the number that's unique."
   ]
  },
  {
   "cell_type": "code",
   "execution_count": 6,
   "id": "271d2015",
   "metadata": {},
   "outputs": [
    {
     "data": {
      "text/plain": [
       "4.852"
      ]
     },
     "execution_count": 6,
     "metadata": {},
     "output_type": "execute_result"
    }
   ],
   "source": [
    "def unique(b):\n",
    "    for i in b:\n",
    "        if b.count(i) == 1:\n",
    "            return i\n",
    "\n",
    "unique([25, 66, 66, 25, 4.852, 69, 69])            "
   ]
  },
  {
   "cell_type": "markdown",
   "id": "b274102f",
   "metadata": {},
   "source": [
    "# 3. Your task is to create a Circle constructor that creates a circle with a radius provided by an argument. The circles constructed must have two getters getArea() (PIr^2) and getPerimeter() (2PI*r) which give both respective areas and perimeter (circumference)."
   ]
  },
  {
   "cell_type": "code",
   "execution_count": 14,
   "id": "ffeb4b20",
   "metadata": {},
   "outputs": [
    {
     "name": "stdout",
     "output_type": "stream",
     "text": [
      "78\n",
      "31\n"
     ]
    }
   ],
   "source": [
    "import math \n",
    "class circle:\n",
    "    \n",
    "    def __init__(self, r):\n",
    "        self.r = r\n",
    "       \n",
    "    def get_area(self):\n",
    "        return (math.pi * math.pow(self.r, 2))\n",
    "                \n",
    "    def get_perimeter(self):\n",
    "        return (2 * self.r * math.pi)\n",
    "                \n",
    "obj = circle(5)\n",
    "print(int(obj.get_area()))\n",
    "print(int(obj.get_perimeter()))"
   ]
  },
  {
   "cell_type": "markdown",
   "id": "8dafb8dd",
   "metadata": {},
   "source": [
    "# 4. Create a function that takes a list of strings and return a list, sorted from shortest to longest."
   ]
  },
  {
   "cell_type": "code",
   "execution_count": 20,
   "id": "43427f76",
   "metadata": {},
   "outputs": [
    {
     "data": {
      "text/plain": [
       "['d', 'cc', 'bbb', 'eaaa']"
      ]
     },
     "execution_count": 20,
     "metadata": {},
     "output_type": "execute_result"
    }
   ],
   "source": [
    "def len_sort(d):\n",
    "    result = sorted(d, key = len)\n",
    "    return result\n",
    "\n",
    "len_sort(['d', 'eaaa', 'bbb', 'cc'])"
   ]
  },
  {
   "cell_type": "markdown",
   "id": "73df74dc",
   "metadata": {},
   "source": [
    "# 5. Create a function that validates whether three given integers form a Pythagorean triplet. The sum of the squares of the two smallest integers must equal the square of the largest number to be validated."
   ]
  },
  {
   "cell_type": "code",
   "execution_count": 23,
   "id": "abca0af4",
   "metadata": {},
   "outputs": [
    {
     "data": {
      "text/plain": [
       "True"
      ]
     },
     "execution_count": 23,
     "metadata": {},
     "output_type": "execute_result"
    }
   ],
   "source": [
    "def py_triplet(e, f, g):\n",
    "    num_list = sorted([e, f, g])\n",
    "    if (num_list[0])**2 + (num_list[1])**2 == (num_list[2])**2:\n",
    "        return True\n",
    "    else:\n",
    "        return False\n",
    "\n",
    "py_triplet(12,5,13)"
   ]
  }
 ],
 "metadata": {
  "kernelspec": {
   "display_name": "Python 3",
   "language": "python",
   "name": "python3"
  },
  "language_info": {
   "codemirror_mode": {
    "name": "ipython",
    "version": 3
   },
   "file_extension": ".py",
   "mimetype": "text/x-python",
   "name": "python",
   "nbconvert_exporter": "python",
   "pygments_lexer": "ipython3",
   "version": "3.8.8"
  }
 },
 "nbformat": 4,
 "nbformat_minor": 5
}
