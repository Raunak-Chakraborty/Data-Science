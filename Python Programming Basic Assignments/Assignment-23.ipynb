{
 "cells": [
  {
   "cell_type": "markdown",
   "id": "8cd04fbb",
   "metadata": {},
   "source": [
    "# 1. Create a function that takes a number as an argument and returns True or False depending on whether the number is symmetrical or not. A number is symmetrical when it is the same as its reverse."
   ]
  },
  {
   "cell_type": "code",
   "execution_count": 1,
   "id": "7b1724f9",
   "metadata": {},
   "outputs": [
    {
     "data": {
      "text/plain": [
       "True"
      ]
     },
     "execution_count": 1,
     "metadata": {},
     "output_type": "execute_result"
    }
   ],
   "source": [
    "def symm(a):\n",
    "    a_list = [i for i in str(a)]\n",
    "    a_list_r = a_list[::-1]\n",
    "    if a_list == a_list_r:\n",
    "        return bool(1)\n",
    "    else:\n",
    "        return bool(0)\n",
    "      \n",
    "symm(7353537)"
   ]
  },
  {
   "cell_type": "markdown",
   "id": "3cd2928c",
   "metadata": {},
   "source": [
    "# 2. Given a string of numbers separated by a comma and space, return the product of the numbers."
   ]
  },
  {
   "cell_type": "code",
   "execution_count": 2,
   "id": "d234accf",
   "metadata": {},
   "outputs": [
    {
     "data": {
      "text/plain": [
       "120"
      ]
     },
     "execution_count": 2,
     "metadata": {},
     "output_type": "execute_result"
    }
   ],
   "source": [
    "def product(b):\n",
    "    b_list = b.split(', ')\n",
    "    b_list_int = [int(i) for i in b_list]\n",
    "    prod = 1\n",
    "    for j in b_list_int:\n",
    "        prod *= j\n",
    "    return prod\n",
    "\n",
    "product('2, 12, 5')"
   ]
  },
  {
   "cell_type": "markdown",
   "id": "8ac7bfae",
   "metadata": {},
   "source": [
    "# 3. Create a function that squares every digit of a number."
   ]
  },
  {
   "cell_type": "code",
   "execution_count": 8,
   "id": "bb42ba26",
   "metadata": {},
   "outputs": [
    {
     "data": {
      "text/plain": [
       "252549"
      ]
     },
     "execution_count": 8,
     "metadata": {},
     "output_type": "execute_result"
    }
   ],
   "source": [
    "def digit_sq(c):\n",
    "    c_list = [int(i) for i in str(c)]\n",
    "    c_list_sq = [str(j**2) for j in c_list] \n",
    "    return int(''.join(c_list_sq))\n",
    "\n",
    "digit_sq(5523)"
   ]
  },
  {
   "cell_type": "markdown",
   "id": "981f57e7",
   "metadata": {},
   "source": [
    "# 4. Create a function that sorts a list and removes all duplicate items from it."
   ]
  },
  {
   "cell_type": "code",
   "execution_count": 12,
   "id": "6c2c0ec5",
   "metadata": {},
   "outputs": [
    {
     "data": {
      "text/plain": [
       "[1, 5, 6, 7, 9]"
      ]
     },
     "execution_count": 12,
     "metadata": {},
     "output_type": "execute_result"
    }
   ],
   "source": [
    "def sort_unique(d):\n",
    "    unique_list = list(set(sorted(d)))\n",
    "    return unique_list\n",
    "\n",
    "sort_unique([5,1,6,9,9,7,7,1,1,1])"
   ]
  },
  {
   "cell_type": "markdown",
   "id": "2b53be4b",
   "metadata": {},
   "source": [
    "# 5. Create a function that returns the mean of all digits."
   ]
  },
  {
   "cell_type": "code",
   "execution_count": 14,
   "id": "6dff6a48",
   "metadata": {},
   "outputs": [
    {
     "data": {
      "text/plain": [
       "4"
      ]
     },
     "execution_count": 14,
     "metadata": {},
     "output_type": "execute_result"
    }
   ],
   "source": [
    "def mean(e):\n",
    "    num_list = [int(i) for i in str(e)]\n",
    "    mean_list = (sum(num_list))//len(num_list)\n",
    "    return mean_list\n",
    "\n",
    "mean(554)"
   ]
  }
 ],
 "metadata": {
  "kernelspec": {
   "display_name": "Python 3",
   "language": "python",
   "name": "python3"
  },
  "language_info": {
   "codemirror_mode": {
    "name": "ipython",
    "version": 3
   },
   "file_extension": ".py",
   "mimetype": "text/x-python",
   "name": "python",
   "nbconvert_exporter": "python",
   "pygments_lexer": "ipython3",
   "version": "3.8.8"
  }
 },
 "nbformat": 4,
 "nbformat_minor": 5
}
