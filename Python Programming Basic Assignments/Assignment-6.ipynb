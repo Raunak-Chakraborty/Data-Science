{
 "cells": [
  {
   "cell_type": "markdown",
   "id": "a3ad07a7",
   "metadata": {},
   "source": [
    "Question-1"
   ]
  },
  {
   "cell_type": "code",
   "execution_count": 8,
   "id": "1ef885b2",
   "metadata": {},
   "outputs": [
    {
     "name": "stdout",
     "output_type": "stream",
     "text": [
      "Please enter the length of the series : 10\n",
      "0 1 1 2 3 5 8 13 21 34 "
     ]
    },
    {
     "data": {
      "text/plain": [
       "2"
      ]
     },
     "execution_count": 8,
     "metadata": {},
     "output_type": "execute_result"
    }
   ],
   "source": [
    "def recursive_fibonacci(n):\n",
    "    if n <= 1 :\n",
    "        return n\n",
    "    else :\n",
    "        return recursive_fibonacci(n-1) + recursive_fibonacci(n-2)\n",
    "\n",
    "n = int(input('Please enter the length of the series : '))   \n",
    "for i in range(0, n):\n",
    "    print(recursive_fibonacci(i), end = ' ')\n",
    "\n",
    "recursive_fibonacci(3)"
   ]
  },
  {
   "cell_type": "markdown",
   "id": "ada6da2e",
   "metadata": {},
   "source": [
    "Question-2"
   ]
  },
  {
   "cell_type": "code",
   "execution_count": 12,
   "id": "c0f31d2d",
   "metadata": {},
   "outputs": [
    {
     "data": {
      "text/plain": [
       "120"
      ]
     },
     "execution_count": 12,
     "metadata": {},
     "output_type": "execute_result"
    }
   ],
   "source": [
    "def recursive_factorial(a):\n",
    "    if a < 0 :\n",
    "        print('The input cannot be negative')\n",
    "    elif a == 0:\n",
    "        return 1\n",
    "    else :\n",
    "        return a * recursive_factorial(a-1)\n",
    "recursive_factorial(5)"
   ]
  },
  {
   "cell_type": "markdown",
   "id": "41ad726b",
   "metadata": {},
   "source": [
    "Question-3"
   ]
  },
  {
   "cell_type": "code",
   "execution_count": 13,
   "id": "22382727",
   "metadata": {},
   "outputs": [
    {
     "data": {
      "text/plain": [
       "22.53061224489796"
      ]
     },
     "execution_count": 13,
     "metadata": {},
     "output_type": "execute_result"
    }
   ],
   "source": [
    "def BMI_calc(w, h):    # w : weight in kg, h : height in m\n",
    "    return w/(h**2)\n",
    "\n",
    "BMI_calc(69, 1.75)"
   ]
  },
  {
   "cell_type": "markdown",
   "id": "b91a6ecb",
   "metadata": {},
   "source": [
    "Question-4"
   ]
  },
  {
   "cell_type": "code",
   "execution_count": 14,
   "id": "25a9939a",
   "metadata": {},
   "outputs": [
    {
     "data": {
      "text/plain": [
       "2.302585092994046"
      ]
     },
     "execution_count": 14,
     "metadata": {},
     "output_type": "execute_result"
    }
   ],
   "source": [
    "def natural_log(a):\n",
    "    import numpy as np\n",
    "    return np.log(a)\n",
    "\n",
    "natural_log(10)"
   ]
  },
  {
   "cell_type": "markdown",
   "id": "8a6cc9c8",
   "metadata": {},
   "source": [
    "Question-5"
   ]
  },
  {
   "cell_type": "code",
   "execution_count": 15,
   "id": "79785ba8",
   "metadata": {},
   "outputs": [
    {
     "data": {
      "text/plain": [
       "225.0"
      ]
     },
     "execution_count": 15,
     "metadata": {},
     "output_type": "execute_result"
    }
   ],
   "source": [
    "def cube_sum(n):\n",
    "    return (n**2 * (n+1)**2)/4\n",
    "\n",
    "cube_sum(5)"
   ]
  }
 ],
 "metadata": {
  "kernelspec": {
   "display_name": "Python 3",
   "language": "python",
   "name": "python3"
  },
  "language_info": {
   "codemirror_mode": {
    "name": "ipython",
    "version": 3
   },
   "file_extension": ".py",
   "mimetype": "text/x-python",
   "name": "python",
   "nbconvert_exporter": "python",
   "pygments_lexer": "ipython3",
   "version": "3.8.8"
  }
 },
 "nbformat": 4,
 "nbformat_minor": 5
}
