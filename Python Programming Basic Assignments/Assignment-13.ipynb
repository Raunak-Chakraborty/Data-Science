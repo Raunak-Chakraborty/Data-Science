{
 "cells": [
  {
   "cell_type": "markdown",
   "id": "4d237cca",
   "metadata": {},
   "source": [
    "# Question-1"
   ]
  },
  {
   "cell_type": "code",
   "execution_count": 9,
   "id": "6f04b8c3",
   "metadata": {},
   "outputs": [
    {
     "name": "stdout",
     "output_type": "stream",
     "text": [
      "100, 150, 180\n",
      "18, 22, 24\n"
     ]
    }
   ],
   "source": [
    "C = 50\n",
    "H = 30\n",
    "outputs = []\n",
    "inputs = [int(i) for i in input().split(',')]\n",
    "        \n",
    "for j in inputs:\n",
    "    Q = str(round(((2 * C * j)/H)**0.5))\n",
    "    outputs.append(Q)\n",
    "    \n",
    "print(', '.join(outputs)) "
   ]
  },
  {
   "cell_type": "markdown",
   "id": "a7d0d9ac",
   "metadata": {},
   "source": [
    "# Question-2"
   ]
  },
  {
   "cell_type": "code",
   "execution_count": 2,
   "id": "1f49d55d",
   "metadata": {},
   "outputs": [
    {
     "name": "stdout",
     "output_type": "stream",
     "text": [
      "Please enter the number of rows : 5\n",
      "Please enter the number of columns : 8\n",
      "[[0, 0, 0, 0, 0, 0, 0, 0], [0, 1, 2, 3, 4, 5, 6, 7], [0, 2, 4, 6, 8, 10, 12, 14], [0, 3, 6, 9, 12, 15, 18, 21], [0, 4, 8, 12, 16, 20, 24, 28]]\n"
     ]
    }
   ],
   "source": [
    "X = int(input('Please enter the number of rows : '))\n",
    "Y = int(input('Please enter the number of columns : '))\n",
    "\n",
    "M = [[0]*Y for i in range(X)]\n",
    "\n",
    "for j in range(X):\n",
    "    for k in range(Y):\n",
    "        M[j][k] = j*k\n",
    "        \n",
    "print(M)"
   ]
  },
  {
   "cell_type": "markdown",
   "id": "9cda7b12",
   "metadata": {},
   "source": [
    "# Question-3"
   ]
  },
  {
   "cell_type": "code",
   "execution_count": 3,
   "id": "4e6c72a3",
   "metadata": {},
   "outputs": [
    {
     "name": "stdout",
     "output_type": "stream",
     "text": [
      "Please Enter words separated by Comma : porsche,mercedes,bmw,audi\n",
      "audi,bmw,mercedes,porsche\n"
     ]
    }
   ],
   "source": [
    "inputs = [i for i in input('Please Enter words separated by Comma : ').split(',')]\n",
    "inputs.sort()\n",
    "print(','.join(inputs))"
   ]
  },
  {
   "cell_type": "markdown",
   "id": "1c4a6886",
   "metadata": {},
   "source": [
    "# Question-4"
   ]
  },
  {
   "cell_type": "code",
   "execution_count": 8,
   "id": "e70acbeb",
   "metadata": {},
   "outputs": [
    {
     "name": "stdout",
     "output_type": "stream",
     "text": [
      "Please Enter words separated by Space : these violent delights have violent ends\n",
      "delights ends have these violent\n"
     ]
    }
   ],
   "source": [
    "inputs = [i for i in input('Please Enter words separated by Space : ').split(' ')]\n",
    "unique = []\n",
    "for j in inputs:\n",
    "    if j not in unique:\n",
    "        unique.append(j)\n",
    "unique.sort()\n",
    "print(' '.join(unique))"
   ]
  },
  {
   "cell_type": "markdown",
   "id": "30739c7a",
   "metadata": {},
   "source": [
    "# Question-5"
   ]
  },
  {
   "cell_type": "code",
   "execution_count": 5,
   "id": "fc9d5274",
   "metadata": {},
   "outputs": [
    {
     "name": "stdout",
     "output_type": "stream",
     "text": [
      "Please Enter a String containing Alphabets and Numbers : KTM Super Duke 1290\n",
      "There are 12 alphabets & 4 digits in the String\n"
     ]
    }
   ],
   "source": [
    "A = input('Please Enter a String containing Alphabets and Numbers : ')\n",
    "alphabet_count = 0\n",
    "digit_count = 0\n",
    "\n",
    "for i in A:\n",
    "    if i.isalpha():\n",
    "        alphabet_count += 1\n",
    "    elif i.isdigit():\n",
    "        digit_count += 1\n",
    "    else:\n",
    "        pass\n",
    "\n",
    "print('There are {} alphabets & {} digits in the String'.format(alphabet_count, digit_count))        "
   ]
  },
  {
   "cell_type": "markdown",
   "id": "6b819d84",
   "metadata": {},
   "source": [
    "# Question-6"
   ]
  },
  {
   "cell_type": "code",
   "execution_count": null,
   "id": "d899423d",
   "metadata": {},
   "outputs": [],
   "source": []
  },
  {
   "cell_type": "code",
   "execution_count": 13,
   "id": "f5df5781",
   "metadata": {},
   "outputs": [
    {
     "name": "stdout",
     "output_type": "stream",
     "text": [
      "Enter multiple passwords separated by comma : ABd1234@1,a F1#,2w3E*,2We3345,fgHU@#12\n",
      "ABd1234@1,fgHU@#12\n"
     ]
    }
   ],
   "source": [
    "import re\n",
    "inputs = input('Enter multiple passwords separated by comma : ')\n",
    "a = inputs.split(',')\n",
    "outputs = []\n",
    "\n",
    "for i in a:\n",
    "    if (len(i) < 6 or len(i) > 12):\n",
    "        continue\n",
    "    elif not re.search('([a-z])+', i):\n",
    "        continue\n",
    "    elif not re.search('([A-Z])+', i):\n",
    "        continue\n",
    "    elif not re.search('([0-9])+', i):\n",
    "        continue\n",
    "    elif not re.search('([#@$])+', i):\n",
    "        continue\n",
    "    else:\n",
    "        outputs.append(i)\n",
    "  \n",
    "print(','.join(outputs))"
   ]
  }
 ],
 "metadata": {
  "kernelspec": {
   "display_name": "Python 3",
   "language": "python",
   "name": "python3"
  },
  "language_info": {
   "codemirror_mode": {
    "name": "ipython",
    "version": 3
   },
   "file_extension": ".py",
   "mimetype": "text/x-python",
   "name": "python",
   "nbconvert_exporter": "python",
   "pygments_lexer": "ipython3",
   "version": "3.8.8"
  }
 },
 "nbformat": 4,
 "nbformat_minor": 5
}
