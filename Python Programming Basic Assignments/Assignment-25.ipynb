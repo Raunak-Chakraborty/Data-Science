{
 "cells": [
  {
   "cell_type": "markdown",
   "id": "e8c843fb",
   "metadata": {},
   "source": [
    "# 1. Create a function that takes three integer arguments (a, b, c) and returns the amount of integers which are of equal value."
   ]
  },
  {
   "cell_type": "code",
   "execution_count": 6,
   "id": "8dcaf45e",
   "metadata": {},
   "outputs": [
    {
     "data": {
      "text/plain": [
       "0"
      ]
     },
     "execution_count": 6,
     "metadata": {},
     "output_type": "execute_result"
    }
   ],
   "source": [
    "def freq(a, b, c):\n",
    "    num_list = [a, b, c]\n",
    "    for i in num_list:\n",
    "        if num_list.count(i) == 3:\n",
    "            return 3\n",
    "        elif num_list.count(i) == 2:\n",
    "            return 2\n",
    "        else:\n",
    "            return 0\n",
    "freq(5,4,6)"
   ]
  },
  {
   "cell_type": "markdown",
   "id": "bc512ee3",
   "metadata": {},
   "source": [
    "# 2. Write a function that converts a dictionary into a list of keys-values tuples."
   ]
  },
  {
   "cell_type": "code",
   "execution_count": 11,
   "id": "449e4142",
   "metadata": {},
   "outputs": [
    {
     "data": {
      "text/plain": [
       "[('aaa', 111), ('ccc', 333), ('mmm', 444), ('zzz', 222)]"
      ]
     },
     "execution_count": 11,
     "metadata": {},
     "output_type": "execute_result"
    }
   ],
   "source": [
    "def dic_to_tuple(d):\n",
    "    return sorted(list(d.items()))\n",
    "\n",
    "dic_to_tuple({'aaa' : 111, 'zzz' : 222, 'ccc' : 333, 'mmm' : 444})"
   ]
  },
  {
   "cell_type": "markdown",
   "id": "e0b81766",
   "metadata": {},
   "source": [
    "# 3. Write a function that creates a dictionary with each (key, value) pair being the (lower case, upper case) versions of a letter, respectively."
   ]
  },
  {
   "cell_type": "code",
   "execution_count": 14,
   "id": "c47f24a2",
   "metadata": {},
   "outputs": [
    {
     "data": {
      "text/plain": [
       "{'d': 'D', 'h': 'H', 'g': 'G', 't': 'T'}"
      ]
     },
     "execution_count": 14,
     "metadata": {},
     "output_type": "execute_result"
    }
   ],
   "source": [
    "def mapping(e):\n",
    "    result = {}\n",
    "    for i in e:\n",
    "        result[i] = i.upper()\n",
    "    return result\n",
    "\n",
    "mapping(['d', 'h', 'g', 't'])"
   ]
  },
  {
   "cell_type": "markdown",
   "id": "3f6ae8c8",
   "metadata": {},
   "source": [
    "# 4. Write a function, that replaces all vowels in a string with a specified vowel."
   ]
  },
  {
   "cell_type": "code",
   "execution_count": 19,
   "id": "ac65df62",
   "metadata": {},
   "outputs": [
    {
     "data": {
      "text/plain": [
       "'dumun sluyur'"
      ]
     },
     "execution_count": 19,
     "metadata": {},
     "output_type": "execute_result"
    }
   ],
   "source": [
    "def vowel_replace(f, g):\n",
    "    V = 'aAeEiIoOuU'\n",
    "    for i in f:\n",
    "        if i in V:\n",
    "            f = f.replace(i, g)\n",
    "    return f\n",
    "\n",
    "vowel_replace('demon slayer', 'u')"
   ]
  },
  {
   "cell_type": "markdown",
   "id": "3542b9cb",
   "metadata": {},
   "source": [
    "# 5. Create a function that takes a string as input and capitalizes a letter if its ASCII code is even and returns its lower case version if its ASCII code is odd."
   ]
  },
  {
   "cell_type": "code",
   "execution_count": 20,
   "id": "54667e4d",
   "metadata": {},
   "outputs": [
    {
     "data": {
      "text/plain": [
       "'To Be oR NoT To Be'"
      ]
     },
     "execution_count": 20,
     "metadata": {},
     "output_type": "execute_result"
    }
   ],
   "source": [
    "def ascii_case(h):\n",
    "    for i in h:\n",
    "        if ord(i) % 2 == 0:\n",
    "            h = h.replace(i, i.upper())\n",
    "        else:\n",
    "            h = h.replace(i, i.lower())\n",
    "    return h\n",
    "\n",
    "ascii_case('to be or not to be')"
   ]
  }
 ],
 "metadata": {
  "kernelspec": {
   "display_name": "Python 3",
   "language": "python",
   "name": "python3"
  },
  "language_info": {
   "codemirror_mode": {
    "name": "ipython",
    "version": 3
   },
   "file_extension": ".py",
   "mimetype": "text/x-python",
   "name": "python",
   "nbconvert_exporter": "python",
   "pygments_lexer": "ipython3",
   "version": "3.8.8"
  }
 },
 "nbformat": 4,
 "nbformat_minor": 5
}
