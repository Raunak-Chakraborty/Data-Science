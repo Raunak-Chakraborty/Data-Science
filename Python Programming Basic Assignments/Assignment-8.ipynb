{
 "cells": [
  {
   "cell_type": "markdown",
   "id": "7a8e0393",
   "metadata": {},
   "source": [
    "Question-1"
   ]
  },
  {
   "cell_type": "code",
   "execution_count": 1,
   "id": "3082ced8",
   "metadata": {},
   "outputs": [
    {
     "name": "stdout",
     "output_type": "stream",
     "text": [
      "[13 60 45]\n",
      "[28 88 46]\n",
      "[49 22 25]\n"
     ]
    }
   ],
   "source": [
    "import numpy as np\n",
    "\n",
    "A = np.array([[2,6,9],\n",
    "              [7,3,9],\n",
    "              [4,8,2]])\n",
    "\n",
    "B = np.array([[11,54,36],\n",
    "             [21,85,37],\n",
    "             [45,14,23]])\n",
    "\n",
    "C = np.array([[0,0,0],\n",
    "             [0,0,0],\n",
    "             [0,0,0]])\n",
    "\n",
    "for i in range(len(A)):\n",
    "    for j in range(len(A[i])):\n",
    "        C[i][j] = A[i][j] + B[i][j]\n",
    "\n",
    "for k in C:\n",
    "    print(k)\n",
    "    "
   ]
  },
  {
   "cell_type": "markdown",
   "id": "d2909592",
   "metadata": {},
   "source": [
    "Question-2"
   ]
  },
  {
   "cell_type": "code",
   "execution_count": 9,
   "id": "de502308",
   "metadata": {},
   "outputs": [
    {
     "name": "stdout",
     "output_type": "stream",
     "text": [
      "[114, 160, 60, 27]\n",
      "[74, 97, 73, 14]\n",
      "[119, 157, 112, 23]\n"
     ]
    }
   ],
   "source": [
    "X = [[12, 7, 3],\n",
    "    [4, 5, 6],\n",
    "    [7, 8, 9]]\n",
    "    \n",
    "Y = [[5, 8, 1, 2],\n",
    "    [6, 7, 3, 0],\n",
    "    [4, 5, 9, 1]]\n",
    "     \n",
    "Z = [[0, 0, 0, 0],\n",
    "     [0, 0, 0, 0],\n",
    "    [0, 0, 0, 0]]\n",
    "\n",
    "for i in range(len(X)):\n",
    "    for j in range(len(Y[0])):\n",
    "        for k in range(len(Y)):\n",
    "            Z[i][j] += X[i][k] * Y[k][j]\n",
    "            \n",
    "for l in Z:\n",
    "    print(l)"
   ]
  },
  {
   "cell_type": "markdown",
   "id": "de2ff122",
   "metadata": {},
   "source": [
    "Question-3"
   ]
  },
  {
   "cell_type": "code",
   "execution_count": 12,
   "id": "f7e0217e",
   "metadata": {},
   "outputs": [
    {
     "name": "stdout",
     "output_type": "stream",
     "text": [
      "[55 25  1 35]\n",
      "[ 3 36  3 54]\n",
      "[ 9 98  6 66]\n",
      "[ 7 71  7 44]\n"
     ]
    }
   ],
   "source": [
    "M = np.array([[55,3,9,7],\n",
    "              [25,36,98,71],\n",
    "              [1,3,6,7],\n",
    "              [35,54,66,44]])\n",
    "\n",
    "N = np.array([[0,0,0,0],\n",
    "              [0,0,0,0],\n",
    "              [0,0,0,0],\n",
    "              [0,0,0,0]])\n",
    "\n",
    "for i in range(len(M)):\n",
    "    for j in range(len(M[0])):\n",
    "        N[i][j] = M[j][i]\n",
    "\n",
    "for k in N:\n",
    "    print(k)"
   ]
  },
  {
   "cell_type": "markdown",
   "id": "d089aafd",
   "metadata": {},
   "source": [
    "Question-4"
   ]
  },
  {
   "cell_type": "code",
   "execution_count": 15,
   "id": "7d40accb",
   "metadata": {},
   "outputs": [
    {
     "name": "stdout",
     "output_type": "stream",
     "text": [
      "['Batman', 'Flash', 'Joker', 'Lobo', 'Necron']\n"
     ]
    }
   ],
   "source": [
    "a = ['Flash', 'Batman', 'Joker', 'Necron', 'Lobo']\n",
    "\n",
    "a.sort()\n",
    "\n",
    "print(a)"
   ]
  },
  {
   "cell_type": "markdown",
   "id": "db189782",
   "metadata": {},
   "source": [
    "Question-5"
   ]
  },
  {
   "cell_type": "code",
   "execution_count": 20,
   "id": "4bb07b45",
   "metadata": {},
   "outputs": [
    {
     "name": "stdout",
     "output_type": "stream",
     "text": [
      "sdfrewfr    ewjhffjn    ioyu65oiu    qoweiu\n"
     ]
    }
   ],
   "source": [
    "import re\n",
    "\n",
    "b = 'sdfrewfr  ,  ewjhffjn  .  ioyu65oiu  ;  qoweiu'\n",
    "\n",
    "c = re.sub('[^\\w\\s]', '', b)    # [^\\w\\s] : any character which is not a word, number or space\n",
    "\n",
    "print(c)"
   ]
  }
 ],
 "metadata": {
  "kernelspec": {
   "display_name": "Python 3",
   "language": "python",
   "name": "python3"
  },
  "language_info": {
   "codemirror_mode": {
    "name": "ipython",
    "version": 3
   },
   "file_extension": ".py",
   "mimetype": "text/x-python",
   "name": "python",
   "nbconvert_exporter": "python",
   "pygments_lexer": "ipython3",
   "version": "3.8.8"
  }
 },
 "nbformat": 4,
 "nbformat_minor": 5
}
