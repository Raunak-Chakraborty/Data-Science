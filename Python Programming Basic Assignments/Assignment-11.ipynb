{
 "cells": [
  {
   "cell_type": "markdown",
   "id": "689254cf",
   "metadata": {},
   "source": [
    "# Question-1"
   ]
  },
  {
   "cell_type": "code",
   "execution_count": 1,
   "id": "88403ce0",
   "metadata": {
    "scrolled": true
   },
   "outputs": [
    {
     "data": {
      "text/plain": [
       "['ghjghjkgj', 'cbbvbb', 'klkjljklklkjl']"
      ]
     },
     "execution_count": 1,
     "metadata": {},
     "output_type": "execute_result"
    }
   ],
   "source": [
    "def bigger_word(a, k):\n",
    "    i = 0\n",
    "    while i < len(a):\n",
    "        if len(a[i]) < k:\n",
    "            a.pop(i)\n",
    "        else:\n",
    "            i += 1 \n",
    "    return a\n",
    "\n",
    "bigger_word(['ghjghjkgj', 'werr', 'cbbvbb', 'dfg', 'klkjljklklkjl'], 5)"
   ]
  },
  {
   "cell_type": "markdown",
   "id": "1c9eb7b3",
   "metadata": {},
   "source": [
    "# Question-2"
   ]
  },
  {
   "cell_type": "code",
   "execution_count": 2,
   "id": "400cc71b",
   "metadata": {},
   "outputs": [
    {
     "data": {
      "text/plain": [
       "'abcjapjsdlj;lasd'"
      ]
     },
     "execution_count": 2,
     "metadata": {},
     "output_type": "execute_result"
    }
   ],
   "source": [
    "def character_remove(a, b):\n",
    "    c = a[:b-1] + a[b:]\n",
    "    return c\n",
    "\n",
    "character_remove('abcj#apjsdlj;lasd', 5)"
   ]
  },
  {
   "cell_type": "markdown",
   "id": "d9a8e2da",
   "metadata": {},
   "source": [
    "# Question-3"
   ]
  },
  {
   "cell_type": "code",
   "execution_count": 3,
   "id": "7f158628",
   "metadata": {},
   "outputs": [
    {
     "name": "stdout",
     "output_type": "stream",
     "text": [
      "['I', 'am', 'Vengence']\n",
      "I-am-Vengence\n"
     ]
    }
   ],
   "source": [
    "def split_join_string(a):\n",
    "    a = a.split(' ')\n",
    "    a_join = \"-\".join(a)\n",
    "    print(a)\n",
    "    print(a_join)\n",
    "    \n",
    "split_join_string('I am Vengence')"
   ]
  },
  {
   "cell_type": "markdown",
   "id": "0b7ece3a",
   "metadata": {},
   "source": [
    "# Question-4"
   ]
  },
  {
   "cell_type": "code",
   "execution_count": 4,
   "id": "ab713f93",
   "metadata": {},
   "outputs": [
    {
     "name": "stdout",
     "output_type": "stream",
     "text": [
      "Not a Binary String\n"
     ]
    }
   ],
   "source": [
    "def binary_string_check(a):\n",
    "    flag = True\n",
    "    for i in range(len(a)):\n",
    "        if (a[i] == '0' or a[i] == '1'):\n",
    "            continue     \n",
    "        else:\n",
    "            flag = False\n",
    "            print('Not a Binary String')\n",
    "            break\n",
    "    if flag:\n",
    "        print('Is a Binary String')\n",
    "            \n",
    "binary_string_check('1010011054012')"
   ]
  },
  {
   "cell_type": "markdown",
   "id": "92b79d0a",
   "metadata": {},
   "source": [
    "# Question-5"
   ]
  },
  {
   "cell_type": "code",
   "execution_count": 5,
   "id": "2ca3ba6e",
   "metadata": {},
   "outputs": [
    {
     "data": {
      "text/plain": [
       "['Batman', 'Superman']"
      ]
     },
     "execution_count": 5,
     "metadata": {},
     "output_type": "execute_result"
    }
   ],
   "source": [
    "def uncommon_words(a, b):\n",
    "    a_list = a.split(' ')\n",
    "    b_list = b.split(' ')\n",
    "    uncommon = []\n",
    "    \n",
    "    for i in a_list:\n",
    "        if i not in b_list:\n",
    "            uncommon.append(i)\n",
    "            \n",
    "    for j in b_list:\n",
    "        if j not in a_list:\n",
    "            uncommon.append(j)\n",
    "                \n",
    "    return uncommon\n",
    "\n",
    "uncommon_words('I am Batman', 'I am Superman')"
   ]
  },
  {
   "cell_type": "markdown",
   "id": "66f2753f",
   "metadata": {},
   "source": [
    "# Question-6"
   ]
  },
  {
   "cell_type": "code",
   "execution_count": 15,
   "id": "9fe1ddeb",
   "metadata": {},
   "outputs": [
    {
     "data": {
      "text/plain": [
       "'sertfxgcvhjd'"
      ]
     },
     "execution_count": 15,
     "metadata": {},
     "output_type": "execute_result"
    }
   ],
   "source": [
    "def duplicate_char(a):\n",
    "    once = ''\n",
    "    for i in a:\n",
    "        if i not in once:\n",
    "            once += i\n",
    "    return once\n",
    "\n",
    "duplicate_char('sertrtfxgcvhgfjhsfssddfdddddd')"
   ]
  },
  {
   "cell_type": "markdown",
   "id": "f6ebf9e7",
   "metadata": {},
   "source": [
    "# Question-7"
   ]
  },
  {
   "cell_type": "code",
   "execution_count": 16,
   "id": "83125140",
   "metadata": {},
   "outputs": [
    {
     "data": {
      "text/plain": [
       "'*/-+*&^%'"
      ]
     },
     "execution_count": 16,
     "metadata": {},
     "output_type": "execute_result"
    }
   ],
   "source": [
    "def check_for_special_char(a):\n",
    "    import string\n",
    "    spec_char = string.punctuation\n",
    "    special_characters = ''\n",
    "    \n",
    "    for i in a:\n",
    "        if i in spec_char:\n",
    "            special_characters += i\n",
    "            \n",
    "    return special_characters\n",
    "\n",
    "check_for_special_char('ikerhsnfjsnfhsfiwhre */-+*&^%')"
   ]
  }
 ],
 "metadata": {
  "kernelspec": {
   "display_name": "Python 3",
   "language": "python",
   "name": "python3"
  },
  "language_info": {
   "codemirror_mode": {
    "name": "ipython",
    "version": 3
   },
   "file_extension": ".py",
   "mimetype": "text/x-python",
   "name": "python",
   "nbconvert_exporter": "python",
   "pygments_lexer": "ipython3",
   "version": "3.8.8"
  }
 },
 "nbformat": 4,
 "nbformat_minor": 5
}
