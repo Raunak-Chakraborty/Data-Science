{
 "cells": [
  {
   "cell_type": "markdown",
   "id": "9371208e",
   "metadata": {},
   "source": [
    "# Question-1"
   ]
  },
  {
   "cell_type": "code",
   "execution_count": 1,
   "id": "136e09ec",
   "metadata": {},
   "outputs": [
    {
     "name": "stdout",
     "output_type": "stream",
     "text": [
      "Is a Disarium Number\n"
     ]
    }
   ],
   "source": [
    "def disarium(a):\n",
    "    digits = [int(i) for i in str(a)]\n",
    "    b = 0\n",
    "    for i in range(len(digits)):\n",
    "        b += digits[i]**(i+1)\n",
    "        \n",
    "    if a == b:\n",
    "        print('Is a Disarium Number')\n",
    "    else:\n",
    "        print('Not a Disarium Number')\n",
    "        \n",
    "disarium(518)"
   ]
  },
  {
   "cell_type": "markdown",
   "id": "cae9e305",
   "metadata": {},
   "source": [
    "# Question-2"
   ]
  },
  {
   "cell_type": "code",
   "execution_count": 2,
   "id": "b1317b06",
   "metadata": {},
   "outputs": [
    {
     "name": "stdout",
     "output_type": "stream",
     "text": [
      "1\n",
      "2\n",
      "3\n",
      "4\n",
      "5\n",
      "6\n",
      "7\n",
      "8\n",
      "9\n",
      "89\n",
      "135\n",
      "175\n",
      "518\n",
      "598\n"
     ]
    }
   ],
   "source": [
    "def disarium_list(low_lim, up_lim):\n",
    "    for i in range(low_lim, up_lim+1):\n",
    "    \n",
    "        digits = [int(j) for j in str(i)]\n",
    "\n",
    "        b = 0\n",
    "        for j in range(len(digits)):\n",
    "            b += digits[j]**(j+1)\n",
    "\n",
    "        if i == b:\n",
    "            print(i)\n",
    "        \n",
    "\n",
    "disarium_list(1, 1000)"
   ]
  },
  {
   "cell_type": "markdown",
   "id": "c50ebaa8",
   "metadata": {},
   "source": [
    "# Question-3"
   ]
  },
  {
   "cell_type": "code",
   "execution_count": 10,
   "id": "70e8de71",
   "metadata": {},
   "outputs": [
    {
     "name": "stdout",
     "output_type": "stream",
     "text": [
      "Please enter an Integer : 13\n",
      "Happy Number\n"
     ]
    }
   ],
   "source": [
    "def sum_of_squares(a):\n",
    "    digits = [int(i) for i in str(a)]\n",
    "    sum1 = 0\n",
    "    for j in range(len(digits)):\n",
    "        sum1 += (digits[j])**2\n",
    "    return sum1\n",
    "\n",
    "a = int(input('Please enter an Integer : '))\n",
    "result = a\n",
    "\n",
    "while (result != 1 and result != 4):\n",
    "    result = sum_of_squares(result)\n",
    "\n",
    "if result == 1:\n",
    "    print('Happy Number')\n",
    "else:\n",
    "    print('Sad Number')"
   ]
  },
  {
   "cell_type": "markdown",
   "id": "79c19381",
   "metadata": {},
   "source": [
    "# Question-4"
   ]
  },
  {
   "cell_type": "code",
   "execution_count": 13,
   "id": "e702df45",
   "metadata": {},
   "outputs": [
    {
     "name": "stdout",
     "output_type": "stream",
     "text": [
      "1\n",
      "7\n",
      "10\n",
      "13\n",
      "19\n",
      "23\n",
      "28\n",
      "31\n",
      "32\n",
      "44\n",
      "49\n",
      "68\n",
      "70\n",
      "79\n",
      "82\n",
      "86\n",
      "91\n",
      "94\n",
      "97\n",
      "100\n"
     ]
    }
   ],
   "source": [
    "def sum_of_squares(a):\n",
    "    digits = [int(i) for i in str(a)]\n",
    "    sum1 = 0\n",
    "    for j in range(len(digits)):\n",
    "        sum1 += (digits[j])**2\n",
    "    return sum1\n",
    "\n",
    "for k in range(1, 101):\n",
    "    result = k\n",
    "\n",
    "    while (result !=1 and result !=4):\n",
    "        result = sum_of_squares(result)\n",
    "\n",
    "    if result == 1:\n",
    "        print(k)"
   ]
  },
  {
   "cell_type": "markdown",
   "id": "66855e36",
   "metadata": {},
   "source": [
    "# Question-5"
   ]
  },
  {
   "cell_type": "code",
   "execution_count": 17,
   "id": "8a42de16",
   "metadata": {},
   "outputs": [
    {
     "name": "stdout",
     "output_type": "stream",
     "text": [
      "Is Harshad Number\n"
     ]
    }
   ],
   "source": [
    "def harshad(d):\n",
    "    digits = [int(i) for i in str(d)]\n",
    "    sum1 = 0\n",
    "    for j in range(len(digits)):\n",
    "        sum1 += digits[j]\n",
    "        \n",
    "    if d % sum1 == 0:\n",
    "        print('Is Harshad Number')\n",
    "        \n",
    "    else:\n",
    "        print('Not a Harshad Number')\n",
    "        \n",
    "harshad(63)"
   ]
  },
  {
   "cell_type": "markdown",
   "id": "bb407416",
   "metadata": {},
   "source": [
    "# Question-6"
   ]
  },
  {
   "cell_type": "code",
   "execution_count": 19,
   "id": "960e8b68",
   "metadata": {},
   "outputs": [
    {
     "name": "stdout",
     "output_type": "stream",
     "text": [
      "1\n",
      "2\n",
      "3\n",
      "4\n",
      "5\n",
      "6\n",
      "7\n",
      "8\n",
      "9\n",
      "10\n",
      "12\n",
      "18\n",
      "20\n",
      "21\n",
      "24\n",
      "27\n",
      "30\n",
      "36\n",
      "40\n",
      "42\n",
      "45\n",
      "48\n",
      "50\n",
      "54\n",
      "60\n",
      "63\n",
      "70\n",
      "72\n",
      "80\n",
      "81\n",
      "84\n",
      "90\n",
      "100\n"
     ]
    }
   ],
   "source": [
    "for k in range(1, 101):\n",
    "    digits = [int(i) for i in str(k)]\n",
    "    sum1 = 0\n",
    "    for j in range(len(digits)):\n",
    "        sum1 += digits[j]\n",
    "        \n",
    "    if k % sum1 == 0:\n",
    "        print(k)  "
   ]
  }
 ],
 "metadata": {
  "kernelspec": {
   "display_name": "Python 3",
   "language": "python",
   "name": "python3"
  },
  "language_info": {
   "codemirror_mode": {
    "name": "ipython",
    "version": 3
   },
   "file_extension": ".py",
   "mimetype": "text/x-python",
   "name": "python",
   "nbconvert_exporter": "python",
   "pygments_lexer": "ipython3",
   "version": "3.8.8"
  }
 },
 "nbformat": 4,
 "nbformat_minor": 5
}
