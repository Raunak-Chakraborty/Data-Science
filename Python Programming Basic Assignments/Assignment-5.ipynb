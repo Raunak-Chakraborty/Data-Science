{
 "cells": [
  {
   "cell_type": "markdown",
   "id": "c6e5562b",
   "metadata": {},
   "source": [
    "Question-1"
   ]
  },
  {
   "cell_type": "code",
   "execution_count": 1,
   "id": "dc325eeb",
   "metadata": {},
   "outputs": [
    {
     "name": "stdout",
     "output_type": "stream",
     "text": [
      "LCM :  80\n"
     ]
    }
   ],
   "source": [
    "def LCM(a,b):\n",
    "    a_mul = []\n",
    "    b_mul = []\n",
    "    lcm = []\n",
    "    \n",
    "    for i in range(1, 11):\n",
    "        a_mul.append(a*i)\n",
    "    for j in range(1, 11):\n",
    "        b_mul.append(b*j)\n",
    "   \n",
    "    for k in a_mul:\n",
    "        for l in b_mul:\n",
    "            if k == l:\n",
    "                lcm.append(k)\n",
    "    print ('LCM : ', lcm[0])\n",
    "            \n",
    "            \n",
    "LCM(16, 20)            "
   ]
  },
  {
   "cell_type": "markdown",
   "id": "e0682098",
   "metadata": {},
   "source": [
    "Question-2"
   ]
  },
  {
   "cell_type": "code",
   "execution_count": 5,
   "id": "467ebb47",
   "metadata": {},
   "outputs": [
    {
     "name": "stdout",
     "output_type": "stream",
     "text": [
      "HCF :  50\n"
     ]
    }
   ],
   "source": [
    "def HCF(a, b):\n",
    "    if a > b :\n",
    "        smaller = b\n",
    "    else :\n",
    "        smaller = a\n",
    "    \n",
    "    for i in range(1, smaller+1):\n",
    "        if ((a%i == 0) & (b%i == 0)):\n",
    "            HCF = i\n",
    "            \n",
    "    print('HCF : ', HCF)\n",
    "\n",
    "HCF(50, 100)"
   ]
  },
  {
   "cell_type": "markdown",
   "id": "4fccabb2",
   "metadata": {},
   "source": [
    "Question-3"
   ]
  },
  {
   "cell_type": "code",
   "execution_count": 6,
   "id": "bb68b699",
   "metadata": {},
   "outputs": [
    {
     "name": "stdout",
     "output_type": "stream",
     "text": [
      "Binary :  0b11011\n",
      "Octal :  0o33\n",
      "Hexadecimal :  0x1b\n"
     ]
    }
   ],
   "source": [
    "def convert(a):\n",
    "    print('Binary : ', bin(a))\n",
    "    print('Octal : ', oct(a))\n",
    "    print('Hexadecimal : ', hex(a))\n",
    "    \n",
    "convert(27)"
   ]
  },
  {
   "cell_type": "markdown",
   "id": "b13564be",
   "metadata": {},
   "source": [
    "Question-4"
   ]
  },
  {
   "cell_type": "code",
   "execution_count": 11,
   "id": "fc1d2991",
   "metadata": {},
   "outputs": [
    {
     "data": {
      "text/plain": [
       "66"
      ]
     },
     "execution_count": 11,
     "metadata": {},
     "output_type": "execute_result"
    }
   ],
   "source": [
    "def convert_ascii(a):\n",
    "    return ord(a)\n",
    "\n",
    "convert_ascii('B')"
   ]
  },
  {
   "cell_type": "markdown",
   "id": "214ae80a",
   "metadata": {},
   "source": [
    "Question-5"
   ]
  },
  {
   "cell_type": "code",
   "execution_count": 13,
   "id": "612d7f52",
   "metadata": {},
   "outputs": [
    {
     "name": "stdout",
     "output_type": "stream",
     "text": [
      "Enter A for addition, S for Substraction, M for Multiplication & D for DivisionS\n"
     ]
    },
    {
     "data": {
      "text/plain": [
       "5"
      ]
     },
     "execution_count": 13,
     "metadata": {},
     "output_type": "execute_result"
    }
   ],
   "source": [
    "def calc(a, b):\n",
    "    choice = input('Enter A for addition, S for Substraction, M for Multiplication & D for Division')\n",
    "    \n",
    "    if choice == 'A':\n",
    "        return a+b\n",
    "    elif choice == 'S':\n",
    "        return a-b\n",
    "    elif choice == 'M':\n",
    "        return a*b\n",
    "    elif choice == 'D':\n",
    "        return a/b\n",
    "    else:\n",
    "        print('Please select a valid option!!!')\n",
    "        \n",
    "calc(10, 5)"
   ]
  }
 ],
 "metadata": {
  "kernelspec": {
   "display_name": "Python 3",
   "language": "python",
   "name": "python3"
  },
  "language_info": {
   "codemirror_mode": {
    "name": "ipython",
    "version": 3
   },
   "file_extension": ".py",
   "mimetype": "text/x-python",
   "name": "python",
   "nbconvert_exporter": "python",
   "pygments_lexer": "ipython3",
   "version": "3.8.8"
  }
 },
 "nbformat": 4,
 "nbformat_minor": 5
}
