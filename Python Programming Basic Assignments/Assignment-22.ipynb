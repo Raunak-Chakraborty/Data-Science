{
 "cells": [
  {
   "cell_type": "markdown",
   "id": "6a7a0ba1",
   "metadata": {},
   "source": [
    "# 1. Create a function that takes three parameters where: x is the start of the range (inclusive). y is the end of the range (inclusive). n is the divisor to be checked against. Return an ordered list with numbers in the range that are divisible by the third parameter n. Return an empty list if there are no numbers that are divisible by n."
   ]
  },
  {
   "cell_type": "code",
   "execution_count": 3,
   "id": "77fd6f4b",
   "metadata": {},
   "outputs": [
    {
     "data": {
      "text/plain": [
       "[3, 6, 9, 12, 15, 18]"
      ]
     },
     "execution_count": 3,
     "metadata": {},
     "output_type": "execute_result"
    }
   ],
   "source": [
    "def check(a, b, c):\n",
    "    result = []\n",
    "    for i in range(a, b+1):\n",
    "        if i % c == 0:\n",
    "            result.append(i)\n",
    "    return result\n",
    "\n",
    "check(1, 20, 3)"
   ]
  },
  {
   "cell_type": "markdown",
   "id": "12ca1b38",
   "metadata": {},
   "source": [
    "# 2. Create a function that takes in two lists and returns True if the second list follows the first list by one element, and False otherwise. In other words, determine if the second list is the first list shifted to the right by 1."
   ]
  },
  {
   "cell_type": "code",
   "execution_count": 9,
   "id": "9d12dd22",
   "metadata": {},
   "outputs": [
    {
     "data": {
      "text/plain": [
       "True"
      ]
     },
     "execution_count": 9,
     "metadata": {},
     "output_type": "execute_result"
    }
   ],
   "source": [
    "def list_check(d, e):\n",
    "    if (len(d) == len(e) and len(d) >= 2 and len(e) >=2):\n",
    "        if d[:-1] == e[1:]:\n",
    "            return bool(1)\n",
    "        else:\n",
    "            return bool(0)   \n",
    "    else:\n",
    "        print('Please Enter 2 lists with the same size and a minimum of 2 elements.')\n",
    "        \n",
    "list_check([1,2,3,4,5], [26,1,2,3,4])"
   ]
  },
  {
   "cell_type": "markdown",
   "id": "cfe323fb",
   "metadata": {},
   "source": [
    "# 3. A group of friends have decided to start a secret society. The name will be the first letter of each of their names, sorted in alphabetical order. Create a function that takes in a list of names and returns the name of the secret society."
   ]
  },
  {
   "cell_type": "code",
   "execution_count": 12,
   "id": "a1c39814",
   "metadata": {},
   "outputs": [
    {
     "data": {
      "text/plain": [
       "['B', 'B', 'C', 'D', 'D', 'H']"
      ]
     },
     "execution_count": 12,
     "metadata": {},
     "output_type": "execute_result"
    }
   ],
   "source": [
    "def secret_name(*args):\n",
    "    result = ''\n",
    "    for i in args:\n",
    "        result += i[0]\n",
    "    return sorted(result)\n",
    "\n",
    "secret_name('Clark', 'Bruce', 'Barry', 'Diana', 'Darkseid', 'Hal')"
   ]
  },
  {
   "cell_type": "markdown",
   "id": "74d425cb",
   "metadata": {},
   "source": [
    "# 4. An isogram is a word that has no duplicate letters. Create a function that takes a string and returns either True or False depending on whether or not it's an 'isogram'."
   ]
  },
  {
   "cell_type": "code",
   "execution_count": 15,
   "id": "8035d206",
   "metadata": {},
   "outputs": [
    {
     "data": {
      "text/plain": [
       "True"
      ]
     },
     "execution_count": 15,
     "metadata": {},
     "output_type": "execute_result"
    }
   ],
   "source": [
    "def isogram(f):\n",
    "    empty = []\n",
    "    f_list = [i for i in f]\n",
    "    for j in f:\n",
    "        if j not in empty:\n",
    "            empty.append(j)\n",
    "    if f_list == empty:\n",
    "        return bool(1)\n",
    "    else:\n",
    "        return bool(0)\n",
    "    \n",
    "isogram('asdfghjkl')"
   ]
  },
  {
   "cell_type": "markdown",
   "id": "f285af8b",
   "metadata": {},
   "source": [
    "# 5. Create a function that takes a string and returns True or False, depending on whether the characters are in order or not."
   ]
  },
  {
   "cell_type": "code",
   "execution_count": 20,
   "id": "adb9d978",
   "metadata": {},
   "outputs": [
    {
     "data": {
      "text/plain": [
       "False"
      ]
     },
     "execution_count": 20,
     "metadata": {},
     "output_type": "execute_result"
    }
   ],
   "source": [
    "def string_check(g):\n",
    "    if g == ''.join(sorted(g)):\n",
    "        return bool(1)\n",
    "    else:\n",
    "        return bool(0)\n",
    "    \n",
    "string_check('abcdefxg')"
   ]
  }
 ],
 "metadata": {
  "kernelspec": {
   "display_name": "Python 3",
   "language": "python",
   "name": "python3"
  },
  "language_info": {
   "codemirror_mode": {
    "name": "ipython",
    "version": 3
   },
   "file_extension": ".py",
   "mimetype": "text/x-python",
   "name": "python",
   "nbconvert_exporter": "python",
   "pygments_lexer": "ipython3",
   "version": "3.8.8"
  }
 },
 "nbformat": 4,
 "nbformat_minor": 5
}
