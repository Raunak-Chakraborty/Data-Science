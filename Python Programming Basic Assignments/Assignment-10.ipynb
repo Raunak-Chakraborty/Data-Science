{
 "cells": [
  {
   "cell_type": "markdown",
   "id": "672f01ce",
   "metadata": {},
   "source": [
    "# Question-1"
   ]
  },
  {
   "cell_type": "code",
   "execution_count": 1,
   "id": "4d4dd349",
   "metadata": {},
   "outputs": [
    {
     "data": {
      "text/plain": [
       "36"
      ]
     },
     "execution_count": 1,
     "metadata": {},
     "output_type": "execute_result"
    }
   ],
   "source": [
    "def list_sum(a):\n",
    "    sum1 = 0\n",
    "    for i in range(len(a)):\n",
    "        sum1 += a[i]\n",
    "    return sum1\n",
    "\n",
    "list_sum([2,6,7,-1,5,8,9])"
   ]
  },
  {
   "cell_type": "markdown",
   "id": "2e536ef3",
   "metadata": {},
   "source": [
    "# Question-2"
   ]
  },
  {
   "cell_type": "code",
   "execution_count": 2,
   "id": "282ab17f",
   "metadata": {},
   "outputs": [
    {
     "data": {
      "text/plain": [
       "-30240"
      ]
     },
     "execution_count": 2,
     "metadata": {},
     "output_type": "execute_result"
    }
   ],
   "source": [
    "def list_prod(b):\n",
    "    product = 1\n",
    "    for i in range(len(b)):\n",
    "        product = product * b[i]\n",
    "    return product\n",
    "\n",
    "list_prod([2,6,7,1,5,-8,9])"
   ]
  },
  {
   "cell_type": "markdown",
   "id": "a435c61f",
   "metadata": {},
   "source": [
    "# Question-3"
   ]
  },
  {
   "cell_type": "code",
   "execution_count": 3,
   "id": "7c179347",
   "metadata": {},
   "outputs": [
    {
     "data": {
      "text/plain": [
       "-9"
      ]
     },
     "execution_count": 3,
     "metadata": {},
     "output_type": "execute_result"
    }
   ],
   "source": [
    "def list_small(c):\n",
    "    least = 0\n",
    "    for i in range(len(c)):\n",
    "        if c[i] < least:\n",
    "            least = c[i]\n",
    "    return least\n",
    "\n",
    "list_small([2,6,7,1,5,-8,-9])"
   ]
  },
  {
   "cell_type": "markdown",
   "id": "c2a37abb",
   "metadata": {},
   "source": [
    "# Question-4"
   ]
  },
  {
   "cell_type": "code",
   "execution_count": 4,
   "id": "37126433",
   "metadata": {},
   "outputs": [
    {
     "data": {
      "text/plain": [
       "111"
      ]
     },
     "execution_count": 4,
     "metadata": {},
     "output_type": "execute_result"
    }
   ],
   "source": [
    "def list_large(d):\n",
    "    largest = 0\n",
    "    for i in range(len(d)):\n",
    "        if d[i] > largest:\n",
    "            largest = d[i]\n",
    "    return largest\n",
    "\n",
    "list_large([2,6,7,111,5,-8,-9])"
   ]
  },
  {
   "cell_type": "markdown",
   "id": "307e831b",
   "metadata": {},
   "source": [
    "# Question-5"
   ]
  },
  {
   "cell_type": "code",
   "execution_count": 5,
   "id": "5031ed7b",
   "metadata": {},
   "outputs": [
    {
     "data": {
      "text/plain": [
       "645"
      ]
     },
     "execution_count": 5,
     "metadata": {},
     "output_type": "execute_result"
    }
   ],
   "source": [
    "def list_second_largest(e):\n",
    "    e.sort(reverse = True)\n",
    "    return e[1]\n",
    "\n",
    "list_second_largest([2798,645,7,111,533,-8,-9])"
   ]
  },
  {
   "cell_type": "markdown",
   "id": "f458f510",
   "metadata": {},
   "source": [
    "# Question-6"
   ]
  },
  {
   "cell_type": "code",
   "execution_count": 6,
   "id": "82c30f35",
   "metadata": {},
   "outputs": [
    {
     "data": {
      "text/plain": [
       "[2798, 645, 533, 111, 7]"
      ]
     },
     "execution_count": 6,
     "metadata": {},
     "output_type": "execute_result"
    }
   ],
   "source": [
    "def n_largest(f, n):\n",
    "    f.sort(reverse = True)\n",
    "    return f[:n]\n",
    "\n",
    "n_largest([2798,645,7,111,533,-8,-9], 5)"
   ]
  },
  {
   "cell_type": "markdown",
   "id": "c1f1df0b",
   "metadata": {},
   "source": [
    "# Question-7"
   ]
  },
  {
   "cell_type": "code",
   "execution_count": 7,
   "id": "5453ec34",
   "metadata": {},
   "outputs": [
    {
     "data": {
      "text/plain": [
       "[2798, 112, -8]"
      ]
     },
     "execution_count": 7,
     "metadata": {},
     "output_type": "execute_result"
    }
   ],
   "source": [
    "def list_even(g):\n",
    "    even = []\n",
    "    for i in range(len(g)):\n",
    "        if g[i] % 2 == 0:\n",
    "            even.append(g[i])\n",
    "    return even\n",
    "\n",
    "list_even([2798,645,7,112,533,-8,-9])"
   ]
  },
  {
   "cell_type": "markdown",
   "id": "dacdd9be",
   "metadata": {},
   "source": [
    "# Question-8"
   ]
  },
  {
   "cell_type": "code",
   "execution_count": 8,
   "id": "dcf1a8c5",
   "metadata": {},
   "outputs": [
    {
     "data": {
      "text/plain": [
       "[645, 7, 533, -9]"
      ]
     },
     "execution_count": 8,
     "metadata": {},
     "output_type": "execute_result"
    }
   ],
   "source": [
    "def list_odd(h):\n",
    "    odd = []\n",
    "    for i in range(len(h)):\n",
    "        if h[i] % 2 != 0:\n",
    "            odd.append(h[i])\n",
    "    return odd\n",
    "\n",
    "list_odd([2798,645,7,112,533,-8,-9])"
   ]
  },
  {
   "cell_type": "markdown",
   "id": "0c58a866",
   "metadata": {},
   "source": [
    "# Question-9"
   ]
  },
  {
   "cell_type": "code",
   "execution_count": 14,
   "id": "551ad99e",
   "metadata": {},
   "outputs": [
    {
     "data": {
      "text/plain": [
       "[2798, 645, 7, 112, [5, 8, 6, 7], 533, -8, -9]"
      ]
     },
     "execution_count": 14,
     "metadata": {},
     "output_type": "execute_result"
    }
   ],
   "source": [
    "def remove_empty_list(a):\n",
    "    b = [i for i in a if i != []]       \n",
    "    return b\n",
    "\n",
    "remove_empty_list([2798,[],645,7,112,[5,8,6,7],533,-8,[],-9])"
   ]
  },
  {
   "cell_type": "markdown",
   "id": "5efe42ca",
   "metadata": {},
   "source": [
    "# Question-10"
   ]
  },
  {
   "cell_type": "code",
   "execution_count": 15,
   "id": "66754466",
   "metadata": {},
   "outputs": [
    {
     "data": {
      "text/plain": [
       "[2798, [], 645, 7, 112, [5, 8, 6, 7], 533, -8, [], -9]"
      ]
     },
     "execution_count": 15,
     "metadata": {},
     "output_type": "execute_result"
    }
   ],
   "source": [
    "def clone_list(a):\n",
    "    b = a[:]\n",
    "    return b\n",
    "\n",
    "clone_list([2798,[],645,7,112,[5,8,6,7],533,-8,[],-9])"
   ]
  },
  {
   "cell_type": "markdown",
   "id": "a5ea71cf",
   "metadata": {},
   "source": [
    "# Question-11"
   ]
  },
  {
   "cell_type": "code",
   "execution_count": 17,
   "id": "8166c1b2",
   "metadata": {},
   "outputs": [
    {
     "data": {
      "text/plain": [
       "2"
      ]
     },
     "execution_count": 17,
     "metadata": {},
     "output_type": "execute_result"
    }
   ],
   "source": [
    "def element_occurence(a, b):\n",
    "    occurence = 0\n",
    "    for i in range(len(a)):\n",
    "        if a[i] == b:\n",
    "            occurence += 1\n",
    "    return occurence\n",
    "\n",
    "element_occurence([2798,[],112,7,112,[5,8,6,7],533,-8,[],-9,112], [])"
   ]
  }
 ],
 "metadata": {
  "kernelspec": {
   "display_name": "Python 3",
   "language": "python",
   "name": "python3"
  },
  "language_info": {
   "codemirror_mode": {
    "name": "ipython",
    "version": 3
   },
   "file_extension": ".py",
   "mimetype": "text/x-python",
   "name": "python",
   "nbconvert_exporter": "python",
   "pygments_lexer": "ipython3",
   "version": "3.8.8"
  }
 },
 "nbformat": 4,
 "nbformat_minor": 5
}
