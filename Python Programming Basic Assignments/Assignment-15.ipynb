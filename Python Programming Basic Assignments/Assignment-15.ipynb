{
 "cells": [
  {
   "cell_type": "markdown",
   "id": "c2c4a5fe",
   "metadata": {},
   "source": [
    "# 1. Write a program using generator to print the numbers which can be divisible by 5 and 7 between 0 and n in comma separated form while n is input by console."
   ]
  },
  {
   "cell_type": "code",
   "execution_count": 1,
   "id": "7f8bc58a",
   "metadata": {},
   "outputs": [
    {
     "name": "stdout",
     "output_type": "stream",
     "text": [
      "Enter the upper limit : 100\n",
      "0,35,70\n"
     ]
    }
   ],
   "source": [
    "def gen1(n = int(input('Enter the upper limit : '))):\n",
    "    for i in range(n+1):\n",
    "        if (i % 5 == 0 and i % 7 == 0):\n",
    "            yield i\n",
    "\n",
    "out_list = []            \n",
    "for j in gen1():\n",
    "    out_list.append(str(j))\n",
    "\n",
    "print(','.join(out_list))"
   ]
  },
  {
   "cell_type": "markdown",
   "id": "b1f43d71",
   "metadata": {},
   "source": [
    "# 2. Write a program using generator to print the even numbers between 0 and n in comma separated form while n is input by console."
   ]
  },
  {
   "cell_type": "code",
   "execution_count": 2,
   "id": "c87db7e3",
   "metadata": {},
   "outputs": [
    {
     "name": "stdout",
     "output_type": "stream",
     "text": [
      "Enter the Upper Limit : 10\n",
      "0,2,4,6,8,10\n"
     ]
    }
   ],
   "source": [
    "def gen2(n = int(input('Enter the Upper Limit : '))):\n",
    "    for i in range(n+1):\n",
    "        if i % 2 == 0:\n",
    "            yield i\n",
    "            \n",
    "out_list = []\n",
    "for j in gen2():\n",
    "    out_list.append(str(j))\n",
    "\n",
    "print(','.join(out_list))"
   ]
  },
  {
   "cell_type": "markdown",
   "id": "5748728e",
   "metadata": {},
   "source": [
    "# 3. Write a program using list comprehension to print the Fibonacci Sequence in comma separated form with a given n input by console."
   ]
  },
  {
   "cell_type": "code",
   "execution_count": 13,
   "id": "6b1d8607",
   "metadata": {},
   "outputs": [
    {
     "name": "stdout",
     "output_type": "stream",
     "text": [
      "Enter the number of Terms : 10\n",
      "0,1,1,2,3,5,8,13,21,34\n"
     ]
    }
   ],
   "source": [
    "def fib(n):\n",
    "    if n == 0:\n",
    "        return 0\n",
    "    elif n == 1:\n",
    "        return 1\n",
    "    else:\n",
    "        return (fib(n-1) + fib(n-2))\n",
    "\n",
    "n = int(input('Enter the number of Terms : '))\n",
    "fib_list = [str(fib(i)) for i in range(10)]\n",
    "\n",
    "print(','.join(fib_list))"
   ]
  },
  {
   "cell_type": "markdown",
   "id": "8d783ced",
   "metadata": {},
   "source": [
    "# 4. Assuming that we have some email addresses in the 'username@companyname.com' format, Write program to print the user name of a given email address. Both user names and company names are composed of letters only."
   ]
  },
  {
   "cell_type": "code",
   "execution_count": 32,
   "id": "b58b5f98",
   "metadata": {},
   "outputs": [
    {
     "name": "stdout",
     "output_type": "stream",
     "text": [
      "user_name :  raunakchakra \n",
      " company_name :  gmail\n"
     ]
    }
   ],
   "source": [
    "def username_extract(c):\n",
    "    import re\n",
    "    user_name = c.split('@')\n",
    "    company_name = user_name[1].split('.')\n",
    "    \n",
    "    print('user_name : ', user_name[0], '\\n','company_name : ', company_name[0])\n",
    "\n",
    "username_extract('raunakchakra@gmail.com')"
   ]
  },
  {
   "cell_type": "markdown",
   "id": "daf979bf",
   "metadata": {},
   "source": [
    "# 5. Define a class named Shape and its subclass Square. The Square class has an init function which takes a length as argument. Both classes have a area function which can print the area of the shape where Shape&#39;s area is 0 by default."
   ]
  },
  {
   "cell_type": "code",
   "execution_count": 38,
   "id": "5e664736",
   "metadata": {},
   "outputs": [
    {
     "name": "stdout",
     "output_type": "stream",
     "text": [
      "0\n",
      "25\n"
     ]
    }
   ],
   "source": [
    "class Shape:\n",
    "    def Area(self):\n",
    "        return 0\n",
    "    \n",
    "class Square(Shape):\n",
    "    def __init__(self, l):\n",
    "        self.l = l\n",
    "        \n",
    "    def Area(self):\n",
    "        return (self.l)**2\n",
    "        \n",
    "obj = Shape()\n",
    "print(obj.Area())\n",
    "\n",
    "obj1 = Square(5)\n",
    "print(obj1.Area())"
   ]
  }
 ],
 "metadata": {
  "kernelspec": {
   "display_name": "Python 3",
   "language": "python",
   "name": "python3"
  },
  "language_info": {
   "codemirror_mode": {
    "name": "ipython",
    "version": 3
   },
   "file_extension": ".py",
   "mimetype": "text/x-python",
   "name": "python",
   "nbconvert_exporter": "python",
   "pygments_lexer": "ipython3",
   "version": "3.8.8"
  }
 },
 "nbformat": 4,
 "nbformat_minor": 5
}
