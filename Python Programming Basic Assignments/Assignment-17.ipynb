{
 "cells": [
  {
   "cell_type": "markdown",
   "id": "3859d63f",
   "metadata": {},
   "source": [
    "# 1. Create a function that takes three arguments a, b, c and returns the sum of the numbers that are evenly divided by c from the range a, b inclusive."
   ]
  },
  {
   "cell_type": "code",
   "execution_count": 1,
   "id": "8483d3d2",
   "metadata": {},
   "outputs": [
    {
     "data": {
      "text/plain": [
       "18"
      ]
     },
     "execution_count": 1,
     "metadata": {},
     "output_type": "execute_result"
    }
   ],
   "source": [
    "def divisibility(a, b, c):\n",
    "    sumx = 0\n",
    "    for i in range(a, b+1):\n",
    "        if i % c == 0:\n",
    "            sumx += i\n",
    "    return sumx\n",
    "\n",
    "divisibility(1, 10, 3)"
   ]
  },
  {
   "cell_type": "markdown",
   "id": "2de5c0fa",
   "metadata": {},
   "source": [
    "# 2. Create a function that returns True if a given inequality expression is correct and False otherwise."
   ]
  },
  {
   "cell_type": "code",
   "execution_count": 2,
   "id": "f105908c",
   "metadata": {},
   "outputs": [
    {
     "data": {
      "text/plain": [
       "False"
      ]
     },
     "execution_count": 2,
     "metadata": {},
     "output_type": "execute_result"
    }
   ],
   "source": [
    "def ineq(d):\n",
    "    if eval(d) == True:\n",
    "        return True\n",
    "    else:\n",
    "        return False\n",
    "\n",
    "ineq('32 < 55 > 26 < 12')"
   ]
  },
  {
   "cell_type": "markdown",
   "id": "d958e90d",
   "metadata": {},
   "source": [
    "# 3. Create a function that replaces all the vowels in a string with a specified character."
   ]
  },
  {
   "cell_type": "code",
   "execution_count": 24,
   "id": "71131cd0",
   "metadata": {},
   "outputs": [
    {
     "data": {
      "text/plain": [
       "'*****yt'"
      ]
     },
     "execution_count": 24,
     "metadata": {},
     "output_type": "execute_result"
    }
   ],
   "source": [
    "def vowel(e, f):\n",
    "    v = 'aAeEiIoOuU'\n",
    "    for i in e:\n",
    "        if i in v:\n",
    "            e = e.replace(i, f)\n",
    "    return e\n",
    "\n",
    "vowel('aeiouyt', '*')"
   ]
  },
  {
   "cell_type": "markdown",
   "id": "56d9eedf",
   "metadata": {},
   "source": [
    "# 4. Write a function that calculates the factorial of a number recursively."
   ]
  },
  {
   "cell_type": "code",
   "execution_count": 34,
   "id": "5b34a0c0",
   "metadata": {},
   "outputs": [
    {
     "data": {
      "text/plain": [
       "24"
      ]
     },
     "execution_count": 34,
     "metadata": {},
     "output_type": "execute_result"
    }
   ],
   "source": [
    "def rec_fac(f):\n",
    "    factorial = 1\n",
    "    \n",
    "    if f == 0:\n",
    "        return 1\n",
    "    elif f < 0:\n",
    "        return('factorial doesnot exist for negative numbers')\n",
    "    else:\n",
    "        factorial = f * rec_fac(f-1)\n",
    "        return factorial\n",
    "        \n",
    "rec_fac(4) "
   ]
  },
  {
   "cell_type": "markdown",
   "id": "2391e1bc",
   "metadata": {},
   "source": [
    "# 5. Create a function that computes the hamming distance between two strings."
   ]
  },
  {
   "cell_type": "code",
   "execution_count": 39,
   "id": "334080be",
   "metadata": {},
   "outputs": [
    {
     "data": {
      "text/plain": [
       "3"
      ]
     },
     "execution_count": 39,
     "metadata": {},
     "output_type": "execute_result"
    }
   ],
   "source": [
    "def ham_string(f, g):\n",
    "    if len(f) != len(g):\n",
    "        return('Enter strings of equal length')\n",
    "    \n",
    "    else:\n",
    "        ham = 0\n",
    "        for i in range(len(f)):\n",
    "            if f[i] != g[i]:\n",
    "                ham += 1    \n",
    "            else:\n",
    "                pass\n",
    "    return ham\n",
    "                   \n",
    "ham_string('abcde', 'abxyz')"
   ]
  }
 ],
 "metadata": {
  "kernelspec": {
   "display_name": "Python 3",
   "language": "python",
   "name": "python3"
  },
  "language_info": {
   "codemirror_mode": {
    "name": "ipython",
    "version": 3
   },
   "file_extension": ".py",
   "mimetype": "text/x-python",
   "name": "python",
   "nbconvert_exporter": "python",
   "pygments_lexer": "ipython3",
   "version": "3.8.8"
  }
 },
 "nbformat": 4,
 "nbformat_minor": 5
}
