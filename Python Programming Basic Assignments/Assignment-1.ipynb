{
 "cells": [
  {
   "cell_type": "markdown",
   "id": "ba70f35c",
   "metadata": {},
   "source": [
    "Question-1"
   ]
  },
  {
   "cell_type": "code",
   "execution_count": 1,
   "id": "974eed11",
   "metadata": {},
   "outputs": [
    {
     "data": {
      "text/plain": [
       "'Hello Python!!!'"
      ]
     },
     "execution_count": 1,
     "metadata": {},
     "output_type": "execute_result"
    }
   ],
   "source": [
    "def greetings():\n",
    "    return('Hello Python!!!')\n",
    "\n",
    "greetings()"
   ]
  },
  {
   "cell_type": "markdown",
   "id": "b2f2775a",
   "metadata": {},
   "source": [
    "Question-2"
   ]
  },
  {
   "cell_type": "code",
   "execution_count": 8,
   "id": "a878a57d",
   "metadata": {},
   "outputs": [
    {
     "name": "stdout",
     "output_type": "stream",
     "text": [
      "Type A for Addition & D for Division : D\n",
      "Please enter the numerator : 1000\n",
      "Please enter the denominator (except Zero) : 5\n"
     ]
    },
    {
     "data": {
      "text/plain": [
       "200.0"
      ]
     },
     "execution_count": 8,
     "metadata": {},
     "output_type": "execute_result"
    }
   ],
   "source": [
    "def add_divide():\n",
    "    operation = input('Type A for Addition & D for Division : ')\n",
    "    \n",
    "    if operation == ('A'):\n",
    "        value1 = float(input ('Please enter the first number : '))\n",
    "        value2 = float(input ('Please enter the second number : '))\n",
    "        return (value1 + value2)\n",
    "    \n",
    "    elif operation == ('D'):\n",
    "        value_num = float(input ('Please enter the numerator : '))\n",
    "        value_den = float(input ('Please enter the denominator (except Zero) : '))\n",
    "        return (value_num/value_den)\n",
    "    \n",
    "    else:\n",
    "        return ('Please enter a valid input')\n",
    "    \n",
    "add_divide()"
   ]
  },
  {
   "cell_type": "markdown",
   "id": "7a88f685",
   "metadata": {},
   "source": [
    "Question-3"
   ]
  },
  {
   "cell_type": "code",
   "execution_count": 12,
   "id": "b771ae75",
   "metadata": {},
   "outputs": [
    {
     "name": "stdout",
     "output_type": "stream",
     "text": [
      "Enter the length of the base : 5.5\n",
      "Enter the height : 6.9\n"
     ]
    },
    {
     "data": {
      "text/plain": [
       "18.975"
      ]
     },
     "execution_count": 12,
     "metadata": {},
     "output_type": "execute_result"
    }
   ],
   "source": [
    "def area_triangle():\n",
    "    b = float(input('Enter the length of the base : '))\n",
    "    h = float(input('Enter the height : '))\n",
    "    return (0.5*b*h)\n",
    "\n",
    "area_triangle()"
   ]
  },
  {
   "cell_type": "markdown",
   "id": "76afdc51",
   "metadata": {},
   "source": [
    "Question-4"
   ]
  },
  {
   "cell_type": "code",
   "execution_count": 16,
   "id": "20dfe0da",
   "metadata": {},
   "outputs": [
    {
     "name": "stdout",
     "output_type": "stream",
     "text": [
      "Please enter the first value : 45\n",
      "Please enter the second value : 52\n",
      "Swapping Complete. \n",
      "The first value is :  52\n",
      "The first value is :  45\n"
     ]
    }
   ],
   "source": [
    "def swap_var() :\n",
    "    a = input('Please enter the first value : ')\n",
    "    b = input('Please enter the second value : ')\n",
    "    \n",
    "    a, b = b, a\n",
    "    \n",
    "    print('Swapping Complete. \\nThe first value is : ', a)\n",
    "    print('The first value is : ', b)\n",
    "    \n",
    "swap_var()"
   ]
  },
  {
   "cell_type": "markdown",
   "id": "8e6450b7",
   "metadata": {},
   "source": [
    "Question-5"
   ]
  },
  {
   "cell_type": "code",
   "execution_count": 18,
   "id": "93437383",
   "metadata": {},
   "outputs": [
    {
     "data": {
      "text/plain": [
       "-61934"
      ]
     },
     "execution_count": 18,
     "metadata": {},
     "output_type": "execute_result"
    }
   ],
   "source": [
    "def random_number() :\n",
    "    import random as rn\n",
    "    return rn.randrange(-100000, 100000)\n",
    "\n",
    "random_number()"
   ]
  }
 ],
 "metadata": {
  "kernelspec": {
   "display_name": "Python 3",
   "language": "python",
   "name": "python3"
  },
  "language_info": {
   "codemirror_mode": {
    "name": "ipython",
    "version": 3
   },
   "file_extension": ".py",
   "mimetype": "text/x-python",
   "name": "python",
   "nbconvert_exporter": "python",
   "pygments_lexer": "ipython3",
   "version": "3.8.8"
  }
 },
 "nbformat": 4,
 "nbformat_minor": 5
}
