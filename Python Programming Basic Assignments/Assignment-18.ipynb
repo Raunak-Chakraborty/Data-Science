{
 "cells": [
  {
   "cell_type": "code",
   "execution_count": 22,
   "id": "07ca9167",
   "metadata": {},
   "outputs": [],
   "source": [
    "import logging as lg\n",
    "lg.basicConfig(filename = 'log18.log', level = lg.INFO, format = '%(asctime)s %(name)s %(msg)s')"
   ]
  },
  {
   "cell_type": "markdown",
   "id": "adf9442b",
   "metadata": {},
   "source": [
    "# 1. Create a function that takes a list of non-negative integers and strings and return a new list without the strings."
   ]
  },
  {
   "cell_type": "code",
   "execution_count": 7,
   "id": "e2759052",
   "metadata": {},
   "outputs": [
    {
     "data": {
      "text/plain": [
       "[23, 54, 87]"
      ]
     },
     "execution_count": 7,
     "metadata": {},
     "output_type": "execute_result"
    }
   ],
   "source": [
    "def without_string(a):\n",
    "    \n",
    "    try:\n",
    "        return_list = []\n",
    "        for i in a:\n",
    "            if type(i) != str:\n",
    "                return_list.append(i)\n",
    "        return return_list\n",
    "    \n",
    "    except Exception as e:\n",
    "        print('Check log for Error')\n",
    "        lg.error('Error occured here')\n",
    "        lg.exception(e)\n",
    "\n",
    "without_string([23, 54, 87, 'kkk', 'qqq'])"
   ]
  },
  {
   "cell_type": "markdown",
   "id": "745ba6fd",
   "metadata": {},
   "source": [
    "# 2. The 'Reverser' takes a string as input and returns that string in reverse order, with the opposite case."
   ]
  },
  {
   "cell_type": "code",
   "execution_count": 16,
   "id": "eba90c4c",
   "metadata": {},
   "outputs": [
    {
     "data": {
      "text/plain": [
       "'EDCBA'"
      ]
     },
     "execution_count": 16,
     "metadata": {},
     "output_type": "execute_result"
    }
   ],
   "source": [
    "def Reverser(b):\n",
    "    b_list = [i for i in b]\n",
    "    b_1 = b_list[::-1]\n",
    "    b_1_1 = ''.join(b_1)\n",
    "    b_1_2 = b_1_1.swapcase()\n",
    "    \n",
    "    return b_1_2\n",
    "\n",
    "Reverser('abcde')        "
   ]
  },
  {
   "cell_type": "markdown",
   "id": "b2dbb73e",
   "metadata": {},
   "source": [
    "# 3. Unpack a list using destructuring."
   ]
  },
  {
   "cell_type": "code",
   "execution_count": 19,
   "id": "72c52da2",
   "metadata": {},
   "outputs": [
    {
     "name": "stdout",
     "output_type": "stream",
     "text": [
      "first :  1 \n",
      " middle :  [2, 3, 4, 5, 6, 7, 8] \n",
      " last :  9\n"
     ]
    }
   ],
   "source": [
    "def destructure(c):\n",
    "    first, middle, last = c[0], c[1:-1], c[-1]\n",
    "    print('first : ', first, '\\n', 'middle : ', middle, '\\n', 'last : ', last)\n",
    "    \n",
    "destructure([1,2,3,4,5,6,7,8,9])"
   ]
  },
  {
   "cell_type": "markdown",
   "id": "d9a2230c",
   "metadata": {},
   "source": [
    "# 4. Write a function that calculates the factorial of a number recursively."
   ]
  },
  {
   "cell_type": "code",
   "execution_count": 20,
   "id": "c1e106e6",
   "metadata": {},
   "outputs": [
    {
     "data": {
      "text/plain": [
       "120"
      ]
     },
     "execution_count": 20,
     "metadata": {},
     "output_type": "execute_result"
    }
   ],
   "source": [
    "def fact_rec(d):\n",
    "    \n",
    "    try:\n",
    "        if d < 0:\n",
    "            return('factorial doesnot exist for negative numbers')\n",
    "        elif d == 0:\n",
    "            return 1\n",
    "        else:\n",
    "            factorial = d * fact_rec(d-1)\n",
    "            return factorial\n",
    "    \n",
    "    except Exception as e:\n",
    "        print('Check log for Error')\n",
    "        lg.error('Error occured here')\n",
    "        lg.exception(e)\n",
    "   \n",
    "fact_rec(5)"
   ]
  },
  {
   "cell_type": "markdown",
   "id": "9e6d0bf8",
   "metadata": {},
   "source": [
    "# 5. Write a function that moves all elements of one type to the end of the list."
   ]
  },
  {
   "cell_type": "code",
   "execution_count": 21,
   "id": "0ef88343",
   "metadata": {},
   "outputs": [
    {
     "data": {
      "text/plain": [
       "[6, 9, 4, 5, 3, 2, 2]"
      ]
     },
     "execution_count": 21,
     "metadata": {},
     "output_type": "execute_result"
    }
   ],
   "source": [
    "def move_to_end(e, f):\n",
    "    \n",
    "    try:\n",
    "        for i in e:\n",
    "            if i == f:\n",
    "                e.append(e.pop(e.index(i)))\n",
    "        return e\n",
    "    \n",
    "    except Exception as e:\n",
    "        print('Check log for Error')\n",
    "        lg.error('Error occured here')\n",
    "        lg.exception(e)\n",
    "\n",
    "move_to_end([2,6,9,2,4,5,3], 2)"
   ]
  }
 ],
 "metadata": {
  "kernelspec": {
   "display_name": "Python 3",
   "language": "python",
   "name": "python3"
  },
  "language_info": {
   "codemirror_mode": {
    "name": "ipython",
    "version": 3
   },
   "file_extension": ".py",
   "mimetype": "text/x-python",
   "name": "python",
   "nbconvert_exporter": "python",
   "pygments_lexer": "ipython3",
   "version": "3.8.8"
  }
 },
 "nbformat": 4,
 "nbformat_minor": 5
}
