{
 "cells": [
  {
   "cell_type": "markdown",
   "id": "12aeeab8",
   "metadata": {},
   "source": [
    "# 1. Python program to Extract Unique values from a dictionary."
   ]
  },
  {
   "cell_type": "code",
   "execution_count": 1,
   "id": "572ab2c6",
   "metadata": {},
   "outputs": [
    {
     "data": {
      "text/plain": [
       "[25, 63, 87, 96, 'werdsgfd', 54, 66, 9, 71]"
      ]
     },
     "execution_count": 1,
     "metadata": {},
     "output_type": "execute_result"
    }
   ],
   "source": [
    "def unique_values_dic(a):\n",
    "    unique = []\n",
    "    for i in a.values():\n",
    "        if (type(i) == list or type(i) == tuple):\n",
    "            for j in i:\n",
    "                if j not in unique:\n",
    "                    unique.append(j)\n",
    "        else : \n",
    "            if i not in unique:\n",
    "                unique.append(i)\n",
    "            \n",
    "    return unique\n",
    "\n",
    "unique_values_dic({'b' : [25,63,87,96], 'c' : 'werdsgfd', 'd' : 63, 'e' : (96,54,66,9,71)})    "
   ]
  },
  {
   "cell_type": "markdown",
   "id": "93b9ef06",
   "metadata": {},
   "source": [
    "# 2. Python program to find the sum of all items in a dictionary."
   ]
  },
  {
   "cell_type": "code",
   "execution_count": 8,
   "id": "97015f89",
   "metadata": {},
   "outputs": [
    {
     "data": {
      "text/plain": [
       "630"
      ]
     },
     "execution_count": 8,
     "metadata": {},
     "output_type": "execute_result"
    }
   ],
   "source": [
    "def sum_dic_keys(a):\n",
    "    items = []\n",
    "    for i in a.values():\n",
    "        if (type(i) == list or type(i) == tuple):\n",
    "            for j in i :\n",
    "                items.append(j)\n",
    "                \n",
    "        elif (type(i) == int or type(i) == float):\n",
    "            items.append(i)\n",
    "        else :\n",
    "            pass\n",
    "            \n",
    "    return sum(items)\n",
    "        \n",
    "sum_dic_keys({'b' : [25,63,87,96], 'c' : 'werdsgfd', 'd' : 63, 'e' : (96,54,66,9,71)})            "
   ]
  },
  {
   "cell_type": "code",
   "execution_count": 9,
   "id": "95a88f93",
   "metadata": {},
   "outputs": [
    {
     "data": {
      "text/plain": [
       "dict_items([('b', [25, 63, 87, 96]), ('c', 'werdsgfd'), ('d', 63), ('e', (96, 54, 66, 9, 71))])"
      ]
     },
     "execution_count": 9,
     "metadata": {},
     "output_type": "execute_result"
    }
   ],
   "source": [
    "f = {'b' : [25,63,87,96], 'c' : 'werdsgfd', 'd' : 63, 'e' : (96,54,66,9,71)}\n",
    "f.items()"
   ]
  },
  {
   "cell_type": "markdown",
   "id": "2c46b4fb",
   "metadata": {},
   "source": [
    "# 3. Python program to merge two dictionaries."
   ]
  },
  {
   "cell_type": "code",
   "execution_count": 11,
   "id": "6b4cf881",
   "metadata": {},
   "outputs": [
    {
     "data": {
      "text/plain": [
       "{'b': [25, 63, 87, 96], 'c': 'werdsgfd', 'd': 63, 'e': (96, 54, 66, 9, 71)}"
      ]
     },
     "execution_count": 11,
     "metadata": {},
     "output_type": "execute_result"
    }
   ],
   "source": [
    "def dic_merge(a, b):\n",
    "    for key, value in b.items():\n",
    "        a[key] = value\n",
    "        \n",
    "    return a\n",
    "\n",
    "dic_merge({'b' : [25,63,87,96], 'c' : 'werdsgfd'}, {'d' : 63, 'e' : (96,54,66,9,71)})"
   ]
  },
  {
   "cell_type": "markdown",
   "id": "9e586dfd",
   "metadata": {},
   "source": [
    "# 4. Python program to convert key-values list to flat dictionary."
   ]
  },
  {
   "cell_type": "code",
   "execution_count": 15,
   "id": "eed89f08",
   "metadata": {},
   "outputs": [
    {
     "name": "stdout",
     "output_type": "stream",
     "text": [
      "{'Bat_Man': 'Iron_Man', 'Superman': 'Thor', 'Wonder_Woman': 'Captain_Marvel'}\n"
     ]
    }
   ],
   "source": [
    "test_dic = {'DC' : ['Bat_Man', 'Superman', 'Wonder_Woman'], 'Marvel' : ['Iron_Man', 'Thor', 'Captain_Marvel']}\n",
    "\n",
    "flat_dic = dict(zip(test_dic['DC'], test_dic['Marvel']))\n",
    "\n",
    "print(flat_dic)\n",
    "            "
   ]
  },
  {
   "cell_type": "markdown",
   "id": "956307a9",
   "metadata": {},
   "source": [
    "# 5. Python program to insert at the beginning of an Ordered Dictionary."
   ]
  },
  {
   "cell_type": "code",
   "execution_count": 20,
   "id": "443faf24",
   "metadata": {},
   "outputs": [
    {
     "name": "stdout",
     "output_type": "stream",
     "text": [
      "OrderedDict([('eee', '555'), ('fff', '666'), ('ggg', '777'), ('hhh', '888')])\n"
     ]
    }
   ],
   "source": [
    "from collections import OrderedDict\n",
    "\n",
    "od1 = OrderedDict([('fff', '666'), ('ggg', '777'), ('hhh', '888')])\n",
    "od1.update({'eee' : '555'})\n",
    "od1.move_to_end('eee', last = False)\n",
    "\n",
    "print(od1)"
   ]
  },
  {
   "cell_type": "markdown",
   "id": "6e30371e",
   "metadata": {},
   "source": [
    " # 6. Python program to check order of character in string using    OrderedDict()."
   ]
  },
  {
   "cell_type": "code",
   "execution_count": 27,
   "id": "ab398e80",
   "metadata": {},
   "outputs": [
    {
     "name": "stdout",
     "output_type": "stream",
     "text": [
      "Enter String : i am Vengence\n",
      "Enter Pattern : gen\n",
      "Pattern matched\n"
     ]
    }
   ],
   "source": [
    "def order_of_string(string, pattern):\n",
    "    from collections import OrderedDict\n",
    "    dic = OrderedDict.fromkeys(string)\n",
    "    ptr_len = 0\n",
    "    \n",
    "    for key, value in dic.items():\n",
    "        if key == pattern[ptr_len]:\n",
    "            ptr_len += 1\n",
    "        \n",
    "        if ptr_len == len(pattern):\n",
    "            return 'true'\n",
    "    \n",
    "    return 'false'\n",
    "\n",
    "string = input(\"Enter String : \")\n",
    "pattern = input(\"Enter Pattern : \")\n",
    "\n",
    "if order_of_string(string, pattern):\n",
    "    print(\"Pattern matched\")\n",
    "else:\n",
    "    print(\"Pattern not matched\")"
   ]
  },
  {
   "cell_type": "markdown",
   "id": "7e5f085f",
   "metadata": {},
   "source": [
    " # 7. Python program to sort Python Dictionaries by Key or Value."
   ]
  },
  {
   "cell_type": "code",
   "execution_count": 29,
   "id": "88ba974b",
   "metadata": {},
   "outputs": [
    {
     "name": "stdout",
     "output_type": "stream",
     "text": [
      "[('fgh', 237), ('qwy', 551), ('tre', 789), ('xyz', 456)]\n",
      "['fgh', 'qwy', 'tre', 'xyz']\n",
      "[237, 456, 551, 789]\n"
     ]
    }
   ],
   "source": [
    "def sort(a):\n",
    "    sort_items = sorted(a.items())\n",
    "    sort_keys = sorted(a.keys())\n",
    "    sort_values = sorted(a.values())\n",
    "    \n",
    "    print(sort_items)\n",
    "    print(sort_keys)\n",
    "    print(sort_values)\n",
    "    \n",
    "sort({'xyz' : 456, 'fgh' : 237, 'tre' : 789, 'qwy' : 551})"
   ]
  }
 ],
 "metadata": {
  "kernelspec": {
   "display_name": "Python 3",
   "language": "python",
   "name": "python3"
  },
  "language_info": {
   "codemirror_mode": {
    "name": "ipython",
    "version": 3
   },
   "file_extension": ".py",
   "mimetype": "text/x-python",
   "name": "python",
   "nbconvert_exporter": "python",
   "pygments_lexer": "ipython3",
   "version": "3.8.8"
  }
 },
 "nbformat": 4,
 "nbformat_minor": 5
}
