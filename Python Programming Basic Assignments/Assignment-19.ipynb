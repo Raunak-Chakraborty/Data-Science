{
 "cells": [
  {
   "cell_type": "markdown",
   "id": "ce5138b7",
   "metadata": {},
   "source": [
    "# 1. Create a function that takes a string and returns a string in which each character is repeated once."
   ]
  },
  {
   "cell_type": "code",
   "execution_count": 17,
   "id": "82e34cdb",
   "metadata": {},
   "outputs": [
    {
     "data": {
      "text/plain": [
       "'aabbccddee'"
      ]
     },
     "execution_count": 17,
     "metadata": {},
     "output_type": "execute_result"
    }
   ],
   "source": [
    "def double_char(a):\n",
    "    result = ''\n",
    "    for i in a:\n",
    "        result += i*2\n",
    "    return result\n",
    "        \n",
    "double_char('abcde')"
   ]
  },
  {
   "cell_type": "markdown",
   "id": "e1402d7b",
   "metadata": {},
   "source": [
    "# 2. Create a function that reverses a boolean value and returns the string 'boolean expected' if another variable type is given."
   ]
  },
  {
   "cell_type": "code",
   "execution_count": 19,
   "id": "f8271595",
   "metadata": {},
   "outputs": [
    {
     "data": {
      "text/plain": [
       "False"
      ]
     },
     "execution_count": 19,
     "metadata": {},
     "output_type": "execute_result"
    }
   ],
   "source": [
    "def boo(b):\n",
    "    if bool(b) == 1:\n",
    "        return bool(0)\n",
    "    elif bool(b) == 0:\n",
    "        return bool(1)\n",
    "    else:\n",
    "        return ('Boolean Expected!')\n",
    "    \n",
    "boo(True)"
   ]
  },
  {
   "cell_type": "markdown",
   "id": "efbea1e9",
   "metadata": {},
   "source": [
    "# 3. Create a function that returns the thickness (in meters) of a piece of paper after folding it n number of times. The paper starts off with a thickness of 0.5mm."
   ]
  },
  {
   "cell_type": "code",
   "execution_count": 23,
   "id": "711769a1",
   "metadata": {},
   "outputs": [
    {
     "data": {
      "text/plain": [
       "0.001"
      ]
     },
     "execution_count": 23,
     "metadata": {},
     "output_type": "execute_result"
    }
   ],
   "source": [
    "def paper_thickness(n):\n",
    "    a = 0.5\n",
    "    for i in range(1, n+1):\n",
    "        a *= 2\n",
    "        \n",
    "    return (a/1000)\n",
    "\n",
    "paper_thickness(1)"
   ]
  },
  {
   "cell_type": "markdown",
   "id": "d1515575",
   "metadata": {},
   "source": [
    "# 4. Create a function that takes a single string as argument and returns an ordered list containing the indices of all capital letters in the string."
   ]
  },
  {
   "cell_type": "code",
   "execution_count": 24,
   "id": "5156f063",
   "metadata": {},
   "outputs": [
    {
     "data": {
      "text/plain": [
       "[2, 5, 9]"
      ]
     },
     "execution_count": 24,
     "metadata": {},
     "output_type": "execute_result"
    }
   ],
   "source": [
    "def cap_ind(d):\n",
    "    result = []\n",
    "    for i in d:\n",
    "        if i.isupper():\n",
    "            result.append(d.index(i))\n",
    "    return result\n",
    "\n",
    "cap_ind('abCdeFghiJ')"
   ]
  },
  {
   "cell_type": "markdown",
   "id": "8d62a3c7",
   "metadata": {},
   "source": [
    "# 5. Using list comprehensions, create a function that finds all even numbers from 1 to the given number."
   ]
  },
  {
   "cell_type": "code",
   "execution_count": 30,
   "id": "e01b86ef",
   "metadata": {},
   "outputs": [
    {
     "data": {
      "text/plain": [
       "[2, 4, 6, 8, 10, 12, 14, 16, 18, 20, 22, 24, 26, 28, 30, 32]"
      ]
     },
     "execution_count": 30,
     "metadata": {},
     "output_type": "execute_result"
    }
   ],
   "source": [
    "def eve(e):\n",
    "    result = [i for i in range(1, e+1) if i%2 == 0 ]\n",
    "    return result\n",
    "\n",
    "eve(32)"
   ]
  }
 ],
 "metadata": {
  "kernelspec": {
   "display_name": "Python 3",
   "language": "python",
   "name": "python3"
  },
  "language_info": {
   "codemirror_mode": {
    "name": "ipython",
    "version": 3
   },
   "file_extension": ".py",
   "mimetype": "text/x-python",
   "name": "python",
   "nbconvert_exporter": "python",
   "pygments_lexer": "ipython3",
   "version": "3.8.8"
  }
 },
 "nbformat": 4,
 "nbformat_minor": 5
}
