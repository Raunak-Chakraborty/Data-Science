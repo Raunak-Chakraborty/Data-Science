{
 "cells": [
  {
   "cell_type": "markdown",
   "id": "97f2c8d9",
   "metadata": {},
   "source": [
    "# 1. Write a function that takes a list and a number as arguments. Add the number to the end of the list, then remove the first element of the list. The function should then return the updated list."
   ]
  },
  {
   "cell_type": "code",
   "execution_count": 1,
   "id": "933a8367",
   "metadata": {},
   "outputs": [
    {
     "data": {
      "text/plain": [
       "[6, 8, 7, 2, 3, 74, 666]"
      ]
     },
     "execution_count": 1,
     "metadata": {},
     "output_type": "execute_result"
    }
   ],
   "source": [
    "def list_manipulation(a, b):\n",
    "    a.append(b)\n",
    "    result = a[1:]\n",
    "    return result\n",
    "\n",
    "list_manipulation([5,6,8,7,2,3,74], 666)"
   ]
  },
  {
   "cell_type": "markdown",
   "id": "a8e81eac",
   "metadata": {},
   "source": [
    "# 2. Create the function that takes a list of dictionaries and returns the sum of people's budgets."
   ]
  },
  {
   "cell_type": "code",
   "execution_count": 2,
   "id": "4a55539e",
   "metadata": {},
   "outputs": [
    {
     "data": {
      "text/plain": [
       "196000"
      ]
     },
     "execution_count": 2,
     "metadata": {},
     "output_type": "execute_result"
    }
   ],
   "source": [
    "def get_budget(c):\n",
    "    sumx = 0\n",
    "    for i in c:\n",
    "        sumx += i.get('budget')\n",
    "    return sumx\n",
    "\n",
    "get_budget([{'name' : 'Dona', 'age' : 27, 'budget' : 32000},\n",
    "            {'name' : 'Clark', 'age' : 28, 'budget' : 64000},\n",
    "            {'name' : 'Bruce', 'age' : 29, 'budget' : 100000}])"
   ]
  },
  {
   "cell_type": "markdown",
   "id": "3ab5cdbd",
   "metadata": {},
   "source": [
    "# 3. Create a function that takes a string and returns a string with its letters in alphabetical order."
   ]
  },
  {
   "cell_type": "code",
   "execution_count": 6,
   "id": "7a7846ca",
   "metadata": {},
   "outputs": [
    {
     "data": {
      "text/plain": [
       "'aciorstvzzz'"
      ]
     },
     "execution_count": 6,
     "metadata": {},
     "output_type": "execute_result"
    }
   ],
   "source": [
    "def string_sort(d):\n",
    "    result = ''.join(sorted(d))\n",
    "    return result\n",
    "\n",
    "string_sort('zsazzvictor')"
   ]
  },
  {
   "cell_type": "markdown",
   "id": "bbc716f3",
   "metadata": {},
   "source": [
    "# 4. Suppose that you invest 10,000 for 10 years at an interest rate of 6% compounded monthly. What will be the value of your investment at the end of the 10 year period? Create a function that accepts the principal p, the term in years t, the interest rate r, and the number of compounding periods per year n. The function returns the value at the end of term rounded to the nearest cent."
   ]
  },
  {
   "cell_type": "code",
   "execution_count": 9,
   "id": "465656d6",
   "metadata": {},
   "outputs": [
    {
     "data": {
      "text/plain": [
       "18193.97"
      ]
     },
     "execution_count": 9,
     "metadata": {},
     "output_type": "execute_result"
    }
   ],
   "source": [
    "def comp_int(p, r, n, t):\n",
    "    import math\n",
    "    amount = p * math.pow((1 + (r/n)), (n*t))\n",
    "    return round(amount, 2)\n",
    "\n",
    "comp_int(10000, 0.06, 12, 10)"
   ]
  },
  {
   "cell_type": "markdown",
   "id": "d5585e22",
   "metadata": {},
   "source": [
    "# 5. Write a function that takes a list of elements and returns only the integers."
   ]
  },
  {
   "cell_type": "code",
   "execution_count": 11,
   "id": "ab594adf",
   "metadata": {},
   "outputs": [
    {
     "data": {
      "text/plain": [
       "[23, 48]"
      ]
     },
     "execution_count": 11,
     "metadata": {},
     "output_type": "execute_result"
    }
   ],
   "source": [
    "def list_int(e):\n",
    "    result = []\n",
    "    for i in e:\n",
    "        if type(i) == int:\n",
    "            result.append(i)\n",
    "    return result\n",
    "\n",
    "list_int([23,65.2,48,'fff',[2,3,6,8]])"
   ]
  }
 ],
 "metadata": {
  "kernelspec": {
   "display_name": "Python 3",
   "language": "python",
   "name": "python3"
  },
  "language_info": {
   "codemirror_mode": {
    "name": "ipython",
    "version": 3
   },
   "file_extension": ".py",
   "mimetype": "text/x-python",
   "name": "python",
   "nbconvert_exporter": "python",
   "pygments_lexer": "ipython3",
   "version": "3.8.8"
  }
 },
 "nbformat": 4,
 "nbformat_minor": 5
}
