{
 "cells": [
  {
   "cell_type": "markdown",
   "id": "4c287182",
   "metadata": {},
   "source": [
    "Question-1"
   ]
  },
  {
   "cell_type": "markdown",
   "id": "09e297e3",
   "metadata": {},
   "source": [
    "Functions are useful because of their re-usability."
   ]
  },
  {
   "cell_type": "markdown",
   "id": "0ce15285",
   "metadata": {},
   "source": [
    "Question-2"
   ]
  },
  {
   "cell_type": "markdown",
   "id": "217daecb",
   "metadata": {},
   "source": [
    "A function works when it is called."
   ]
  },
  {
   "cell_type": "markdown",
   "id": "5fe12a48",
   "metadata": {},
   "source": [
    "Question-3"
   ]
  },
  {
   "cell_type": "markdown",
   "id": "30320e3b",
   "metadata": {},
   "source": [
    "def statement creates a function."
   ]
  },
  {
   "cell_type": "markdown",
   "id": "b2d2a3ab",
   "metadata": {},
   "source": [
    "Question-4"
   ]
  },
  {
   "cell_type": "markdown",
   "id": "ce9e5e70",
   "metadata": {},
   "source": [
    "A function is created with the def statement & contains code in it.\n",
    "A function call evaluates whatever is defined in the function, based on the input, thereby returning a value."
   ]
  },
  {
   "cell_type": "markdown",
   "id": "d7200c08",
   "metadata": {},
   "source": [
    "Question-5"
   ]
  },
  {
   "cell_type": "markdown",
   "id": "ba995715",
   "metadata": {},
   "source": [
    "There is one global scope & a local scope is created whenever a function is called."
   ]
  },
  {
   "cell_type": "markdown",
   "id": "d905a817",
   "metadata": {},
   "source": [
    "Question-6\n"
   ]
  },
  {
   "cell_type": "markdown",
   "id": "e8c9edeb",
   "metadata": {},
   "source": [
    "When the function returns, the local scope is destroyed, and these variables are forgotten."
   ]
  },
  {
   "cell_type": "markdown",
   "id": "61c1d761",
   "metadata": {},
   "source": [
    "Question-7"
   ]
  },
  {
   "cell_type": "markdown",
   "id": "4070e33d",
   "metadata": {},
   "source": [
    "The return value is whatever the function evaluates to. It can be used as a part of an expression."
   ]
  },
  {
   "cell_type": "markdown",
   "id": "0e06cf3f",
   "metadata": {},
   "source": [
    "Question-8"
   ]
  },
  {
   "cell_type": "markdown",
   "id": "fca854bc",
   "metadata": {},
   "source": [
    "None"
   ]
  },
  {
   "cell_type": "markdown",
   "id": "d0f04e6d",
   "metadata": {},
   "source": [
    "Question-9"
   ]
  },
  {
   "cell_type": "markdown",
   "id": "27f8c372",
   "metadata": {},
   "source": [
    "A global statement will force a variable in a function to refer to the global variable."
   ]
  },
  {
   "cell_type": "markdown",
   "id": "cca92ddf",
   "metadata": {},
   "source": [
    "Question-10"
   ]
  },
  {
   "cell_type": "markdown",
   "id": "9c6dcac5",
   "metadata": {},
   "source": [
    "NoneType"
   ]
  },
  {
   "cell_type": "markdown",
   "id": "ce3f2b82",
   "metadata": {},
   "source": [
    "Question-11"
   ]
  },
  {
   "cell_type": "markdown",
   "id": "1581d24e",
   "metadata": {},
   "source": [
    "It imports a module named areallyourpetsnamederic."
   ]
  },
  {
   "cell_type": "markdown",
   "id": "f19aadf0",
   "metadata": {},
   "source": [
    "Question-12"
   ]
  },
  {
   "cell_type": "markdown",
   "id": "fb8e0b9f",
   "metadata": {},
   "source": [
    "spam.bacon()"
   ]
  },
  {
   "cell_type": "markdown",
   "id": "b03db1a3",
   "metadata": {},
   "source": [
    "Question-13"
   ]
  },
  {
   "cell_type": "markdown",
   "id": "81339316",
   "metadata": {},
   "source": [
    "Place the erroneous line of code inside a try clause."
   ]
  },
  {
   "cell_type": "markdown",
   "id": "7efbd90a",
   "metadata": {},
   "source": [
    "Question-14"
   ]
  },
  {
   "cell_type": "markdown",
   "id": "77a1d82f",
   "metadata": {},
   "source": [
    "The try block lets you test a block of code for errors.\n",
    "The except block lets you handle the error.\n",
    "The finally block lets you execute code, regardless of the result of the try- and except blocks."
   ]
  }
 ],
 "metadata": {
  "kernelspec": {
   "display_name": "Python 3",
   "language": "python",
   "name": "python3"
  },
  "language_info": {
   "codemirror_mode": {
    "name": "ipython",
    "version": 3
   },
   "file_extension": ".py",
   "mimetype": "text/x-python",
   "name": "python",
   "nbconvert_exporter": "python",
   "pygments_lexer": "ipython3",
   "version": "3.8.8"
  }
 },
 "nbformat": 4,
 "nbformat_minor": 5
}
