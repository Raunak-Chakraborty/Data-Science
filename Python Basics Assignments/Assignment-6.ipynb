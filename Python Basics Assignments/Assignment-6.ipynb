{
 "cells": [
  {
   "cell_type": "markdown",
   "id": "0e6a2d4c",
   "metadata": {},
   "source": [
    "Question-1"
   ]
  },
  {
   "cell_type": "markdown",
   "id": "bc58f2a9",
   "metadata": {},
   "source": [
    "An escape character is a character in a string which is used to insert a certain character, which is otherwise difficult to include. The backslash \\ is used as an escape character in python. Whatever character we place after the backslash will not be considered a part of the string.\n",
    "\\' : single quote\n",
    "\\\\ : backslash"
   ]
  },
  {
   "cell_type": "markdown",
   "id": "95014a39",
   "metadata": {},
   "source": [
    "Question-2"
   ]
  },
  {
   "cell_type": "markdown",
   "id": "7bc38363",
   "metadata": {},
   "source": [
    "\\n : newline\n",
    "\\t : horizontal tab"
   ]
  },
  {
   "cell_type": "markdown",
   "id": "f1e89404",
   "metadata": {},
   "source": [
    "Question-3"
   ]
  },
  {
   "cell_type": "markdown",
   "id": "a5a779b9",
   "metadata": {},
   "source": [
    "By putting a backslash \\ infront of them"
   ]
  },
  {
   "cell_type": "markdown",
   "id": "b5d3c2ee",
   "metadata": {},
   "source": [
    "Question-4"
   ]
  },
  {
   "cell_type": "markdown",
   "id": "1223fad1",
   "metadata": {},
   "source": [
    "Because the string is enclosed by double quotes"
   ]
  },
  {
   "cell_type": "markdown",
   "id": "ca94fee1",
   "metadata": {},
   "source": [
    "Question-5"
   ]
  },
  {
   "cell_type": "markdown",
   "id": "12a98e09",
   "metadata": {},
   "source": [
    "By using multi-line strings (iside ''')"
   ]
  },
  {
   "cell_type": "markdown",
   "id": "7733b568",
   "metadata": {},
   "source": [
    "Question-6"
   ]
  },
  {
   "cell_type": "code",
   "execution_count": 1,
   "id": "309a217e",
   "metadata": {},
   "outputs": [
    {
     "data": {
      "text/plain": [
       "'e'"
      ]
     },
     "execution_count": 1,
     "metadata": {},
     "output_type": "execute_result"
    }
   ],
   "source": [
    "'Hello,world!'[1]"
   ]
  },
  {
   "cell_type": "code",
   "execution_count": 3,
   "id": "272e803e",
   "metadata": {},
   "outputs": [
    {
     "data": {
      "text/plain": [
       "'Hello'"
      ]
     },
     "execution_count": 3,
     "metadata": {},
     "output_type": "execute_result"
    }
   ],
   "source": [
    "'Hello,world!'[0:5]"
   ]
  },
  {
   "cell_type": "code",
   "execution_count": 4,
   "id": "da52c430",
   "metadata": {},
   "outputs": [
    {
     "data": {
      "text/plain": [
       "'Hello'"
      ]
     },
     "execution_count": 4,
     "metadata": {},
     "output_type": "execute_result"
    }
   ],
   "source": [
    "'Hello,world!'[:5]"
   ]
  },
  {
   "cell_type": "code",
   "execution_count": 5,
   "id": "08f1069d",
   "metadata": {},
   "outputs": [
    {
     "data": {
      "text/plain": [
       "'lo,world!'"
      ]
     },
     "execution_count": 5,
     "metadata": {},
     "output_type": "execute_result"
    }
   ],
   "source": [
    "'Hello,world!'[3:]"
   ]
  },
  {
   "cell_type": "markdown",
   "id": "3b082393",
   "metadata": {},
   "source": [
    "Question-7"
   ]
  },
  {
   "cell_type": "code",
   "execution_count": 6,
   "id": "3d4f5a8c",
   "metadata": {},
   "outputs": [
    {
     "data": {
      "text/plain": [
       "'HELLO'"
      ]
     },
     "execution_count": 6,
     "metadata": {},
     "output_type": "execute_result"
    }
   ],
   "source": [
    "'Hello'.upper()"
   ]
  },
  {
   "cell_type": "code",
   "execution_count": 7,
   "id": "3bfdc51a",
   "metadata": {},
   "outputs": [
    {
     "data": {
      "text/plain": [
       "True"
      ]
     },
     "execution_count": 7,
     "metadata": {},
     "output_type": "execute_result"
    }
   ],
   "source": [
    "'Hello'.upper().isupper()"
   ]
  },
  {
   "cell_type": "code",
   "execution_count": 8,
   "id": "2559a899",
   "metadata": {},
   "outputs": [
    {
     "data": {
      "text/plain": [
       "'hello'"
      ]
     },
     "execution_count": 8,
     "metadata": {},
     "output_type": "execute_result"
    }
   ],
   "source": [
    "'Hello'.upper().lower()"
   ]
  },
  {
   "cell_type": "markdown",
   "id": "0a2455f8",
   "metadata": {},
   "source": [
    "Question-8"
   ]
  },
  {
   "cell_type": "code",
   "execution_count": 9,
   "id": "4815a651",
   "metadata": {},
   "outputs": [
    {
     "data": {
      "text/plain": [
       "['Remember,', 'remember,', 'the', 'fifth', 'of', 'July.']"
      ]
     },
     "execution_count": 9,
     "metadata": {},
     "output_type": "execute_result"
    }
   ],
   "source": [
    "'Remember, remember, the fifth of July.'.split()"
   ]
  },
  {
   "cell_type": "code",
   "execution_count": 10,
   "id": "3fddec42",
   "metadata": {},
   "outputs": [
    {
     "data": {
      "text/plain": [
       "'There-can-only-one.'"
      ]
     },
     "execution_count": 10,
     "metadata": {},
     "output_type": "execute_result"
    }
   ],
   "source": [
    "'-'.join('There can only one.'.split())"
   ]
  },
  {
   "cell_type": "markdown",
   "id": "fbe98efe",
   "metadata": {},
   "source": [
    "Question-9"
   ]
  },
  {
   "cell_type": "markdown",
   "id": "9ea07922",
   "metadata": {},
   "source": [
    "ljust(), rjust(), centre()"
   ]
  },
  {
   "cell_type": "markdown",
   "id": "1841e968",
   "metadata": {},
   "source": [
    "Question-10"
   ]
  },
  {
   "cell_type": "markdown",
   "id": "79deb5ce",
   "metadata": {},
   "source": [
    "lstrip(), rstrip()"
   ]
  }
 ],
 "metadata": {
  "kernelspec": {
   "display_name": "Python 3",
   "language": "python",
   "name": "python3"
  },
  "language_info": {
   "codemirror_mode": {
    "name": "ipython",
    "version": 3
   },
   "file_extension": ".py",
   "mimetype": "text/x-python",
   "name": "python",
   "nbconvert_exporter": "python",
   "pygments_lexer": "ipython3",
   "version": "3.8.8"
  }
 },
 "nbformat": 4,
 "nbformat_minor": 5
}
