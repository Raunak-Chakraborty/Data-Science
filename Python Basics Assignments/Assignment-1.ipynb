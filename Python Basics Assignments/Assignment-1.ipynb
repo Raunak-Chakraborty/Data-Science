{
 "cells": [
  {
   "cell_type": "markdown",
   "id": "6efb4af2",
   "metadata": {},
   "source": [
    "Question-1"
   ]
  },
  {
   "cell_type": "markdown",
   "id": "61fb46b3",
   "metadata": {},
   "source": [
    "+, -, *, / : Expressions\n",
    "'hello', -87.8, 6 : Values"
   ]
  },
  {
   "cell_type": "markdown",
   "id": "c8cb68db",
   "metadata": {},
   "source": [
    "Question-2"
   ]
  },
  {
   "cell_type": "markdown",
   "id": "25edecaf",
   "metadata": {},
   "source": [
    "Difference between String & Variable :\n",
    "\n",
    "A variable is an entity that can store any value within it, such as Numbers, Strings, Lists, Tuples, Dictionaries etc. It is a container for any kind of data.\n",
    "\n",
    "Whereas, String is a data-type which is used to store an array of numbers, expressions, characters etc, which must be enclosed in either single or double quotes.\n",
    "\n",
    "Thus, a string is one of the several types of variables. "
   ]
  },
  {
   "cell_type": "markdown",
   "id": "ad884363",
   "metadata": {},
   "source": [
    "Question-3"
   ]
  },
  {
   "cell_type": "markdown",
   "id": "186408ae",
   "metadata": {},
   "source": [
    "Data Types are classes & variables are instances of those classes.\n",
    "\n",
    "Numeric:\n",
    "    INT : is used to store posive or negative whole numbers.\n",
    "    FLOAT : is used to store decimal numbers.\n",
    "    COMPLEX : is used to store complex numbers, which contain a real & imaginary part.\n",
    "\n",
    "Dictionary : is used to store data in the form of key & value pairs.\n",
    "\n",
    "Boolean : is used to store two in-built values, True(1) or False(0)."
   ]
  },
  {
   "cell_type": "markdown",
   "id": "f14fa0f6",
   "metadata": {},
   "source": [
    "Question-4"
   ]
  },
  {
   "cell_type": "markdown",
   "id": "828999f4",
   "metadata": {},
   "source": [
    "An expression is a combination of operators and operands that is interpreted to produce some other value. An expression is evaluated as per the precedence of its operators.\n",
    "\n",
    "Expressions evaluate whatever is provided to it.\n",
    "\n",
    "Expressions can be of many types such as Arithmetic (+, -, *, /), Relational (>, <, >=, <=) etc."
   ]
  },
  {
   "cell_type": "markdown",
   "id": "cdaa15db",
   "metadata": {},
   "source": [
    "Question-5"
   ]
  },
  {
   "cell_type": "markdown",
   "id": "f7c398a9",
   "metadata": {},
   "source": [
    "An expression always evaluates to a value, whereas, an assignment statement is simply the assignment of some value to a variable. Other than this, there may also be simple. compound or expression statements."
   ]
  },
  {
   "cell_type": "markdown",
   "id": "02396d06",
   "metadata": {},
   "source": [
    "Question-6"
   ]
  },
  {
   "cell_type": "code",
   "execution_count": 6,
   "id": "6f5107ad",
   "metadata": {},
   "outputs": [],
   "source": [
    "bacon = 22"
   ]
  },
  {
   "cell_type": "code",
   "execution_count": 7,
   "id": "1df7933a",
   "metadata": {},
   "outputs": [
    {
     "data": {
      "text/plain": [
       "23"
      ]
     },
     "execution_count": 7,
     "metadata": {},
     "output_type": "execute_result"
    }
   ],
   "source": [
    "bacon + 1"
   ]
  },
  {
   "cell_type": "markdown",
   "id": "130e7cdc",
   "metadata": {},
   "source": [
    "Question-7"
   ]
  },
  {
   "cell_type": "code",
   "execution_count": 4,
   "id": "41f79616",
   "metadata": {},
   "outputs": [
    {
     "data": {
      "text/plain": [
       "'spamspamspam'"
      ]
     },
     "execution_count": 4,
     "metadata": {},
     "output_type": "execute_result"
    }
   ],
   "source": [
    "'spam' + 'spamspam'"
   ]
  },
  {
   "cell_type": "code",
   "execution_count": 5,
   "id": "667bd1d4",
   "metadata": {},
   "outputs": [
    {
     "data": {
      "text/plain": [
       "'spamspamspam'"
      ]
     },
     "execution_count": 5,
     "metadata": {},
     "output_type": "execute_result"
    }
   ],
   "source": [
    "'spam' * 3"
   ]
  },
  {
   "cell_type": "markdown",
   "id": "ab506c20",
   "metadata": {},
   "source": [
    "Question-8"
   ]
  },
  {
   "cell_type": "markdown",
   "id": "ad0f05b8",
   "metadata": {},
   "source": [
    "In Python, a variable name cannot start with an integer, cannot have space or - anywhere in it. However, a variable name can start with an underscore and can contain integers in all the subsequent places."
   ]
  },
  {
   "cell_type": "markdown",
   "id": "0442fc2b",
   "metadata": {},
   "source": [
    "Question-9"
   ]
  },
  {
   "cell_type": "markdown",
   "id": "1557a51c",
   "metadata": {},
   "source": [
    "int(), str(), float()"
   ]
  },
  {
   "cell_type": "markdown",
   "id": "8151b22b",
   "metadata": {},
   "source": [
    "Question-10"
   ]
  },
  {
   "cell_type": "code",
   "execution_count": 8,
   "id": "7aac741b",
   "metadata": {},
   "outputs": [
    {
     "ename": "TypeError",
     "evalue": "can only concatenate str (not \"int\") to str",
     "output_type": "error",
     "traceback": [
      "\u001b[1;31m---------------------------------------------------------------------------\u001b[0m",
      "\u001b[1;31mTypeError\u001b[0m                                 Traceback (most recent call last)",
      "\u001b[1;32m<ipython-input-8-9230c793b9b6>\u001b[0m in \u001b[0;36m<module>\u001b[1;34m\u001b[0m\n\u001b[1;32m----> 1\u001b[1;33m \u001b[1;34m'I have eaten'\u001b[0m \u001b[1;33m+\u001b[0m \u001b[1;36m99\u001b[0m \u001b[1;33m+\u001b[0m \u001b[1;34m'burritos'\u001b[0m\u001b[1;33m\u001b[0m\u001b[1;33m\u001b[0m\u001b[0m\n\u001b[0m",
      "\u001b[1;31mTypeError\u001b[0m: can only concatenate str (not \"int\") to str"
     ]
    }
   ],
   "source": [
    "'I have eaten' + 99 + 'burritos'"
   ]
  },
  {
   "cell_type": "markdown",
   "id": "45e7eb57",
   "metadata": {},
   "source": [
    "The Error occurs as  a string cannot be concatenated with an integer. To fix this, we must type-cast the integer into a string."
   ]
  },
  {
   "cell_type": "code",
   "execution_count": 11,
   "id": "df5c001f",
   "metadata": {},
   "outputs": [
    {
     "data": {
      "text/plain": [
       "'I have eaten 99 burritos'"
      ]
     },
     "execution_count": 11,
     "metadata": {},
     "output_type": "execute_result"
    }
   ],
   "source": [
    "'I have eaten' + ' ' + str(99) + ' ' + 'burritos'"
   ]
  }
 ],
 "metadata": {
  "kernelspec": {
   "display_name": "Python 3",
   "language": "python",
   "name": "python3"
  },
  "language_info": {
   "codemirror_mode": {
    "name": "ipython",
    "version": 3
   },
   "file_extension": ".py",
   "mimetype": "text/x-python",
   "name": "python",
   "nbconvert_exporter": "python",
   "pygments_lexer": "ipython3",
   "version": "3.8.8"
  }
 },
 "nbformat": 4,
 "nbformat_minor": 5
}
