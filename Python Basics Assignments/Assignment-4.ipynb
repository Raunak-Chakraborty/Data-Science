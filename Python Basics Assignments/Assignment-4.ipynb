{
 "cells": [
  {
   "cell_type": "markdown",
   "id": "e6975009",
   "metadata": {},
   "source": [
    "Question-1"
   ]
  },
  {
   "cell_type": "markdown",
   "id": "0f04b97b",
   "metadata": {},
   "source": [
    "[] is a syntactical notation which enclose lists in python. Lists are dynamically sized arrays, which may contain multiple data types. List items are ordered, changeable, and allow duplicate values."
   ]
  },
  {
   "cell_type": "markdown",
   "id": "e472f6ab",
   "metadata": {},
   "source": [
    "Question-2"
   ]
  },
  {
   "cell_type": "code",
   "execution_count": 1,
   "id": "8335487f",
   "metadata": {},
   "outputs": [],
   "source": [
    "spam = [2, 4, 6, 8, 10]"
   ]
  },
  {
   "cell_type": "code",
   "execution_count": 2,
   "id": "481cc7fd",
   "metadata": {},
   "outputs": [],
   "source": [
    "spam[2] = 'hello'"
   ]
  },
  {
   "cell_type": "code",
   "execution_count": 3,
   "id": "1b0a3bf8",
   "metadata": {},
   "outputs": [
    {
     "name": "stdout",
     "output_type": "stream",
     "text": [
      "[2, 4, 'hello', 8, 10]\n"
     ]
    }
   ],
   "source": [
    "print(spam)"
   ]
  },
  {
   "cell_type": "markdown",
   "id": "83cfb95d",
   "metadata": {},
   "source": [
    "Question-3"
   ]
  },
  {
   "cell_type": "code",
   "execution_count": 4,
   "id": "ed10e58b",
   "metadata": {},
   "outputs": [],
   "source": [
    "spam1 = ['a', 'b', 'c', 'd']"
   ]
  },
  {
   "cell_type": "code",
   "execution_count": 5,
   "id": "27023000",
   "metadata": {},
   "outputs": [
    {
     "data": {
      "text/plain": [
       "'d'"
      ]
     },
     "execution_count": 5,
     "metadata": {},
     "output_type": "execute_result"
    }
   ],
   "source": [
    "spam1[int(int('3'*2) / 11)]"
   ]
  },
  {
   "cell_type": "markdown",
   "id": "c46f409e",
   "metadata": {},
   "source": [
    "Question-4"
   ]
  },
  {
   "cell_type": "code",
   "execution_count": 6,
   "id": "d5e630fc",
   "metadata": {},
   "outputs": [
    {
     "data": {
      "text/plain": [
       "'d'"
      ]
     },
     "execution_count": 6,
     "metadata": {},
     "output_type": "execute_result"
    }
   ],
   "source": [
    "spam1[-1]"
   ]
  },
  {
   "cell_type": "markdown",
   "id": "a1e3897f",
   "metadata": {},
   "source": [
    "Question-5"
   ]
  },
  {
   "cell_type": "code",
   "execution_count": 7,
   "id": "b394857b",
   "metadata": {},
   "outputs": [
    {
     "data": {
      "text/plain": [
       "['a', 'b']"
      ]
     },
     "execution_count": 7,
     "metadata": {},
     "output_type": "execute_result"
    }
   ],
   "source": [
    "spam1[:2]"
   ]
  },
  {
   "cell_type": "markdown",
   "id": "38975719",
   "metadata": {},
   "source": [
    "Question-6"
   ]
  },
  {
   "cell_type": "code",
   "execution_count": 8,
   "id": "5aff2aa5",
   "metadata": {},
   "outputs": [],
   "source": [
    "bacon = [3.14, 'cat', 11, 'cat', True]"
   ]
  },
  {
   "cell_type": "code",
   "execution_count": 9,
   "id": "4947bd1e",
   "metadata": {},
   "outputs": [
    {
     "data": {
      "text/plain": [
       "1"
      ]
     },
     "execution_count": 9,
     "metadata": {},
     "output_type": "execute_result"
    }
   ],
   "source": [
    "bacon.index('cat')"
   ]
  },
  {
   "cell_type": "markdown",
   "id": "b7940142",
   "metadata": {},
   "source": [
    "Question-7"
   ]
  },
  {
   "cell_type": "code",
   "execution_count": 10,
   "id": "4084a3e9",
   "metadata": {},
   "outputs": [],
   "source": [
    "bacon.append(99)"
   ]
  },
  {
   "cell_type": "code",
   "execution_count": 11,
   "id": "ae7ed599",
   "metadata": {},
   "outputs": [
    {
     "name": "stdout",
     "output_type": "stream",
     "text": [
      "[3.14, 'cat', 11, 'cat', True, 99]\n"
     ]
    }
   ],
   "source": [
    "print(bacon)"
   ]
  },
  {
   "cell_type": "markdown",
   "id": "329fcf35",
   "metadata": {},
   "source": [
    "Question-8"
   ]
  },
  {
   "cell_type": "code",
   "execution_count": 12,
   "id": "2bc644d2",
   "metadata": {},
   "outputs": [],
   "source": [
    "bacon.remove('cat')"
   ]
  },
  {
   "cell_type": "code",
   "execution_count": 13,
   "id": "e998c9ee",
   "metadata": {},
   "outputs": [
    {
     "name": "stdout",
     "output_type": "stream",
     "text": [
      "[3.14, 11, 'cat', True, 99]\n"
     ]
    }
   ],
   "source": [
    "print(bacon)"
   ]
  },
  {
   "cell_type": "markdown",
   "id": "24ce3949",
   "metadata": {},
   "source": [
    "Question-9"
   ]
  },
  {
   "cell_type": "markdown",
   "id": "b84b0b62",
   "metadata": {},
   "source": [
    "List Concatenation Operators : +, extend(), append(), *, itertools.chain() etc"
   ]
  },
  {
   "cell_type": "code",
   "execution_count": 14,
   "id": "2fc61ff7",
   "metadata": {},
   "outputs": [],
   "source": [
    "a = [1, 2, 3, 4]\n",
    "b = [5, 6, 7, 8]"
   ]
  },
  {
   "cell_type": "code",
   "execution_count": 15,
   "id": "306fc759",
   "metadata": {},
   "outputs": [
    {
     "name": "stdout",
     "output_type": "stream",
     "text": [
      "[1, 2, 3, 4, 5, 6, 7, 8]\n"
     ]
    }
   ],
   "source": [
    "print(a + b)"
   ]
  },
  {
   "cell_type": "code",
   "execution_count": 16,
   "id": "93ff4c4b",
   "metadata": {},
   "outputs": [
    {
     "name": "stdout",
     "output_type": "stream",
     "text": [
      "[1, 2, 3, 4, 5, 6, 7, 8]\n"
     ]
    }
   ],
   "source": [
    "a.extend(b)\n",
    "print(a)"
   ]
  },
  {
   "cell_type": "code",
   "execution_count": 17,
   "id": "b14df3f5",
   "metadata": {},
   "outputs": [
    {
     "name": "stdout",
     "output_type": "stream",
     "text": [
      "[1, 2, 3, 4, 5, 6, 7, 8, 5, 6, 7, 8]\n"
     ]
    }
   ],
   "source": [
    "for i in b:\n",
    "    a.append(i)\n",
    "print(a)"
   ]
  },
  {
   "cell_type": "code",
   "execution_count": 18,
   "id": "2c65cb19",
   "metadata": {},
   "outputs": [
    {
     "name": "stdout",
     "output_type": "stream",
     "text": [
      "[1, 2, 3, 4, 5, 6, 7, 8, 5, 6, 7, 8, 5, 6, 7, 8]\n"
     ]
    }
   ],
   "source": [
    "c = [*a, *b]\n",
    "print(c)"
   ]
  },
  {
   "cell_type": "code",
   "execution_count": 19,
   "id": "db8d015e",
   "metadata": {},
   "outputs": [
    {
     "name": "stdout",
     "output_type": "stream",
     "text": [
      "[1, 2, 3, 4, 5, 6, 7, 8, 5, 6, 7, 8, 5, 6, 7, 8]\n"
     ]
    }
   ],
   "source": [
    "import itertools\n",
    "d = list(itertools.chain(a,b))\n",
    "print(d)"
   ]
  },
  {
   "cell_type": "markdown",
   "id": "6d10c0be",
   "metadata": {},
   "source": [
    "List Replication Operators : cloning using slicing, extend(), list(), copy() etc."
   ]
  },
  {
   "cell_type": "code",
   "execution_count": 20,
   "id": "a654549f",
   "metadata": {},
   "outputs": [
    {
     "name": "stdout",
     "output_type": "stream",
     "text": [
      "[58, 69, 32, 87, 44]\n"
     ]
    }
   ],
   "source": [
    "x = [58, 69, 32, 87, 44]\n",
    "x_copy1 = x[:]\n",
    "print(x_copy1)"
   ]
  },
  {
   "cell_type": "code",
   "execution_count": 21,
   "id": "37c6b424",
   "metadata": {},
   "outputs": [
    {
     "name": "stdout",
     "output_type": "stream",
     "text": [
      "[58, 69, 32, 87, 44]\n"
     ]
    }
   ],
   "source": [
    "x_copy2 = []\n",
    "x_copy2.extend(x)\n",
    "print(x_copy2)"
   ]
  },
  {
   "cell_type": "code",
   "execution_count": 22,
   "id": "fa12dcb5",
   "metadata": {},
   "outputs": [
    {
     "name": "stdout",
     "output_type": "stream",
     "text": [
      "[58, 69, 32, 87, 44]\n"
     ]
    }
   ],
   "source": [
    "x_copy3 = list(x)\n",
    "print(x_copy3)"
   ]
  },
  {
   "cell_type": "code",
   "execution_count": 23,
   "id": "3ceea752",
   "metadata": {},
   "outputs": [
    {
     "name": "stdout",
     "output_type": "stream",
     "text": [
      "[58, 69, 32, 87, 44]\n"
     ]
    }
   ],
   "source": [
    "x_copy4 = x.copy()\n",
    "print(x_copy4)"
   ]
  },
  {
   "cell_type": "markdown",
   "id": "d42c02bd",
   "metadata": {},
   "source": [
    "Question-10"
   ]
  },
  {
   "cell_type": "markdown",
   "id": "6d150f18",
   "metadata": {},
   "source": [
    "append() always adds values to the end of a list, whereas using insert(), one can choose the index at which the value is to be added."
   ]
  },
  {
   "cell_type": "markdown",
   "id": "47a3d55c",
   "metadata": {},
   "source": [
    "Question-11"
   ]
  },
  {
   "cell_type": "markdown",
   "id": "f7e8edd9",
   "metadata": {},
   "source": [
    "Methods for removing items from a list : del statement, remove()"
   ]
  },
  {
   "cell_type": "code",
   "execution_count": 24,
   "id": "9e7a711c",
   "metadata": {},
   "outputs": [],
   "source": [
    "lst = ['Iris', 'Orchids', 'Rose', 'Lavender', 'Lily', 'Carnations']"
   ]
  },
  {
   "cell_type": "code",
   "execution_count": 25,
   "id": "963b272d",
   "metadata": {},
   "outputs": [
    {
     "name": "stdout",
     "output_type": "stream",
     "text": [
      "['Iris', 'Orchids', 'Lavender', 'Lily', 'Carnations']\n"
     ]
    }
   ],
   "source": [
    "del lst[2]\n",
    "print(lst)"
   ]
  },
  {
   "cell_type": "code",
   "execution_count": 26,
   "id": "cf829da1",
   "metadata": {},
   "outputs": [
    {
     "name": "stdout",
     "output_type": "stream",
     "text": [
      "['Iris', 'Orchids', 'Lavender', 'Carnations']\n"
     ]
    }
   ],
   "source": [
    "lst.remove('Lily')\n",
    "print(lst)"
   ]
  },
  {
   "cell_type": "markdown",
   "id": "2d76ea12",
   "metadata": {},
   "source": [
    "Question-12"
   ]
  },
  {
   "cell_type": "markdown",
   "id": "3bbec826",
   "metadata": {},
   "source": [
    "Both the elements of lists & strings have indices, can be used in a for loop, be concatenated & replicated."
   ]
  },
  {
   "cell_type": "markdown",
   "id": "b6e46acd",
   "metadata": {},
   "source": [
    "Question-13"
   ]
  },
  {
   "cell_type": "markdown",
   "id": "45218b5e",
   "metadata": {},
   "source": [
    "Lists : mutable, better for performing operations like insertion & deletion, consume more memory.\n",
    "Tuples : immutable, better for accessing the elements, consume less memory."
   ]
  },
  {
   "cell_type": "markdown",
   "id": "7072478d",
   "metadata": {},
   "source": [
    "Question-14"
   ]
  },
  {
   "cell_type": "code",
   "execution_count": 27,
   "id": "a9fba3c9",
   "metadata": {},
   "outputs": [
    {
     "data": {
      "text/plain": [
       "tuple"
      ]
     },
     "execution_count": 27,
     "metadata": {},
     "output_type": "execute_result"
    }
   ],
   "source": [
    "tupl = (42,)\n",
    "type(tupl)"
   ]
  },
  {
   "cell_type": "markdown",
   "id": "8bd32340",
   "metadata": {},
   "source": [
    "Question-15"
   ]
  },
  {
   "cell_type": "markdown",
   "id": "c7703888",
   "metadata": {},
   "source": [
    "by type-casting"
   ]
  },
  {
   "cell_type": "code",
   "execution_count": 28,
   "id": "3bdbea60",
   "metadata": {},
   "outputs": [
    {
     "name": "stdout",
     "output_type": "stream",
     "text": [
      "[1, 5, 6, 8]\n"
     ]
    }
   ],
   "source": [
    "t = (1, 5, 6, 8) \n",
    "print(list(t))"
   ]
  },
  {
   "cell_type": "code",
   "execution_count": 29,
   "id": "577db224",
   "metadata": {},
   "outputs": [
    {
     "name": "stdout",
     "output_type": "stream",
     "text": [
      "(55, 66, 88, 77)\n"
     ]
    }
   ],
   "source": [
    "l = [55, 66, 88, 77]\n",
    "print(tuple(l))"
   ]
  },
  {
   "cell_type": "markdown",
   "id": "600e913d",
   "metadata": {},
   "source": [
    "Question-16"
   ]
  },
  {
   "cell_type": "markdown",
   "id": "c0e09a65",
   "metadata": {},
   "source": [
    "They contain referrrences to list values"
   ]
  },
  {
   "cell_type": "markdown",
   "id": "ed1c38b8",
   "metadata": {},
   "source": [
    "Question-17"
   ]
  },
  {
   "cell_type": "markdown",
   "id": "4a6b50bf",
   "metadata": {},
   "source": []
  },
  {
   "cell_type": "code",
   "execution_count": 40,
   "id": "aea55c73",
   "metadata": {},
   "outputs": [
    {
     "name": "stdout",
     "output_type": "stream",
     "text": [
      "[5, 4, 8, 7, [1, 666, 3, 4]]\n"
     ]
    }
   ],
   "source": [
    "import copy\n",
    "li1 = [5, 4, 8 ,7, [1, 2, 3, 4]]\n",
    "\n",
    "li2 = copy.copy(li1)\n",
    "li2[4][1] = 666\n",
    "\n",
    "print(li1)"
   ]
  },
  {
   "cell_type": "code",
   "execution_count": 41,
   "id": "5253d33a",
   "metadata": {},
   "outputs": [
    {
     "name": "stdout",
     "output_type": "stream",
     "text": [
      "[8, 6, 5, 2, [10, 20, 30, 40]]\n"
     ]
    }
   ],
   "source": [
    "li4 = [8, 6, 5 ,2, [10, 20, 30, 40]]\n",
    "\n",
    "li5 = copy.deepcopy(li4)\n",
    "\n",
    "li5[4][1] = 999\n",
    "\n",
    "print(li4)"
   ]
  },
  {
   "cell_type": "markdown",
   "id": "f6751c27",
   "metadata": {},
   "source": [
    "A shallow copy simply copies the referrences of the original elements. Hence, when the copy is changed, so does the original. Whereas,  in case of deepcopy, a new object is constructed, followed by populating it recursively, as a result of which, changing the copy has no effect on the original."
   ]
  }
 ],
 "metadata": {
  "kernelspec": {
   "display_name": "Python 3",
   "language": "python",
   "name": "python3"
  },
  "language_info": {
   "codemirror_mode": {
    "name": "ipython",
    "version": 3
   },
   "file_extension": ".py",
   "mimetype": "text/x-python",
   "name": "python",
   "nbconvert_exporter": "python",
   "pygments_lexer": "ipython3",
   "version": "3.8.8"
  }
 },
 "nbformat": 4,
 "nbformat_minor": 5
}
