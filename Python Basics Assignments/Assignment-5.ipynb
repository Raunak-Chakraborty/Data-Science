{
 "cells": [
  {
   "cell_type": "markdown",
   "id": "63a45ace",
   "metadata": {},
   "source": [
    "Question-1"
   ]
  },
  {
   "cell_type": "code",
   "execution_count": 1,
   "id": "fc560f74",
   "metadata": {},
   "outputs": [],
   "source": [
    "dic1 = {}  # Empty Dictionary"
   ]
  },
  {
   "cell_type": "markdown",
   "id": "41a5f982",
   "metadata": {},
   "source": [
    "Question-2"
   ]
  },
  {
   "cell_type": "code",
   "execution_count": 2,
   "id": "acc3eb9e",
   "metadata": {},
   "outputs": [],
   "source": [
    "dic2 = {'foo' : 42}"
   ]
  },
  {
   "cell_type": "markdown",
   "id": "7eec06ca",
   "metadata": {},
   "source": [
    "Question-3"
   ]
  },
  {
   "cell_type": "markdown",
   "id": "17c384ce",
   "metadata": {},
   "source": [
    "Dictionaries hold data values like a map, while lists hold single values. In lists, elements are accessed by their indices (which are integers), whereas in dictionaries, elements are accessed by keys (can be of any data-type)."
   ]
  },
  {
   "cell_type": "markdown",
   "id": "7392f177",
   "metadata": {},
   "source": [
    "Question-4"
   ]
  },
  {
   "cell_type": "code",
   "execution_count": 3,
   "id": "ffb8896b",
   "metadata": {},
   "outputs": [],
   "source": [
    "spam = {'bar' : 100}"
   ]
  },
  {
   "cell_type": "code",
   "execution_count": 4,
   "id": "1c269f01",
   "metadata": {},
   "outputs": [
    {
     "ename": "KeyError",
     "evalue": "'foo'",
     "output_type": "error",
     "traceback": [
      "\u001b[1;31m---------------------------------------------------------------------------\u001b[0m",
      "\u001b[1;31mKeyError\u001b[0m                                  Traceback (most recent call last)",
      "\u001b[1;32m<ipython-input-4-9b5a94d1de8d>\u001b[0m in \u001b[0;36m<module>\u001b[1;34m\u001b[0m\n\u001b[1;32m----> 1\u001b[1;33m \u001b[0mspam\u001b[0m\u001b[1;33m[\u001b[0m\u001b[1;34m'foo'\u001b[0m\u001b[1;33m]\u001b[0m\u001b[1;33m\u001b[0m\u001b[1;33m\u001b[0m\u001b[0m\n\u001b[0m",
      "\u001b[1;31mKeyError\u001b[0m: 'foo'"
     ]
    }
   ],
   "source": [
    "spam['foo']"
   ]
  },
  {
   "cell_type": "markdown",
   "id": "d5d02230",
   "metadata": {},
   "source": [
    "Question-5"
   ]
  },
  {
   "cell_type": "markdown",
   "id": "9e4bc6c0",
   "metadata": {},
   "source": [
    "There is no difference. Both will search for 'cat' in keys."
   ]
  },
  {
   "cell_type": "markdown",
   "id": "434cb90d",
   "metadata": {},
   "source": [
    "Question-6"
   ]
  },
  {
   "cell_type": "markdown",
   "id": "c28ee508",
   "metadata": {},
   "source": [
    "Expression 'cat' in spam will search in keys, whereas expression 'cat' in spam.values() will search for it in the values."
   ]
  },
  {
   "cell_type": "markdown",
   "id": "38fa9990",
   "metadata": {},
   "source": [
    "Question-7"
   ]
  },
  {
   "cell_type": "markdown",
   "id": "7e5ca600",
   "metadata": {},
   "source": [
    "spam.setdefault('color', 'black')\n",
    "\n",
    "The setdefault() method returns the value of the item with it's key. If the key does not exist, it adds the specified key-value pair in the dictionary."
   ]
  },
  {
   "cell_type": "markdown",
   "id": "1b85e6bd",
   "metadata": {},
   "source": [
    "Question-8"
   ]
  },
  {
   "cell_type": "markdown",
   "id": "451cd34f",
   "metadata": {},
   "source": [
    "For pretty printing dictionary values, we use the ppprint module & ppprint() method."
   ]
  }
 ],
 "metadata": {
  "kernelspec": {
   "display_name": "Python 3",
   "language": "python",
   "name": "python3"
  },
  "language_info": {
   "codemirror_mode": {
    "name": "ipython",
    "version": 3
   },
   "file_extension": ".py",
   "mimetype": "text/x-python",
   "name": "python",
   "nbconvert_exporter": "python",
   "pygments_lexer": "ipython3",
   "version": "3.8.8"
  }
 },
 "nbformat": 4,
 "nbformat_minor": 5
}
