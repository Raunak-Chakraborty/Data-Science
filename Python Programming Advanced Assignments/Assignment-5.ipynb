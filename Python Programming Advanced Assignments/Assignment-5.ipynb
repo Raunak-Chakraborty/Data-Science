{
 "cells": [
  {
   "cell_type": "code",
   "execution_count": 1,
   "id": "d01d7480",
   "metadata": {},
   "outputs": [],
   "source": [
    "import logging as lg\n",
    "lg.basicConfig(filename = 'log5.log', level = lg.INFO, format = '%(asctime)s %(name)s %(message)s')"
   ]
  },
  {
   "cell_type": "markdown",
   "id": "d45e77c9",
   "metadata": {},
   "source": [
    "# Question-1"
   ]
  },
  {
   "cell_type": "code",
   "execution_count": 2,
   "id": "4b6a648b",
   "metadata": {},
   "outputs": [
    {
     "data": {
      "text/plain": [
       "2"
      ]
     },
     "execution_count": 2,
     "metadata": {},
     "output_type": "execute_result"
    }
   ],
   "source": [
    "def odd_even(n):\n",
    "    return_array = [8, 2]\n",
    "    return return_array[n % 2]\n",
    "\n",
    "odd_even(65)"
   ]
  },
  {
   "cell_type": "markdown",
   "id": "52e6cad0",
   "metadata": {},
   "source": [
    "# Question-2"
   ]
  },
  {
   "cell_type": "code",
   "execution_count": 3,
   "id": "69e780ea",
   "metadata": {},
   "outputs": [
    {
     "name": "stdout",
     "output_type": "stream",
     "text": [
      "None\n"
     ]
    }
   ],
   "source": [
    "def majority(a):\n",
    "    try:\n",
    "        lg.info('The user input is : {}'.format(a))\n",
    "        for i in set(a):\n",
    "            if a.count(i) > int(len(a)/2):\n",
    "                return i\n",
    "        else:\n",
    "            print('None')\n",
    "        \n",
    "    except Exception as e:\n",
    "        print('Check log for error')\n",
    "        lg.info('An error occured here')\n",
    "        lg.exception(e)\n",
    "        \n",
    "majority([25, 65, 45 ,78, 45, 36])"
   ]
  },
  {
   "cell_type": "markdown",
   "id": "6436d733",
   "metadata": {},
   "source": [
    "# Question-3"
   ]
  },
  {
   "cell_type": "code",
   "execution_count": 4,
   "id": "1dd9445b",
   "metadata": {},
   "outputs": [
    {
     "data": {
      "text/plain": [
       "'These ******* delights have ******* ends'"
      ]
     },
     "execution_count": 4,
     "metadata": {},
     "output_type": "execute_result"
    }
   ],
   "source": [
    "def censor(b, c, d):\n",
    "    try:\n",
    "        lg.info('The user input is : {}'.format(b, c, d))\n",
    "        result = ''\n",
    "        for i in b.split():\n",
    "            for j in c:\n",
    "                if i == j:\n",
    "                    result = b.replace(i, d*len(i))\n",
    "        return result\n",
    "    \n",
    "    except Exception as e:\n",
    "        print('Check log for error')\n",
    "        lg.info('An error occured here')\n",
    "        lg.exception(e)\n",
    "        \n",
    "censor('These violent delights have violent ends', ['violent'], '*')        "
   ]
  },
  {
   "cell_type": "markdown",
   "id": "48ae6d07",
   "metadata": {},
   "source": [
    "# Question-4"
   ]
  },
  {
   "cell_type": "code",
   "execution_count": 5,
   "id": "12a61e41",
   "metadata": {},
   "outputs": [
    {
     "data": {
      "text/plain": [
       "False"
      ]
     },
     "execution_count": 5,
     "metadata": {},
     "output_type": "execute_result"
    }
   ],
   "source": [
    "def magic_number(e):\n",
    "    try:\n",
    "        lg.info('The user input is : {}'.format(e))\n",
    "        x = [i for i in str(e)]    \n",
    "        for i in range(1, len(x)):\n",
    "            if int(''.join(x[:i])) % (i+1) == 0:\n",
    "                return True\n",
    "            else:\n",
    "                return False\n",
    "            \n",
    "    except Exception as e:\n",
    "        print('Check log for error')\n",
    "        lg.info('An error occured here')\n",
    "        lg.exception(e)        \n",
    "        \n",
    "magic_number(123220)"
   ]
  },
  {
   "cell_type": "markdown",
   "id": "89615d8c",
   "metadata": {},
   "source": [
    "# Question-5"
   ]
  },
  {
   "cell_type": "code",
   "execution_count": 6,
   "id": "e2d24711",
   "metadata": {},
   "outputs": [
    {
     "data": {
      "text/plain": [
       "17"
      ]
     },
     "execution_count": 6,
     "metadata": {},
     "output_type": "execute_result"
    }
   ],
   "source": [
    "def prime_sum(f):\n",
    "    try:\n",
    "        lg.info('The user input is : {}'.format(f))\n",
    "        result = 0\n",
    "        for i in f:\n",
    "            if i == 1:\n",
    "                continue\n",
    "            elif i == 2:\n",
    "                result += i\n",
    "            else:\n",
    "                for j in range(2, (i//2)+1):\n",
    "                    if i % j == 0:\n",
    "                        break\n",
    "                else:\n",
    "                    result += i\n",
    "        return result\n",
    "    \n",
    "    except Exception as e:\n",
    "        print('Check log for error')\n",
    "        lg.info('An error occured here')\n",
    "        lg.exception(e)\n",
    "        \n",
    "\n",
    "prime_sum([1, 2, 3, 4, 5, 6, 7, 8, 9, 10])            "
   ]
  }
 ],
 "metadata": {
  "kernelspec": {
   "display_name": "Python 3",
   "language": "python",
   "name": "python3"
  },
  "language_info": {
   "codemirror_mode": {
    "name": "ipython",
    "version": 3
   },
   "file_extension": ".py",
   "mimetype": "text/x-python",
   "name": "python",
   "nbconvert_exporter": "python",
   "pygments_lexer": "ipython3",
   "version": "3.8.8"
  }
 },
 "nbformat": 4,
 "nbformat_minor": 5
}
