{
 "cells": [
  {
   "cell_type": "code",
   "execution_count": 15,
   "id": "b4a4c900",
   "metadata": {},
   "outputs": [],
   "source": [
    "import logging as lg\n",
    "lg.basicConfig(filename = 'log1.log', level = lg.INFO, format = '%(asctime)s %(name)s %(message)s')"
   ]
  },
  {
   "cell_type": "markdown",
   "id": "972e6761",
   "metadata": {},
   "source": [
    "# Question-1"
   ]
  },
  {
   "cell_type": "code",
   "execution_count": 16,
   "id": "5d9285f7",
   "metadata": {},
   "outputs": [
    {
     "data": {
      "text/plain": [
       "7"
      ]
     },
     "execution_count": 16,
     "metadata": {},
     "output_type": "execute_result"
    }
   ],
   "source": [
    "def check_score(a):\n",
    "    try:\n",
    "        lg.info('Input by User : List of lists : {}'.format(a))\n",
    "        ref_dict = {'#':5, 'O':3, 'X':1, '!':-1, '!!':-3, '!!!':-5}\n",
    "        result = 0\n",
    "        for i in a:\n",
    "            for j in i:\n",
    "                result += ref_dict[j]\n",
    "        if result > 0:\n",
    "            return result\n",
    "        else:\n",
    "            return 0\n",
    "        \n",
    "    except Exception as e:\n",
    "        print('check log for errors')\n",
    "        lg.error('Error occured here')\n",
    "        lg.exception(e)\n",
    "    \n",
    "check_score([['#', '!'], ['!!!', 'O', '#']])"
   ]
  },
  {
   "cell_type": "markdown",
   "id": "4ea6cf4c",
   "metadata": {},
   "source": [
    "# Question-2"
   ]
  },
  {
   "cell_type": "code",
   "execution_count": 20,
   "id": "9c510747",
   "metadata": {},
   "outputs": [
    {
     "data": {
      "text/plain": [
       "84.0"
      ]
     },
     "execution_count": 20,
     "metadata": {},
     "output_type": "execute_result"
    }
   ],
   "source": [
    "import math\n",
    "def combination(*args):\n",
    "    try:\n",
    "        lg.info('The user inputs are : {}'.format(args))\n",
    "        result = 1\n",
    "        for i in args:\n",
    "            result *= math.factorial(i)/((math.factorial(1)) * (math.factorial(i-1)))\n",
    "        return result\n",
    "    except Exception as e:\n",
    "        print('Check log for errors')\n",
    "        lg.error('Error occured here')\n",
    "        lg.exception(e)\n",
    "    \n",
    "combination(3,7,4)    "
   ]
  },
  {
   "cell_type": "markdown",
   "id": "20616f27",
   "metadata": {},
   "source": [
    "# Question-3"
   ]
  },
  {
   "cell_type": "code",
   "execution_count": 26,
   "id": "13a4be62",
   "metadata": {},
   "outputs": [
    {
     "data": {
      "text/plain": [
       "'......-...--. --. -.-.--'"
      ]
     },
     "execution_count": 26,
     "metadata": {},
     "output_type": "execute_result"
    }
   ],
   "source": [
    "def morse(b):\n",
    "    try:\n",
    "        lg.info('The user input is : {}'.format(b))\n",
    "        result = ''\n",
    "\n",
    "        char_to_dots = {\n",
    "        'A': '.-', 'B': '-...', 'C': '-.-.', 'D': '-..', 'E': '.', 'F': '..-.',\n",
    "        'G': '--.', 'H': '....', 'I': '..', 'J': '.---', 'K': '-.-', 'L': '.-..',\n",
    "        'M': '--', 'N': '-.', 'O': '---', 'P': '.--.', 'Q': '--.-', 'R': '.-.',\n",
    "        'S': '...', 'T': '-', 'U': '..-', 'V': '...-', 'W': '.--', 'X': '-..-',\n",
    "        'Y': '-.--', 'Z': '--..', ' ': ' ', '0': '-----',\n",
    "        '1': '.----', '2': '..---', '3': '...--', '4': '....-', '5': '.....',\n",
    "        '6': '-....', '7': '--...', '8': '---..', '9': '----.',\n",
    "        '&': '.-...', \"'\": '.----.', '@': '.--.-.', ')': '-.--.-', '(': '-.--.',\n",
    "        ':': '---...', ',': '--..--', '=': '-...-', '!': '-.-.--', '.': '.-.-.-',\n",
    "        '-': '-....-', '+': '.-.-.', '\"': '.-..-.', '?': '..--..', '/': '-..-.'\n",
    "        }\n",
    "\n",
    "        for i in b:\n",
    "            result += char_to_dots[i]\n",
    "\n",
    "        return result\n",
    "    except Exception as e:\n",
    "        print('Check log for errors')\n",
    "        lg.error('Error occured here')\n",
    "        lg.exception(e)\n",
    "\n",
    "morse('HELP ME !')"
   ]
  },
  {
   "cell_type": "markdown",
   "id": "d13ed2a8",
   "metadata": {},
   "source": [
    "# Question-4"
   ]
  },
  {
   "cell_type": "code",
   "execution_count": 34,
   "id": "9eb4f0b4",
   "metadata": {},
   "outputs": [
    {
     "data": {
      "text/plain": [
       "'not prime'"
      ]
     },
     "execution_count": 34,
     "metadata": {},
     "output_type": "execute_result"
    }
   ],
   "source": [
    "def prime(c):\n",
    "    try:\n",
    "        lg.info('The user input is : {}'.format(c))\n",
    "        for i in range(2, int(c/2)+1):\n",
    "            if c%i == 0:\n",
    "                return ('not prime')\n",
    "        else:\n",
    "            return ('is prime')\n",
    "    except Exception as e:\n",
    "        print('Check log for errors')\n",
    "        lg.error('Error occured here')\n",
    "        lg.exception(e)\n",
    "\n",
    "prime(27)"
   ]
  },
  {
   "cell_type": "markdown",
   "id": "efc1b662",
   "metadata": {},
   "source": [
    "# Question-5"
   ]
  },
  {
   "cell_type": "code",
   "execution_count": 43,
   "id": "6a7b1907",
   "metadata": {},
   "outputs": [
    {
     "data": {
      "text/plain": [
       "[True, True, True, True, True, True, True, False, True, False]"
      ]
     },
     "execution_count": 43,
     "metadata": {},
     "output_type": "execute_result"
    }
   ],
   "source": [
    "import string\n",
    "def word_to_bool(d):\n",
    "    try:\n",
    "        lg.info('The user input is : {}'.format(d))\n",
    "        letters = string.ascii_lowercase\n",
    "        result_list = []\n",
    "        for i in d:\n",
    "            if (letters.find(i) + 1) % 2 == 0:\n",
    "                result_list.append(bool(0))\n",
    "            else:\n",
    "                result_list.append(bool(1))\n",
    "        return result_list\n",
    "    except Exception as e:\n",
    "        print('Check log for errors')\n",
    "        lg.error('Error occured here')\n",
    "        lg.exception(e)\n",
    "            \n",
    "word_to_bool('aggamemnon')"
   ]
  }
 ],
 "metadata": {
  "kernelspec": {
   "display_name": "Python 3",
   "language": "python",
   "name": "python3"
  },
  "language_info": {
   "codemirror_mode": {
    "name": "ipython",
    "version": 3
   },
   "file_extension": ".py",
   "mimetype": "text/x-python",
   "name": "python",
   "nbconvert_exporter": "python",
   "pygments_lexer": "ipython3",
   "version": "3.8.8"
  }
 },
 "nbformat": 4,
 "nbformat_minor": 5
}
