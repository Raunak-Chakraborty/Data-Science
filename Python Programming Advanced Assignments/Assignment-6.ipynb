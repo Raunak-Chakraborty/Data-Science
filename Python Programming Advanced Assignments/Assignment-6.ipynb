{
 "cells": [
  {
   "cell_type": "code",
   "execution_count": 1,
   "id": "735cd573",
   "metadata": {},
   "outputs": [],
   "source": [
    "import logging as lg\n",
    "lg.basicConfig(filename = 'log6.log', level = lg.INFO, format = '%(asctime)s %(name)s %(message)s')"
   ]
  },
  {
   "cell_type": "markdown",
   "id": "7dbb3f77",
   "metadata": {},
   "source": [
    "# Question-1"
   ]
  },
  {
   "cell_type": "code",
   "execution_count": 2,
   "id": "4a0d2e0e",
   "metadata": {},
   "outputs": [
    {
     "data": {
      "text/plain": [
       "'t'"
      ]
     },
     "execution_count": 2,
     "metadata": {},
     "output_type": "execute_result"
    }
   ],
   "source": [
    "def find_extra(a, b):\n",
    "    try:\n",
    "        lg.info('The user-input is : {}'.format(a, b))\n",
    "        result = ''\n",
    "        s1 = sorted(a)\n",
    "        s2 = sorted(b)\n",
    "\n",
    "        for i in s2:\n",
    "            if s2.count(i) > s1.count(i):\n",
    "                result += i\n",
    "                break\n",
    "        return result\n",
    "    \n",
    "    except Exception as e:\n",
    "        print('Check Log for Error')\n",
    "        lg.info('An Error occured here')\n",
    "        lg.exception(e)\n",
    "            \n",
    "find_extra('dfjkrtt', 'trkdfjtt')"
   ]
  },
  {
   "cell_type": "markdown",
   "id": "c1b6e77d",
   "metadata": {},
   "source": [
    "# Question-2"
   ]
  },
  {
   "cell_type": "code",
   "execution_count": 3,
   "id": "245be6e5",
   "metadata": {},
   "outputs": [
    {
     "data": {
      "text/plain": [
       "[3, 1, 0, 1, 1, 1]"
      ]
     },
     "execution_count": 3,
     "metadata": {},
     "output_type": "execute_result"
    }
   ],
   "source": [
    "def type_list(*args):\n",
    "    try:\n",
    "        lg.info('The user-input is : {}'.format(args))\n",
    "        type_list = [int, str, bool, list, tuple, dict]\n",
    "        result = [0 for i in range(len(type_list))]\n",
    "        for i in args:\n",
    "            if type(i) in type_list:\n",
    "                element_index = type_list.index(type(i))\n",
    "                result[element_index] += 1\n",
    "\n",
    "        return result\n",
    "    \n",
    "    except Exception as e:\n",
    "        print('Check Log for Error')\n",
    "        lg.info('An Error occured here')\n",
    "        lg.exception(e)\n",
    "    \n",
    "type_list('dfdfghgh', [25, 68, 78, 'fgh'], {'a' : 45, 'b' : 56}, (1,6,8,7,4), 67, 57, 22)"
   ]
  },
  {
   "cell_type": "markdown",
   "id": "aa8a47df",
   "metadata": {},
   "source": [
    "# Question-3"
   ]
  },
  {
   "cell_type": "code",
   "execution_count": 4,
   "id": "c73fe4f2",
   "metadata": {},
   "outputs": [
    {
     "data": {
      "text/plain": [
       "['a', 'e', 'ea', 'eae', 'eaeea']"
      ]
     },
     "execution_count": 4,
     "metadata": {},
     "output_type": "execute_result"
    }
   ],
   "source": [
    "def fib_series(c, d):\n",
    "    try:\n",
    "        lg.info('The user-input is : {}'.format(c, d))\n",
    "        result = [d[0], d[1]]\n",
    "        for i in range(2, c):\n",
    "            result.append(result[i-1] + result[i-2])\n",
    "        return result\n",
    "    \n",
    "    except Exception as e:\n",
    "        print('Check Log for Error')\n",
    "        lg.info('An Error occured here')\n",
    "        lg.exception(e)\n",
    "\n",
    "fib_series(5, ['a', 'e'] )"
   ]
  },
  {
   "cell_type": "markdown",
   "id": "553655bf",
   "metadata": {},
   "source": [
    "# Question-4"
   ]
  },
  {
   "cell_type": "code",
   "execution_count": 5,
   "id": "5c25c41c",
   "metadata": {},
   "outputs": [
    {
     "data": {
      "text/plain": [
       "{'ones': 2, 'threes': 0, 'nines': 13}"
      ]
     },
     "execution_count": 5,
     "metadata": {},
     "output_type": "execute_result"
    }
   ],
   "source": [
    "def add_up(f):\n",
    "    try:\n",
    "        lg.info('The user-input is : {}'.format(f))\n",
    "        tracker = 0\n",
    "        result = {'ones' : 0, 'threes' : 0, 'nines' : 0}\n",
    "\n",
    "        a = f//9\n",
    "        tracker += a * 9\n",
    "        remains_1 = f - tracker\n",
    "        result['nines'] += a\n",
    "\n",
    "        b = remains_1//3\n",
    "        tracker += b * 3\n",
    "        remains_2 = f - tracker\n",
    "        result['threes'] += b\n",
    "\n",
    "        result['ones'] += remains_2\n",
    "\n",
    "        return result\n",
    "    \n",
    "    except Exception as e:\n",
    "        print('Check Log for Error')\n",
    "        lg.info('An Error occured here')\n",
    "        lg.exception(e)\n",
    "\n",
    "add_up(119)"
   ]
  },
  {
   "cell_type": "markdown",
   "id": "3a394b88",
   "metadata": {},
   "source": [
    "# Question-5"
   ]
  },
  {
   "cell_type": "code",
   "execution_count": 7,
   "id": "9ab6a2f2",
   "metadata": {},
   "outputs": [
    {
     "data": {
      "text/plain": [
       "21"
      ]
     },
     "execution_count": 7,
     "metadata": {},
     "output_type": "execute_result"
    }
   ],
   "source": [
    "def fib(g):\n",
    "    try:\n",
    "        lg.info('The user-input is : {}'.format(g))\n",
    "        result = [0, 1]\n",
    "        for i in range(2, g+1):\n",
    "            result.append(result[i-1] + result[i-2])\n",
    "\n",
    "        return result[-1]\n",
    "    \n",
    "    except Exception as e:\n",
    "        print('Check Log for Error')\n",
    "        lg.info('An Error occured here')\n",
    "        lg.exception(e)\n",
    "\n",
    "fib(8)"
   ]
  }
 ],
 "metadata": {
  "kernelspec": {
   "display_name": "Python 3",
   "language": "python",
   "name": "python3"
  },
  "language_info": {
   "codemirror_mode": {
    "name": "ipython",
    "version": 3
   },
   "file_extension": ".py",
   "mimetype": "text/x-python",
   "name": "python",
   "nbconvert_exporter": "python",
   "pygments_lexer": "ipython3",
   "version": "3.8.8"
  }
 },
 "nbformat": 4,
 "nbformat_minor": 5
}
