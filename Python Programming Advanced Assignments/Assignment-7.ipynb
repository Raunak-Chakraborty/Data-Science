{
 "cells": [
  {
   "cell_type": "markdown",
   "id": "aefefaa5",
   "metadata": {},
   "source": [
    "# Question-1"
   ]
  },
  {
   "cell_type": "code",
   "execution_count": 2,
   "id": "0068aded",
   "metadata": {},
   "outputs": [
    {
     "data": {
      "text/plain": [
       "5"
      ]
     },
     "execution_count": 2,
     "metadata": {},
     "output_type": "execute_result"
    }
   ],
   "source": [
    "def count_layers(a):\n",
    "    counter = 0\n",
    "    mid = len(a)//2\n",
    "    counter = mid + 1\n",
    "    return counter\n",
    "\n",
    "count_layers(\n",
    "['AAAAAAAAAAA',\n",
    "'AABBBBBBBAA',\n",
    "'AABCCCCCBAA',\n",
    "'AABCAAACBAA',\n",
    "'AABCADACBAA',\n",
    "'AABCAAACBAA',\n",
    "'AABCCCCCBAA',\n",
    "'AABBBBBBBAA',\n",
    "'AAAAAAAAAAA'])"
   ]
  },
  {
   "cell_type": "markdown",
   "id": "450c2978",
   "metadata": {},
   "source": [
    "# Question-2"
   ]
  },
  {
   "cell_type": "code",
   "execution_count": 3,
   "id": "4e7bf64e",
   "metadata": {},
   "outputs": [
    {
     "data": {
      "text/plain": [
       "9"
      ]
     },
     "execution_count": 3,
     "metadata": {},
     "output_type": "execute_result"
    }
   ],
   "source": [
    "def unique_styles(b):\n",
    "    all_styles = []\n",
    "    for i in b:          \n",
    "        all_styles.append(i.split(','))\n",
    "    all_styles_1 = [k for j in all_styles for k in j]    \n",
    "    return len(set(all_styles_1))\n",
    "\n",
    "unique_styles(['Dub,Dancehall',\n",
    "'Industrial,Heavy Metal',\n",
    "'Techno,Dubstep',\n",
    "'Synth-pop,Euro-Disco',\n",
    "'Industrial,Techno,Minimal'])"
   ]
  },
  {
   "cell_type": "markdown",
   "id": "fea5e6e8",
   "metadata": {},
   "source": [
    "# Question-3"
   ]
  },
  {
   "cell_type": "code",
   "execution_count": 8,
   "id": "3976aef0",
   "metadata": {},
   "outputs": [
    {
     "data": {
      "text/plain": [
       "'YES'"
      ]
     },
     "execution_count": 8,
     "metadata": {},
     "output_type": "execute_result"
    }
   ],
   "source": [
    "def is_prime(c):\n",
    "    primes = [2, 3, 5, 7, 11, 13, 17, 19, 23, 29, 31, 37, 41, 43, 47, 53, 59, 61, 67, 71, 73, 79, 83, 89, 97]\n",
    "    begin = 0\n",
    "    end = len(primes) - 1\n",
    "    \n",
    "    while begin <= end:\n",
    "        mid = (begin + end)//2\n",
    "        if c > primes[mid]:\n",
    "            begin = mid + 1\n",
    "        elif c < primes[mid]:\n",
    "            end = mid - 1\n",
    "        else:\n",
    "            return 'YES'\n",
    "    return \"NO\"\n",
    "\n",
    "is_prime(59)"
   ]
  },
  {
   "cell_type": "markdown",
   "id": "015d77d4",
   "metadata": {},
   "source": [
    "# Question-4"
   ]
  },
  {
   "cell_type": "code",
   "execution_count": 12,
   "id": "8bb295d7",
   "metadata": {},
   "outputs": [
    {
     "data": {
      "text/plain": [
       "5"
      ]
     },
     "execution_count": 12,
     "metadata": {},
     "output_type": "execute_result"
    }
   ],
   "source": [
    "import numpy as np\n",
    "def power_ranger(n, d, e):\n",
    "    num = []\n",
    "    for i in np.arange(d**(1/n), int(e**(1/n) + 1)):\n",
    "        num.append(i)\n",
    "    return len(num)\n",
    "\n",
    "power_ranger(2, 49, 128)"
   ]
  },
  {
   "cell_type": "markdown",
   "id": "6f0546f3",
   "metadata": {},
   "source": [
    "# Question-5"
   ]
  },
  {
   "cell_type": "code",
   "execution_count": 24,
   "id": "34b0f39e",
   "metadata": {},
   "outputs": [
    {
     "data": {
      "text/plain": [
       "7709823"
      ]
     },
     "execution_count": 24,
     "metadata": {},
     "output_type": "execute_result"
    }
   ],
   "source": [
    "def rearange_dif(number):\n",
    "    desc_order = sorted(str(number), reverse=True)\n",
    "    asc_order = sorted(str(number))\n",
    "    return int(\"\".join(desc_order)) - int(\"\".join(asc_order))\n",
    "\n",
    "rearange_dif(3320707)"
   ]
  }
 ],
 "metadata": {
  "kernelspec": {
   "display_name": "Python 3",
   "language": "python",
   "name": "python3"
  },
  "language_info": {
   "codemirror_mode": {
    "name": "ipython",
    "version": 3
   },
   "file_extension": ".py",
   "mimetype": "text/x-python",
   "name": "python",
   "nbconvert_exporter": "python",
   "pygments_lexer": "ipython3",
   "version": "3.8.8"
  }
 },
 "nbformat": 4,
 "nbformat_minor": 5
}
