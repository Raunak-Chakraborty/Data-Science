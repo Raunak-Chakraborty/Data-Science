{
 "cells": [
  {
   "cell_type": "code",
   "execution_count": 1,
   "id": "50e0e265",
   "metadata": {},
   "outputs": [],
   "source": [
    "import logging as lg\n",
    "lg.basicConfig(filename = 'log2.log', level = lg.INFO, format = '%(asctime)s %(name)s %(message)s')"
   ]
  },
  {
   "cell_type": "markdown",
   "id": "eb364999",
   "metadata": {},
   "source": [
    "# Question-1"
   ]
  },
  {
   "cell_type": "code",
   "execution_count": 26,
   "id": "d853de55",
   "metadata": {},
   "outputs": [
    {
     "data": {
      "text/plain": [
       "141"
      ]
     },
     "execution_count": 26,
     "metadata": {},
     "output_type": "execute_result"
    }
   ],
   "source": [
    "def pent_dots(n):\n",
    "    try:\n",
    "        lg.info('The user-input is : {}'.format(n))\n",
    "        result = [0,1]\n",
    "        for i in range(2, n+1):\n",
    "            result.append(result[i-1] + (5*(i-1)))\n",
    "        return result[n]\n",
    "    \n",
    "    except Exception as e:\n",
    "        print('Check log for Error')\n",
    "        lg.error('An Error occured here')\n",
    "        lg.exception(e)\n",
    "\n",
    "pent_dots(8)"
   ]
  },
  {
   "cell_type": "markdown",
   "id": "1d3422ae",
   "metadata": {},
   "source": [
    "# Question-2"
   ]
  },
  {
   "cell_type": "code",
   "execution_count": 48,
   "id": "feaa5ad0",
   "metadata": {},
   "outputs": [
    {
     "data": {
      "text/plain": [
       "'0n0n0baca'"
      ]
     },
     "execution_count": 48,
     "metadata": {},
     "output_type": "execute_result"
    }
   ],
   "source": [
    "def encrypt(a):\n",
    "    try:\n",
    "        lg.info('The user-input is : {}'.format(a))\n",
    "        a_1 = a[::-1]\n",
    "        code_dict = {'a':0, 'e':1, 'i':2, 'o':3, 'u':4}\n",
    "        a_2 = []\n",
    "        for i in a_1:\n",
    "            if i in code_dict.keys():\n",
    "                a_2.append(str(code_dict[i]))\n",
    "            else:\n",
    "                a_2.append(i)\n",
    "        a_3 = ''.join(a_2) + 'aca'\n",
    "        return a_3\n",
    "    \n",
    "    except Exception as e:\n",
    "        print('Check log for Error')\n",
    "        lg.error('An Error occured here')\n",
    "        lg.exception(e)\n",
    "\n",
    "encrypt('banana')"
   ]
  },
  {
   "cell_type": "markdown",
   "id": "7cf0204a",
   "metadata": {},
   "source": [
    "# Question-3"
   ]
  },
  {
   "cell_type": "code",
   "execution_count": 50,
   "id": "50e313e3",
   "metadata": {},
   "outputs": [
    {
     "data": {
      "text/plain": [
       "True"
      ]
     },
     "execution_count": 50,
     "metadata": {},
     "output_type": "execute_result"
    }
   ],
   "source": [
    "import datetime\n",
    "def has_friday_13(m, y):\n",
    "    try:\n",
    "        lg.info('The year is : {}, and the month is : {}'.format(y, m))\n",
    "        x = datetime.datetime(y, m, 13)\n",
    "        if x.strftime('%A') == 'Friday':\n",
    "            return True\n",
    "        else:\n",
    "            return False\n",
    "        \n",
    "    except Exception as e:\n",
    "        print('Check log for Error')\n",
    "        lg.error('An Error occured here')\n",
    "        lg.exception(e)\n",
    "    \n",
    "has_friday_13(10, 2017)"
   ]
  },
  {
   "cell_type": "markdown",
   "id": "113b275f",
   "metadata": {},
   "source": [
    "# Question-4"
   ]
  },
  {
   "cell_type": "code",
   "execution_count": 54,
   "id": "fd442d0c",
   "metadata": {},
   "outputs": [
    {
     "data": {
      "text/plain": [
       "2"
      ]
     },
     "execution_count": 54,
     "metadata": {},
     "output_type": "execute_result"
    }
   ],
   "source": [
    "import re\n",
    "lst = [\"bad cookie\", \"good cookie\", \"bad cookie\", \"good cookie\", \"good cookie\"]\n",
    "pattern = r\"bad *cookie\"\n",
    "len(re.findall(pattern, \", \".join(lst))) "
   ]
  },
  {
   "cell_type": "markdown",
   "id": "429d8c1f",
   "metadata": {},
   "source": [
    "# Question-5"
   ]
  },
  {
   "cell_type": "code",
   "execution_count": 66,
   "id": "f8733d97",
   "metadata": {},
   "outputs": [
    {
     "data": {
      "text/plain": [
       "{'cows', 'pig'}"
      ]
     },
     "execution_count": 66,
     "metadata": {},
     "output_type": "execute_result"
    }
   ],
   "source": [
    "def pluralize(b):\n",
    "    try:\n",
    "        lg.info('The user-input is : {}'.format(b))\n",
    "        result = []\n",
    "        for i in b:\n",
    "            if b.count(i) > 1:\n",
    "                result.append(i + 's')\n",
    "            elif b.count(i) == 1:\n",
    "                result.append(i)\n",
    "        return set(result)\n",
    "    \n",
    "    except Exception as e:\n",
    "        print('Check log for Error')\n",
    "        lg.error('An Error occured here')\n",
    "        lg.exception(e)\n",
    "\n",
    "pluralize([\"cow\", \"pig\", \"cow\", \"cow\"])"
   ]
  }
 ],
 "metadata": {
  "kernelspec": {
   "display_name": "Python 3",
   "language": "python",
   "name": "python3"
  },
  "language_info": {
   "codemirror_mode": {
    "name": "ipython",
    "version": 3
   },
   "file_extension": ".py",
   "mimetype": "text/x-python",
   "name": "python",
   "nbconvert_exporter": "python",
   "pygments_lexer": "ipython3",
   "version": "3.8.8"
  }
 },
 "nbformat": 4,
 "nbformat_minor": 5
}
