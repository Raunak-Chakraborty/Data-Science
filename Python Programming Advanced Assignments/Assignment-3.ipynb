{
 "cells": [
  {
   "cell_type": "code",
   "execution_count": 2,
   "id": "88839da6",
   "metadata": {},
   "outputs": [],
   "source": [
    "import logging as lg\n",
    "lg.basicConfig(filename = 'log3.log', level = lg.INFO, format = '%(asctime)s %(name)s %(message)s')"
   ]
  },
  {
   "cell_type": "markdown",
   "id": "0c9daea0",
   "metadata": {},
   "source": [
    "# Question-1"
   ]
  },
  {
   "cell_type": "code",
   "execution_count": 71,
   "id": "3917e28b",
   "metadata": {},
   "outputs": [
    {
     "data": {
      "text/plain": [
       "-1"
      ]
     },
     "execution_count": 71,
     "metadata": {},
     "output_type": "execute_result"
    }
   ],
   "source": [
    "import re\n",
    "def calc(a):\n",
    "    try:\n",
    "        lg.info('The user input is : {}'.format(a))\n",
    "        a_1 = re.compile('(\\d+|[^ 0-9])')\n",
    "        a_2 = re.findall(a_1, a)\n",
    "\n",
    "        if a_2[1] == '+':\n",
    "            return int(a_2[0]) + int(a_2[2])\n",
    "\n",
    "        elif a_2[1] == '-':\n",
    "            return int(a_2[0]) - int(a_2[2])\n",
    "\n",
    "        elif a_2[1] == '*':\n",
    "            return int(a_2[0]) * int(a_2[2])\n",
    "\n",
    "        elif a_2[1] == '/':\n",
    "            if int(a_2[2]) == 0:\n",
    "                return -1\n",
    "            else:\n",
    "                return int(a_2[0]) / int(a_2[2])\n",
    "            \n",
    "    except Exception as e:\n",
    "        print('Check Log for Error')\n",
    "        lg.error('An Error occured here')\n",
    "        lg.exception(e)\n",
    "\n",
    "calc('2 / 0')"
   ]
  },
  {
   "cell_type": "markdown",
   "id": "ae4c0a2f",
   "metadata": {},
   "source": [
    "# Question-2"
   ]
  },
  {
   "cell_type": "code",
   "execution_count": 72,
   "id": "ce687050",
   "metadata": {},
   "outputs": [
    {
     "data": {
      "text/plain": [
       "47.079"
      ]
     },
     "execution_count": 72,
     "metadata": {},
     "output_type": "execute_result"
    }
   ],
   "source": [
    "def perimeter(b):\n",
    "    try:\n",
    "        lg.info('The user input is : {}'.format(b))\n",
    "        t_1, t_2, t_3 = b[0], b[1], b[2]\n",
    "        t_12 = ((b[0][1] - b[1][1])**2 + (b[0][0] - b[1][0])**2) ** 0.5\n",
    "        t_13 = ((b[0][1] - b[2][1])**2 + (b[0][0] - b[2][0])**2) ** 0.5\n",
    "        t_23 = ((b[1][1] - b[2][1])**2 + (b[1][0] - b[2][0])**2) ** 0.5\n",
    "        return round(t_12 + t_23 + t_13, 3)\n",
    "\n",
    "    except Exception as e:\n",
    "        print('Check Log for Error')\n",
    "        lg.error('An Error occured here')\n",
    "        lg.exception(e)\n",
    "        \n",
    "perimeter([[15,7], [5,22], [11,1]])"
   ]
  },
  {
   "cell_type": "markdown",
   "id": "4f635d94",
   "metadata": {},
   "source": [
    "# Question-3"
   ]
  },
  {
   "cell_type": "code",
   "execution_count": 60,
   "id": "2d62544b",
   "metadata": {},
   "outputs": [
    {
     "data": {
      "text/plain": [
       "3"
      ]
     },
     "execution_count": 60,
     "metadata": {},
     "output_type": "execute_result"
    }
   ],
   "source": [
    "import numpy as np\n",
    "def skyscraper(c):\n",
    "    try:\n",
    "        lg.info('The user input is : {}'.format(c))\n",
    "        c_t = np.transpose(c)\n",
    "        result = []\n",
    "        for i in c_t:\n",
    "            result.append(sum(i))\n",
    "        return max(result)\n",
    "    \n",
    "    except Exception as e:\n",
    "        print('Check Log for Error')\n",
    "        lg.error('An Error occured here')\n",
    "        lg.exception(e)\n",
    "        \n",
    "skyscraper([[0, 0, 0, 0],\n",
    "            [0, 1, 0, 0],\n",
    "            [0, 1, 1, 0],\n",
    "            [1, 1, 1, 1]])         "
   ]
  },
  {
   "cell_type": "markdown",
   "id": "e391e914",
   "metadata": {},
   "source": [
    "# Question-4"
   ]
  },
  {
   "cell_type": "code",
   "execution_count": 65,
   "id": "d0c512f9",
   "metadata": {},
   "outputs": [
    {
     "data": {
      "text/plain": [
       "8200"
      ]
     },
     "execution_count": 65,
     "metadata": {},
     "output_type": "execute_result"
    }
   ],
   "source": [
    "def bonus(d):\n",
    "    try:\n",
    "        lg.info('The user input is : {}'.format(d))\n",
    "        if d <= 32:\n",
    "            return 0\n",
    "        elif d>32 and d<=40:\n",
    "            return 325*(d-32)\n",
    "        elif d>40 and d<=48:\n",
    "            return (325*8) + 550*(d-40)\n",
    "        elif d>48:\n",
    "            return (325*8) + (550*8) + 600*(d-48)\n",
    "        \n",
    "    except Exception as e:\n",
    "        print('Check Log for Error')\n",
    "        lg.error('An Error occured here')\n",
    "        lg.exception(e)\n",
    "    \n",
    "bonus(50)"
   ]
  },
  {
   "cell_type": "markdown",
   "id": "1c847c99",
   "metadata": {},
   "source": [
    "# Question-5"
   ]
  },
  {
   "cell_type": "code",
   "execution_count": 73,
   "id": "3ea6568a",
   "metadata": {},
   "outputs": [
    {
     "data": {
      "text/plain": [
       "True"
      ]
     },
     "execution_count": 73,
     "metadata": {},
     "output_type": "execute_result"
    }
   ],
   "source": [
    "def disarium(e):\n",
    "    try:\n",
    "        lg.info('The user input is : {}'.format(e))    \n",
    "        sumx = 0\n",
    "        e_1 = str(e)\n",
    "        a = [int(i) for i in e_1]\n",
    "        for j in a:\n",
    "            sumx += j ** (a.index(j) + 1)\n",
    "        if sumx == e:\n",
    "            return True\n",
    "        else:\n",
    "            return False\n",
    "        \n",
    "    except Exception as e:\n",
    "        print('Check Log for Error')\n",
    "        lg.error('An Error occured here')\n",
    "        lg.exception(e)\n",
    "        \n",
    "    \n",
    "disarium(135)"
   ]
  }
 ],
 "metadata": {
  "kernelspec": {
   "display_name": "Python 3",
   "language": "python",
   "name": "python3"
  },
  "language_info": {
   "codemirror_mode": {
    "name": "ipython",
    "version": 3
   },
   "file_extension": ".py",
   "mimetype": "text/x-python",
   "name": "python",
   "nbconvert_exporter": "python",
   "pygments_lexer": "ipython3",
   "version": "3.8.8"
  }
 },
 "nbformat": 4,
 "nbformat_minor": 5
}
