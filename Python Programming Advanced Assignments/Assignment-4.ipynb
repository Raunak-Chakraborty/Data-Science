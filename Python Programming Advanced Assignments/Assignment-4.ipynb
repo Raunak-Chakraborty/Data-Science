{
 "cells": [
  {
   "cell_type": "code",
   "execution_count": 1,
   "id": "1794e492",
   "metadata": {},
   "outputs": [],
   "source": [
    "import logging as lg\n",
    "lg.basicConfig(filename = 'log4.log', level = lg.INFO, format = '%(asctime)s %(name)s %(message)s')"
   ]
  },
  {
   "cell_type": "markdown",
   "id": "bdf27591",
   "metadata": {},
   "source": [
    "# Question-1"
   ]
  },
  {
   "cell_type": "code",
   "execution_count": 2,
   "id": "80664477",
   "metadata": {},
   "outputs": [
    {
     "data": {
      "text/plain": [
       "12586269025"
      ]
     },
     "execution_count": 2,
     "metadata": {},
     "output_type": "execute_result"
    }
   ],
   "source": [
    "def fast_fib(a):\n",
    "    try:\n",
    "        lg.info('The user input is : {}'.format(a))\n",
    "        fib_seq = [0, 1]\n",
    "        for i in range(2, a+1):\n",
    "            value = fib_seq[i-1] + fib_seq[i-2]\n",
    "            fib_seq.append(value)\n",
    "        return fib_seq[a]\n",
    "    \n",
    "    except Exception as e:\n",
    "        print('Check log for error')\n",
    "        lg.info('An error occured here')\n",
    "        lg.exception(e)\n",
    "\n",
    "fast_fib(50)"
   ]
  },
  {
   "cell_type": "markdown",
   "id": "ec27de85",
   "metadata": {},
   "source": [
    "# Question-2"
   ]
  },
  {
   "cell_type": "code",
   "execution_count": 3,
   "id": "24a5cff9",
   "metadata": {},
   "outputs": [
    {
     "data": {
      "text/plain": [
       "'48 65 72 6d 65 73 20 54 72 69 73 6d 65 67 69 73 74 75 73 '"
      ]
     },
     "execution_count": 3,
     "metadata": {},
     "output_type": "execute_result"
    }
   ],
   "source": [
    "def hexa_convert(b):\n",
    "    try:\n",
    "        lg.info('The user input is : {}'.format(b))\n",
    "        b_1 = ''\n",
    "        for i in b:\n",
    "            b_1 += hex(ord(i)).split('0x')[1]\n",
    "            b_1 += ' '\n",
    "        return b_1\n",
    "    \n",
    "    except Exception as e:\n",
    "        print('Check log for error')\n",
    "        lg.info('An error occured here')\n",
    "        lg.exception(e)\n",
    "\n",
    "hexa_convert('Hermes Trismegistus')    "
   ]
  },
  {
   "cell_type": "markdown",
   "id": "f332579f",
   "metadata": {},
   "source": [
    "# Question-3"
   ]
  },
  {
   "cell_type": "code",
   "execution_count": 4,
   "id": "4c01989e",
   "metadata": {},
   "outputs": [
    {
     "data": {
      "text/plain": [
       "'Where did my vowels go?'"
      ]
     },
     "execution_count": 4,
     "metadata": {},
     "output_type": "execute_result"
    }
   ],
   "source": [
    "def vowel_place(c, d):\n",
    "    try:\n",
    "        lg.info('The user input is : {}'.format(c, d))\n",
    "        result = ''\n",
    "        e = 0\n",
    "        for i in c:\n",
    "            if i == '*':\n",
    "                result += d[e]\n",
    "                e += 1\n",
    "            else:\n",
    "                result += i\n",
    "        return result\n",
    "    \n",
    "    except Exception as e:\n",
    "        print('Check log for error')\n",
    "        lg.info('An error occured here')\n",
    "        lg.exception(e)\n",
    "\n",
    "\n",
    "vowel_place('Wh*r* d*d my v*w*ls g*?', 'eeioeo')"
   ]
  },
  {
   "cell_type": "markdown",
   "id": "4ed62c13",
   "metadata": {},
   "source": [
    "# Question-4"
   ]
  },
  {
   "cell_type": "code",
   "execution_count": 5,
   "id": "8d72baa2",
   "metadata": {},
   "outputs": [
    {
     "data": {
      "text/plain": [
       "'dns.google'"
      ]
     },
     "execution_count": 5,
     "metadata": {},
     "output_type": "execute_result"
    }
   ],
   "source": [
    "import socket\n",
    "def get_domain(f):\n",
    "    return socket.gethostbyaddr(f)[0]\n",
    "\n",
    "get_domain(\"8.8.8.8\")"
   ]
  },
  {
   "cell_type": "markdown",
   "id": "6ca980f5",
   "metadata": {},
   "source": [
    "# Question-5"
   ]
  },
  {
   "cell_type": "code",
   "execution_count": 6,
   "id": "a0490ff6",
   "metadata": {},
   "outputs": [
    {
     "data": {
      "text/plain": [
       "288"
      ]
     },
     "execution_count": 6,
     "metadata": {},
     "output_type": "execute_result"
    }
   ],
   "source": [
    "def fac_of_fac(g):\n",
    "    try:\n",
    "        lg.info('The user input is : {}'.format(g))\n",
    "        factorial = 1\n",
    "        for i in range(1, g+1):\n",
    "            factorial_temp = 1\n",
    "            for j in range(1, i+1):\n",
    "                factorial_temp *= j\n",
    "            factorial *= factorial_temp\n",
    "        return factorial\n",
    "    \n",
    "    except Exception as e:\n",
    "        print('Check log for error')\n",
    "        lg.info('An error occured here')\n",
    "        lg.exception(e)\n",
    "\n",
    "fac_of_fac(4)"
   ]
  }
 ],
 "metadata": {
  "kernelspec": {
   "display_name": "Python 3",
   "language": "python",
   "name": "python3"
  },
  "language_info": {
   "codemirror_mode": {
    "name": "ipython",
    "version": 3
   },
   "file_extension": ".py",
   "mimetype": "text/x-python",
   "name": "python",
   "nbconvert_exporter": "python",
   "pygments_lexer": "ipython3",
   "version": "3.8.8"
  }
 },
 "nbformat": 4,
 "nbformat_minor": 5
}
